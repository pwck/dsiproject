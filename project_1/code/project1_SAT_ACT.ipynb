{
 "cells": [
  {
   "cell_type": "markdown",
   "metadata": {},
   "source": [
    "# SAT & ACT participation rate Analysis"
   ]
  },
  {
   "cell_type": "markdown",
   "metadata": {},
   "source": [
    "The first markdown cell in a notebook is a great place to provide an overview of your entire project. You will likely want to at least state your\n",
    "\n",
    "## Problem Statement"
   ]
  },
  {
   "cell_type": "markdown",
   "metadata": {},
   "source": [
    "With the new format for SAT released in March 2016. In this notebook we will be looking at the 2017 and 2018 participation rates by state for both SAT and ACT, to gain insights into which state would benefit most from investments to improve the SAT participation rates."
   ]
  },
  {
   "cell_type": "markdown",
   "metadata": {},
   "source": [
    "## Executive Summary\n",
    "\n",
    "The ACT participation has been surpassing the SAT in participation in recent years. With the new SAT format released in 2016, in an attempt to bolster their test. Here we take a look at SAT and ACT participation and scoring data by state in 2017 and 2018, to look at possible ways to increase SAT participation moving forward.\n",
    "\n",
    "### Contents:\n",
    "- [2017 Data Import & Cleaning](#2017-Data-Import-and-Cleaning)\n",
    "- [2018 Data Import and Cleaning](#2018-Data-Import-and-Cleaning)\n",
    "- [Exploratory Data Analysis](#Exploratory-Data-Analysis)\n",
    "- [Data Visualization](#Visualize-the-data)\n",
    "- [Descriptive and Inferential Statistics](#Descriptive-and-Inferential-Statistics)\n",
    "- [Outside Research](#Outside-Research)\n",
    "- [Conclusions and Recommendations](#Conclusions-and-Recommendations)"
   ]
  },
  {
   "cell_type": "markdown",
   "metadata": {},
   "source": [
    "**If you combine your problem statement, executive summary, data dictionary, and conclusions/recommendations, you have an amazing README.md file that quickly aligns your audience to the contents of your project.** Don't forget to cite your data sources!"
   ]
  },
  {
   "cell_type": "markdown",
   "metadata": {},
   "source": [
    "*All libraries used should be added here*"
   ]
  },
  {
   "cell_type": "code",
   "execution_count": 1,
   "metadata": {},
   "outputs": [],
   "source": [
    "#Imports:\n",
    "import pandas as pd\n",
    "import numpy as np\n",
    "import scipy.stats as stats\n",
    "import seaborn as sns\n",
    "import matplotlib.pyplot as plt\n",
    "\n",
    "#setting options for both pandas and numpy to show decimals up to 4 places\n",
    "pd.set_option('display.precision',4)\n",
    "np.set_printoptions(precision=4)"
   ]
  },
  {
   "cell_type": "markdown",
   "metadata": {},
   "source": [
    "## 2017 Data Import and Cleaning"
   ]
  },
  {
   "cell_type": "markdown",
   "metadata": {},
   "source": [
    "#### 1. Read In SAT & ACT  Data\n",
    "\n",
    "Read in the `sat_2017.csv` and `act_2017.csv` files and assign them to appropriately named pandas dataframes."
   ]
  },
  {
   "cell_type": "code",
   "execution_count": 2,
   "metadata": {},
   "outputs": [],
   "source": [
    "# Defining a dict to hold the filenames.\n",
    "# Reason for this is for the ease of changing the filenames and path,\n",
    "# without changing any other codes\n",
    "data_files = {\n",
    "    'sat_2017' : '../data/sat_2017.csv',\n",
    "    'act_2017' : '../data/act_2017.csv',\n",
    "    'sat_2018' : '../data/sat_2018.csv',\n",
    "    'act_2018' : '../data/act_2018_updated.csv'\n",
    "}\n",
    "\n",
    "# Loading the information into the respective dataframe\n",
    "sat_2017 = pd.read_csv(data_files['sat_2017'])\n",
    "act_2017 = pd.read_csv(data_files['act_2017'])\n",
    "sat_2018 = pd.read_csv(data_files['sat_2018'])\n",
    "act_2018 = pd.read_csv(data_files['act_2018'])"
   ]
  },
  {
   "cell_type": "markdown",
   "metadata": {},
   "source": [
    "#### 2. Display Data\n",
    "\n",
    "Print the first 10 rows of each dataframe to your jupyter notebook"
   ]
  },
  {
   "cell_type": "code",
   "execution_count": 3,
   "metadata": {},
   "outputs": [
    {
     "data": {
      "text/html": [
       "<div>\n",
       "<style scoped>\n",
       "    .dataframe tbody tr th:only-of-type {\n",
       "        vertical-align: middle;\n",
       "    }\n",
       "\n",
       "    .dataframe tbody tr th {\n",
       "        vertical-align: top;\n",
       "    }\n",
       "\n",
       "    .dataframe thead th {\n",
       "        text-align: right;\n",
       "    }\n",
       "</style>\n",
       "<table border=\"1\" class=\"dataframe\">\n",
       "  <thead>\n",
       "    <tr style=\"text-align: right;\">\n",
       "      <th></th>\n",
       "      <th>State</th>\n",
       "      <th>Participation</th>\n",
       "      <th>Evidence-Based Reading and Writing</th>\n",
       "      <th>Math</th>\n",
       "      <th>Total</th>\n",
       "    </tr>\n",
       "  </thead>\n",
       "  <tbody>\n",
       "    <tr>\n",
       "      <th>0</th>\n",
       "      <td>Alabama</td>\n",
       "      <td>5%</td>\n",
       "      <td>593</td>\n",
       "      <td>572</td>\n",
       "      <td>1165</td>\n",
       "    </tr>\n",
       "    <tr>\n",
       "      <th>1</th>\n",
       "      <td>Alaska</td>\n",
       "      <td>38%</td>\n",
       "      <td>547</td>\n",
       "      <td>533</td>\n",
       "      <td>1080</td>\n",
       "    </tr>\n",
       "    <tr>\n",
       "      <th>2</th>\n",
       "      <td>Arizona</td>\n",
       "      <td>30%</td>\n",
       "      <td>563</td>\n",
       "      <td>553</td>\n",
       "      <td>1116</td>\n",
       "    </tr>\n",
       "    <tr>\n",
       "      <th>3</th>\n",
       "      <td>Arkansas</td>\n",
       "      <td>3%</td>\n",
       "      <td>614</td>\n",
       "      <td>594</td>\n",
       "      <td>1208</td>\n",
       "    </tr>\n",
       "    <tr>\n",
       "      <th>4</th>\n",
       "      <td>California</td>\n",
       "      <td>53%</td>\n",
       "      <td>531</td>\n",
       "      <td>524</td>\n",
       "      <td>1055</td>\n",
       "    </tr>\n",
       "    <tr>\n",
       "      <th>5</th>\n",
       "      <td>Colorado</td>\n",
       "      <td>11%</td>\n",
       "      <td>606</td>\n",
       "      <td>595</td>\n",
       "      <td>1201</td>\n",
       "    </tr>\n",
       "    <tr>\n",
       "      <th>6</th>\n",
       "      <td>Connecticut</td>\n",
       "      <td>100%</td>\n",
       "      <td>530</td>\n",
       "      <td>512</td>\n",
       "      <td>1041</td>\n",
       "    </tr>\n",
       "    <tr>\n",
       "      <th>7</th>\n",
       "      <td>Delaware</td>\n",
       "      <td>100%</td>\n",
       "      <td>503</td>\n",
       "      <td>492</td>\n",
       "      <td>996</td>\n",
       "    </tr>\n",
       "    <tr>\n",
       "      <th>8</th>\n",
       "      <td>District of Columbia</td>\n",
       "      <td>100%</td>\n",
       "      <td>482</td>\n",
       "      <td>468</td>\n",
       "      <td>950</td>\n",
       "    </tr>\n",
       "    <tr>\n",
       "      <th>9</th>\n",
       "      <td>Florida</td>\n",
       "      <td>83%</td>\n",
       "      <td>520</td>\n",
       "      <td>497</td>\n",
       "      <td>1017</td>\n",
       "    </tr>\n",
       "  </tbody>\n",
       "</table>\n",
       "</div>"
      ],
      "text/plain": [
       "                  State Participation  Evidence-Based Reading and Writing  \\\n",
       "0               Alabama            5%                                 593   \n",
       "1                Alaska           38%                                 547   \n",
       "2               Arizona           30%                                 563   \n",
       "3              Arkansas            3%                                 614   \n",
       "4            California           53%                                 531   \n",
       "5              Colorado           11%                                 606   \n",
       "6           Connecticut          100%                                 530   \n",
       "7              Delaware          100%                                 503   \n",
       "8  District of Columbia          100%                                 482   \n",
       "9               Florida           83%                                 520   \n",
       "\n",
       "   Math  Total  \n",
       "0   572   1165  \n",
       "1   533   1080  \n",
       "2   553   1116  \n",
       "3   594   1208  \n",
       "4   524   1055  \n",
       "5   595   1201  \n",
       "6   512   1041  \n",
       "7   492    996  \n",
       "8   468    950  \n",
       "9   497   1017  "
      ]
     },
     "metadata": {},
     "output_type": "display_data"
    },
    {
     "name": "stdout",
     "output_type": "stream",
     "text": [
      "<class 'pandas.core.frame.DataFrame'>\n",
      "RangeIndex: 51 entries, 0 to 50\n",
      "Data columns (total 5 columns):\n",
      " #   Column                              Non-Null Count  Dtype \n",
      "---  ------                              --------------  ----- \n",
      " 0   State                               51 non-null     object\n",
      " 1   Participation                       51 non-null     object\n",
      " 2   Evidence-Based Reading and Writing  51 non-null     int64 \n",
      " 3   Math                                51 non-null     int64 \n",
      " 4   Total                               51 non-null     int64 \n",
      "dtypes: int64(3), object(2)\n",
      "memory usage: 2.1+ KB\n"
     ]
    }
   ],
   "source": [
    "# First 10 rows data for SAT 2017 and info of the dataframe\n",
    "display(sat_2017.head(10))\n",
    "\n",
    "# check info for the dataframe at the same time\n",
    "sat_2017.info()"
   ]
  },
  {
   "cell_type": "code",
   "execution_count": 4,
   "metadata": {},
   "outputs": [
    {
     "data": {
      "text/html": [
       "<div>\n",
       "<style scoped>\n",
       "    .dataframe tbody tr th:only-of-type {\n",
       "        vertical-align: middle;\n",
       "    }\n",
       "\n",
       "    .dataframe tbody tr th {\n",
       "        vertical-align: top;\n",
       "    }\n",
       "\n",
       "    .dataframe thead th {\n",
       "        text-align: right;\n",
       "    }\n",
       "</style>\n",
       "<table border=\"1\" class=\"dataframe\">\n",
       "  <thead>\n",
       "    <tr style=\"text-align: right;\">\n",
       "      <th></th>\n",
       "      <th>State</th>\n",
       "      <th>Participation</th>\n",
       "      <th>English</th>\n",
       "      <th>Math</th>\n",
       "      <th>Reading</th>\n",
       "      <th>Science</th>\n",
       "      <th>Composite</th>\n",
       "    </tr>\n",
       "  </thead>\n",
       "  <tbody>\n",
       "    <tr>\n",
       "      <th>0</th>\n",
       "      <td>National</td>\n",
       "      <td>60%</td>\n",
       "      <td>20.3</td>\n",
       "      <td>20.7</td>\n",
       "      <td>21.4</td>\n",
       "      <td>21.0</td>\n",
       "      <td>21.0</td>\n",
       "    </tr>\n",
       "    <tr>\n",
       "      <th>1</th>\n",
       "      <td>Alabama</td>\n",
       "      <td>100%</td>\n",
       "      <td>18.9</td>\n",
       "      <td>18.4</td>\n",
       "      <td>19.7</td>\n",
       "      <td>19.4</td>\n",
       "      <td>19.2</td>\n",
       "    </tr>\n",
       "    <tr>\n",
       "      <th>2</th>\n",
       "      <td>Alaska</td>\n",
       "      <td>65%</td>\n",
       "      <td>18.7</td>\n",
       "      <td>19.8</td>\n",
       "      <td>20.4</td>\n",
       "      <td>19.9</td>\n",
       "      <td>19.8</td>\n",
       "    </tr>\n",
       "    <tr>\n",
       "      <th>3</th>\n",
       "      <td>Arizona</td>\n",
       "      <td>62%</td>\n",
       "      <td>18.6</td>\n",
       "      <td>19.8</td>\n",
       "      <td>20.1</td>\n",
       "      <td>19.8</td>\n",
       "      <td>19.7</td>\n",
       "    </tr>\n",
       "    <tr>\n",
       "      <th>4</th>\n",
       "      <td>Arkansas</td>\n",
       "      <td>100%</td>\n",
       "      <td>18.9</td>\n",
       "      <td>19.0</td>\n",
       "      <td>19.7</td>\n",
       "      <td>19.5</td>\n",
       "      <td>19.4</td>\n",
       "    </tr>\n",
       "    <tr>\n",
       "      <th>5</th>\n",
       "      <td>California</td>\n",
       "      <td>31%</td>\n",
       "      <td>22.5</td>\n",
       "      <td>22.7</td>\n",
       "      <td>23.1</td>\n",
       "      <td>22.2</td>\n",
       "      <td>22.8</td>\n",
       "    </tr>\n",
       "    <tr>\n",
       "      <th>6</th>\n",
       "      <td>Colorado</td>\n",
       "      <td>100%</td>\n",
       "      <td>20.1</td>\n",
       "      <td>20.3</td>\n",
       "      <td>21.2</td>\n",
       "      <td>20.9</td>\n",
       "      <td>20.8</td>\n",
       "    </tr>\n",
       "    <tr>\n",
       "      <th>7</th>\n",
       "      <td>Connecticut</td>\n",
       "      <td>31%</td>\n",
       "      <td>25.5</td>\n",
       "      <td>24.6</td>\n",
       "      <td>25.6</td>\n",
       "      <td>24.6</td>\n",
       "      <td>25.2</td>\n",
       "    </tr>\n",
       "    <tr>\n",
       "      <th>8</th>\n",
       "      <td>Delaware</td>\n",
       "      <td>18%</td>\n",
       "      <td>24.1</td>\n",
       "      <td>23.4</td>\n",
       "      <td>24.8</td>\n",
       "      <td>23.6</td>\n",
       "      <td>24.1</td>\n",
       "    </tr>\n",
       "    <tr>\n",
       "      <th>9</th>\n",
       "      <td>District of Columbia</td>\n",
       "      <td>32%</td>\n",
       "      <td>24.4</td>\n",
       "      <td>23.5</td>\n",
       "      <td>24.9</td>\n",
       "      <td>23.5</td>\n",
       "      <td>24.2</td>\n",
       "    </tr>\n",
       "  </tbody>\n",
       "</table>\n",
       "</div>"
      ],
      "text/plain": [
       "                  State Participation  English  Math  Reading  Science  \\\n",
       "0              National           60%     20.3  20.7     21.4     21.0   \n",
       "1               Alabama          100%     18.9  18.4     19.7     19.4   \n",
       "2                Alaska           65%     18.7  19.8     20.4     19.9   \n",
       "3               Arizona           62%     18.6  19.8     20.1     19.8   \n",
       "4              Arkansas          100%     18.9  19.0     19.7     19.5   \n",
       "5            California           31%     22.5  22.7     23.1     22.2   \n",
       "6              Colorado          100%     20.1  20.3     21.2     20.9   \n",
       "7           Connecticut           31%     25.5  24.6     25.6     24.6   \n",
       "8              Delaware           18%     24.1  23.4     24.8     23.6   \n",
       "9  District of Columbia           32%     24.4  23.5     24.9     23.5   \n",
       "\n",
       "  Composite  \n",
       "0      21.0  \n",
       "1      19.2  \n",
       "2      19.8  \n",
       "3      19.7  \n",
       "4      19.4  \n",
       "5      22.8  \n",
       "6      20.8  \n",
       "7      25.2  \n",
       "8      24.1  \n",
       "9      24.2  "
      ]
     },
     "metadata": {},
     "output_type": "display_data"
    },
    {
     "name": "stdout",
     "output_type": "stream",
     "text": [
      "<class 'pandas.core.frame.DataFrame'>\n",
      "RangeIndex: 52 entries, 0 to 51\n",
      "Data columns (total 7 columns):\n",
      " #   Column         Non-Null Count  Dtype  \n",
      "---  ------         --------------  -----  \n",
      " 0   State          52 non-null     object \n",
      " 1   Participation  52 non-null     object \n",
      " 2   English        52 non-null     float64\n",
      " 3   Math           52 non-null     float64\n",
      " 4   Reading        52 non-null     float64\n",
      " 5   Science        52 non-null     float64\n",
      " 6   Composite      52 non-null     object \n",
      "dtypes: float64(4), object(3)\n",
      "memory usage: 3.0+ KB\n"
     ]
    }
   ],
   "source": [
    "# First 10 rows data for ACT 2017 and info of the dataframe\n",
    "display(act_2017.head(10))\n",
    "\n",
    "# check info for the dataframe at the same time\n",
    "act_2017.info()"
   ]
  },
  {
   "cell_type": "markdown",
   "metadata": {},
   "source": [
    "#### 3. Verbally Describe Data\n",
    "\n",
    "Take your time looking through the data and thoroughly describe the data in the markdown cell below. "
   ]
  },
  {
   "cell_type": "markdown",
   "metadata": {},
   "source": [
    "Answer:\n",
    "\n",
    "<span style=\"color:darkblue\">\n",
    "<h3> SAT 2017 Data </h3>\n",
    "\n",
    "| Column | Name  | Data Type | Description                                                              |\n",
    "|:-:|:--|:-: |:--|\n",
    "|   0    | State | Object    | Contains 51 states in America, with no Null values. |\n",
    "|   1    | Participation | Object | Contains 51 participation rate in percentage, with no Null values. Would have to remove the % at the end of the rates to convert the values to float/int. |\n",
    "|   2    | Evidence-Based Reading and Writing | int64 | Contains 51 average score for the Evidence-Based Reading and Writing pert of the test, with no Null values. |\n",
    "|   3    | Math | int64 | Contains 51 average score for the Math part of the test, with no Null values. |\n",
    "|   4    | Total | int64 | Contains 51 average combined score for the 2 parts above, with no Null values.  |\n",
    "\n",
    "    \n",
    "\n",
    "\n",
    "<h3> ACT 2017 Data </h3>\n",
    "    \n",
    "| Column | Name  | Data Type | Description                                                              |\n",
    "|:-:|:--|:-: |:--|\n",
    "|   0    | State | Object    | Contains 51 states in America and National (assumation that this is a total average). There are no Null values in this column. |\n",
    "|   1    | Participation | Object | Contains 52 participation rate in percentage, with no Null values. Would have to remove the % at the end of the rates to convert the values to float/int. |\n",
    "|   2    | English | float64 | Contains 52 average score for the English part of the test, with no Null values. |\n",
    "|   3    | Math | float64 | Contains 52 average score for the Math part of the test, with no Null values. |\n",
    "|   4    | Reading | float64 | Contains 52 average score for the Reading part of the test, with no Null values.  |\n",
    "|   5    | Science | float64 | Contains 52 average score for the Science part of the test, with no Null values. |\n",
    "|   6    | Composite | object | Contains 52 average score for the 4 parts above, with no Null values. Will have to investigate further on why the data type is Object |\n",
    "\n",
    "</span> "
   ]
  },
  {
   "cell_type": "markdown",
   "metadata": {},
   "source": [
    "#### 4a. Does the data look complete? "
   ]
  },
  {
   "cell_type": "markdown",
   "metadata": {},
   "source": [
    "Answer:\n",
    "\n",
    "Some data type conversion are required, other than that the data looks clean and complete."
   ]
  },
  {
   "cell_type": "markdown",
   "metadata": {},
   "source": [
    "#### 4b. Are there any obvious issues with the observations?\n",
    "\n",
    "**What is the minimum *possible* value for each test/subtest? What is the maximum *possible* value?**\n",
    "\n",
    "Consider comparing any questionable values to the sources of your data:\n",
    "- [SAT](https://blog.collegevine.com/here-are-the-average-sat-scores-by-state/)\n",
    "- [ACT](https://blog.prepscholar.com/act-scores-by-state-averages-highs-and-lows)"
   ]
  },
  {
   "cell_type": "code",
   "execution_count": 5,
   "metadata": {},
   "outputs": [
    {
     "data": {
      "text/html": [
       "<div>\n",
       "<style scoped>\n",
       "    .dataframe tbody tr th:only-of-type {\n",
       "        vertical-align: middle;\n",
       "    }\n",
       "\n",
       "    .dataframe tbody tr th {\n",
       "        vertical-align: top;\n",
       "    }\n",
       "\n",
       "    .dataframe thead th {\n",
       "        text-align: right;\n",
       "    }\n",
       "</style>\n",
       "<table border=\"1\" class=\"dataframe\">\n",
       "  <thead>\n",
       "    <tr style=\"text-align: right;\">\n",
       "      <th></th>\n",
       "      <th>Evidence-Based Reading and Writing</th>\n",
       "      <th>Math</th>\n",
       "      <th>Total</th>\n",
       "    </tr>\n",
       "  </thead>\n",
       "  <tbody>\n",
       "    <tr>\n",
       "      <th>count</th>\n",
       "      <td>51.0000</td>\n",
       "      <td>51.0000</td>\n",
       "      <td>51.0000</td>\n",
       "    </tr>\n",
       "    <tr>\n",
       "      <th>mean</th>\n",
       "      <td>569.1176</td>\n",
       "      <td>547.6275</td>\n",
       "      <td>1126.0980</td>\n",
       "    </tr>\n",
       "    <tr>\n",
       "      <th>std</th>\n",
       "      <td>45.6669</td>\n",
       "      <td>84.9091</td>\n",
       "      <td>92.4948</td>\n",
       "    </tr>\n",
       "    <tr>\n",
       "      <th>min</th>\n",
       "      <td>482.0000</td>\n",
       "      <td>52.0000</td>\n",
       "      <td>950.0000</td>\n",
       "    </tr>\n",
       "    <tr>\n",
       "      <th>25%</th>\n",
       "      <td>533.5000</td>\n",
       "      <td>522.0000</td>\n",
       "      <td>1055.5000</td>\n",
       "    </tr>\n",
       "    <tr>\n",
       "      <th>50%</th>\n",
       "      <td>559.0000</td>\n",
       "      <td>548.0000</td>\n",
       "      <td>1107.0000</td>\n",
       "    </tr>\n",
       "    <tr>\n",
       "      <th>75%</th>\n",
       "      <td>613.0000</td>\n",
       "      <td>599.0000</td>\n",
       "      <td>1212.0000</td>\n",
       "    </tr>\n",
       "    <tr>\n",
       "      <th>max</th>\n",
       "      <td>644.0000</td>\n",
       "      <td>651.0000</td>\n",
       "      <td>1295.0000</td>\n",
       "    </tr>\n",
       "  </tbody>\n",
       "</table>\n",
       "</div>"
      ],
      "text/plain": [
       "       Evidence-Based Reading and Writing      Math      Total\n",
       "count                             51.0000   51.0000    51.0000\n",
       "mean                             569.1176  547.6275  1126.0980\n",
       "std                               45.6669   84.9091    92.4948\n",
       "min                              482.0000   52.0000   950.0000\n",
       "25%                              533.5000  522.0000  1055.5000\n",
       "50%                              559.0000  548.0000  1107.0000\n",
       "75%                              613.0000  599.0000  1212.0000\n",
       "max                              644.0000  651.0000  1295.0000"
      ]
     },
     "execution_count": 5,
     "metadata": {},
     "output_type": "execute_result"
    }
   ],
   "source": [
    "sat_2017.describe()"
   ]
  },
  {
   "cell_type": "code",
   "execution_count": 6,
   "metadata": {},
   "outputs": [
    {
     "data": {
      "text/html": [
       "<div>\n",
       "<style scoped>\n",
       "    .dataframe tbody tr th:only-of-type {\n",
       "        vertical-align: middle;\n",
       "    }\n",
       "\n",
       "    .dataframe tbody tr th {\n",
       "        vertical-align: top;\n",
       "    }\n",
       "\n",
       "    .dataframe thead th {\n",
       "        text-align: right;\n",
       "    }\n",
       "</style>\n",
       "<table border=\"1\" class=\"dataframe\">\n",
       "  <thead>\n",
       "    <tr style=\"text-align: right;\">\n",
       "      <th></th>\n",
       "      <th>English</th>\n",
       "      <th>Math</th>\n",
       "      <th>Reading</th>\n",
       "      <th>Science</th>\n",
       "    </tr>\n",
       "  </thead>\n",
       "  <tbody>\n",
       "    <tr>\n",
       "      <th>count</th>\n",
       "      <td>52.0000</td>\n",
       "      <td>52.0000</td>\n",
       "      <td>52.0000</td>\n",
       "      <td>52.0000</td>\n",
       "    </tr>\n",
       "    <tr>\n",
       "      <th>mean</th>\n",
       "      <td>20.9192</td>\n",
       "      <td>21.1731</td>\n",
       "      <td>22.0019</td>\n",
       "      <td>21.0404</td>\n",
       "    </tr>\n",
       "    <tr>\n",
       "      <th>std</th>\n",
       "      <td>2.3321</td>\n",
       "      <td>1.9636</td>\n",
       "      <td>2.0487</td>\n",
       "      <td>3.1511</td>\n",
       "    </tr>\n",
       "    <tr>\n",
       "      <th>min</th>\n",
       "      <td>16.3000</td>\n",
       "      <td>18.0000</td>\n",
       "      <td>18.1000</td>\n",
       "      <td>2.3000</td>\n",
       "    </tr>\n",
       "    <tr>\n",
       "      <th>25%</th>\n",
       "      <td>19.0000</td>\n",
       "      <td>19.4000</td>\n",
       "      <td>20.4750</td>\n",
       "      <td>19.9000</td>\n",
       "    </tr>\n",
       "    <tr>\n",
       "      <th>50%</th>\n",
       "      <td>20.5500</td>\n",
       "      <td>20.9000</td>\n",
       "      <td>21.7000</td>\n",
       "      <td>21.1500</td>\n",
       "    </tr>\n",
       "    <tr>\n",
       "      <th>75%</th>\n",
       "      <td>23.3000</td>\n",
       "      <td>23.1000</td>\n",
       "      <td>24.1250</td>\n",
       "      <td>22.5250</td>\n",
       "    </tr>\n",
       "    <tr>\n",
       "      <th>max</th>\n",
       "      <td>25.5000</td>\n",
       "      <td>25.3000</td>\n",
       "      <td>26.0000</td>\n",
       "      <td>24.9000</td>\n",
       "    </tr>\n",
       "  </tbody>\n",
       "</table>\n",
       "</div>"
      ],
      "text/plain": [
       "       English     Math  Reading  Science\n",
       "count  52.0000  52.0000  52.0000  52.0000\n",
       "mean   20.9192  21.1731  22.0019  21.0404\n",
       "std     2.3321   1.9636   2.0487   3.1511\n",
       "min    16.3000  18.0000  18.1000   2.3000\n",
       "25%    19.0000  19.4000  20.4750  19.9000\n",
       "50%    20.5500  20.9000  21.7000  21.1500\n",
       "75%    23.3000  23.1000  24.1250  22.5250\n",
       "max    25.5000  25.3000  26.0000  24.9000"
      ]
     },
     "execution_count": 6,
     "metadata": {},
     "output_type": "execute_result"
    }
   ],
   "source": [
    "act_2017.describe()"
   ]
  },
  {
   "cell_type": "markdown",
   "metadata": {},
   "source": [
    "Answer: <br>\n",
    "The min score for SAT Math looks off, upon checking with the source found that it was a typo.\n",
    "The Math value for Maryland should be 524 instead of 52."
   ]
  },
  {
   "cell_type": "markdown",
   "metadata": {},
   "source": [
    "#### 4c. Fix any errors you identified\n",
    "\n",
    "**The data is available** so there's no need to guess or calculate anything. If you didn't find any errors, continue to the next step."
   ]
  },
  {
   "cell_type": "code",
   "execution_count": 7,
   "metadata": {},
   "outputs": [],
   "source": [
    "# Correcting the typo for 2017 SAT Math score for Maryland \n",
    "sat_2017.loc[sat_2017['State']=='Maryland', 'Math'] = 524"
   ]
  },
  {
   "cell_type": "code",
   "execution_count": 8,
   "metadata": {
    "scrolled": true
   },
   "outputs": [],
   "source": [
    "# Min score for ACT science looks too low, checked and found it's an error\n",
    "act_2017.loc[act_2017['State']=='Maryland', 'Science'] = 23.2"
   ]
  },
  {
   "cell_type": "markdown",
   "metadata": {},
   "source": [
    "#### 5. What are your data types? \n",
    "Display the data types of each feature. "
   ]
  },
  {
   "cell_type": "code",
   "execution_count": 9,
   "metadata": {},
   "outputs": [
    {
     "data": {
      "text/plain": [
       "State                                 object\n",
       "Participation                         object\n",
       "Evidence-Based Reading and Writing     int64\n",
       "Math                                   int64\n",
       "Total                                  int64\n",
       "dtype: object"
      ]
     },
     "execution_count": 9,
     "metadata": {},
     "output_type": "execute_result"
    }
   ],
   "source": [
    "sat_2017.dtypes"
   ]
  },
  {
   "cell_type": "code",
   "execution_count": 10,
   "metadata": {},
   "outputs": [
    {
     "data": {
      "text/plain": [
       "State             object\n",
       "Participation     object\n",
       "English          float64\n",
       "Math             float64\n",
       "Reading          float64\n",
       "Science          float64\n",
       "Composite         object\n",
       "dtype: object"
      ]
     },
     "execution_count": 10,
     "metadata": {},
     "output_type": "execute_result"
    }
   ],
   "source": [
    "act_2017.dtypes"
   ]
  },
  {
   "cell_type": "markdown",
   "metadata": {},
   "source": [
    "What did you learn?\n",
    "- Do any of them seem odd?  \n",
    "- Which ones are not as they should be?  "
   ]
  },
  {
   "cell_type": "markdown",
   "metadata": {},
   "source": [
    "Answer: <br>\n",
    "The Participation feature for both SAT and ACT are objects, this is due to the % at the end of each values.\n",
    "The Composite feature for ACT should be a float64, further investigation done below."
   ]
  },
  {
   "cell_type": "markdown",
   "metadata": {},
   "source": [
    "#### 6. Fix Incorrect Data Types\n",
    "Based on what you discovered above, use appropriate methods to re-type incorrectly typed data.\n",
    "- Define a function that will allow you to convert participation rates to an appropriate numeric type. Use `map` or `apply` to change these columns in each dataframe."
   ]
  },
  {
   "cell_type": "markdown",
   "metadata": {},
   "source": [
    "#### lambda function conv_pct"
   ]
  },
  {
   "cell_type": "code",
   "execution_count": 11,
   "metadata": {},
   "outputs": [],
   "source": [
    "# lambda function to convert participation rate from string to float\n",
    "conv_pct = lambda _ : int(_.replace(\"%\",\"\"))"
   ]
  },
  {
   "cell_type": "code",
   "execution_count": 12,
   "metadata": {
    "scrolled": true
   },
   "outputs": [],
   "source": [
    "# Using map to change the participation rate for SAT 2017 dataframe\n",
    "sat_2017['Participation'] = sat_2017['Participation'].map(conv_pct)\n",
    "\n",
    "# Using map to change the participation rate for ACT 2017 dataframe\n",
    "act_2017['Participation'] = act_2017['Participation'].map(conv_pct)"
   ]
  },
  {
   "cell_type": "code",
   "execution_count": 13,
   "metadata": {},
   "outputs": [
    {
     "data": {
      "text/html": [
       "<div>\n",
       "<style scoped>\n",
       "    .dataframe tbody tr th:only-of-type {\n",
       "        vertical-align: middle;\n",
       "    }\n",
       "\n",
       "    .dataframe tbody tr th {\n",
       "        vertical-align: top;\n",
       "    }\n",
       "\n",
       "    .dataframe thead th {\n",
       "        text-align: right;\n",
       "    }\n",
       "</style>\n",
       "<table border=\"1\" class=\"dataframe\">\n",
       "  <thead>\n",
       "    <tr style=\"text-align: right;\">\n",
       "      <th></th>\n",
       "      <th>State</th>\n",
       "      <th>Participation</th>\n",
       "      <th>Evidence-Based Reading and Writing</th>\n",
       "      <th>Math</th>\n",
       "      <th>Total</th>\n",
       "    </tr>\n",
       "  </thead>\n",
       "  <tbody>\n",
       "    <tr>\n",
       "      <th>0</th>\n",
       "      <td>Alabama</td>\n",
       "      <td>5</td>\n",
       "      <td>593</td>\n",
       "      <td>572</td>\n",
       "      <td>1165</td>\n",
       "    </tr>\n",
       "    <tr>\n",
       "      <th>1</th>\n",
       "      <td>Alaska</td>\n",
       "      <td>38</td>\n",
       "      <td>547</td>\n",
       "      <td>533</td>\n",
       "      <td>1080</td>\n",
       "    </tr>\n",
       "    <tr>\n",
       "      <th>2</th>\n",
       "      <td>Arizona</td>\n",
       "      <td>30</td>\n",
       "      <td>563</td>\n",
       "      <td>553</td>\n",
       "      <td>1116</td>\n",
       "    </tr>\n",
       "    <tr>\n",
       "      <th>3</th>\n",
       "      <td>Arkansas</td>\n",
       "      <td>3</td>\n",
       "      <td>614</td>\n",
       "      <td>594</td>\n",
       "      <td>1208</td>\n",
       "    </tr>\n",
       "    <tr>\n",
       "      <th>4</th>\n",
       "      <td>California</td>\n",
       "      <td>53</td>\n",
       "      <td>531</td>\n",
       "      <td>524</td>\n",
       "      <td>1055</td>\n",
       "    </tr>\n",
       "  </tbody>\n",
       "</table>\n",
       "</div>"
      ],
      "text/plain": [
       "        State  Participation  Evidence-Based Reading and Writing  Math  Total\n",
       "0     Alabama              5                                 593   572   1165\n",
       "1      Alaska             38                                 547   533   1080\n",
       "2     Arizona             30                                 563   553   1116\n",
       "3    Arkansas              3                                 614   594   1208\n",
       "4  California             53                                 531   524   1055"
      ]
     },
     "metadata": {},
     "output_type": "display_data"
    },
    {
     "data": {
      "text/html": [
       "<div>\n",
       "<style scoped>\n",
       "    .dataframe tbody tr th:only-of-type {\n",
       "        vertical-align: middle;\n",
       "    }\n",
       "\n",
       "    .dataframe tbody tr th {\n",
       "        vertical-align: top;\n",
       "    }\n",
       "\n",
       "    .dataframe thead th {\n",
       "        text-align: right;\n",
       "    }\n",
       "</style>\n",
       "<table border=\"1\" class=\"dataframe\">\n",
       "  <thead>\n",
       "    <tr style=\"text-align: right;\">\n",
       "      <th></th>\n",
       "      <th>State</th>\n",
       "      <th>Participation</th>\n",
       "      <th>English</th>\n",
       "      <th>Math</th>\n",
       "      <th>Reading</th>\n",
       "      <th>Science</th>\n",
       "      <th>Composite</th>\n",
       "    </tr>\n",
       "  </thead>\n",
       "  <tbody>\n",
       "    <tr>\n",
       "      <th>0</th>\n",
       "      <td>National</td>\n",
       "      <td>60</td>\n",
       "      <td>20.3</td>\n",
       "      <td>20.7</td>\n",
       "      <td>21.4</td>\n",
       "      <td>21.0</td>\n",
       "      <td>21.0</td>\n",
       "    </tr>\n",
       "    <tr>\n",
       "      <th>1</th>\n",
       "      <td>Alabama</td>\n",
       "      <td>100</td>\n",
       "      <td>18.9</td>\n",
       "      <td>18.4</td>\n",
       "      <td>19.7</td>\n",
       "      <td>19.4</td>\n",
       "      <td>19.2</td>\n",
       "    </tr>\n",
       "    <tr>\n",
       "      <th>2</th>\n",
       "      <td>Alaska</td>\n",
       "      <td>65</td>\n",
       "      <td>18.7</td>\n",
       "      <td>19.8</td>\n",
       "      <td>20.4</td>\n",
       "      <td>19.9</td>\n",
       "      <td>19.8</td>\n",
       "    </tr>\n",
       "    <tr>\n",
       "      <th>3</th>\n",
       "      <td>Arizona</td>\n",
       "      <td>62</td>\n",
       "      <td>18.6</td>\n",
       "      <td>19.8</td>\n",
       "      <td>20.1</td>\n",
       "      <td>19.8</td>\n",
       "      <td>19.7</td>\n",
       "    </tr>\n",
       "    <tr>\n",
       "      <th>4</th>\n",
       "      <td>Arkansas</td>\n",
       "      <td>100</td>\n",
       "      <td>18.9</td>\n",
       "      <td>19.0</td>\n",
       "      <td>19.7</td>\n",
       "      <td>19.5</td>\n",
       "      <td>19.4</td>\n",
       "    </tr>\n",
       "  </tbody>\n",
       "</table>\n",
       "</div>"
      ],
      "text/plain": [
       "      State  Participation  English  Math  Reading  Science Composite\n",
       "0  National             60     20.3  20.7     21.4     21.0      21.0\n",
       "1   Alabama            100     18.9  18.4     19.7     19.4      19.2\n",
       "2    Alaska             65     18.7  19.8     20.4     19.9      19.8\n",
       "3   Arizona             62     18.6  19.8     20.1     19.8      19.7\n",
       "4  Arkansas            100     18.9  19.0     19.7     19.5      19.4"
      ]
     },
     "metadata": {},
     "output_type": "display_data"
    }
   ],
   "source": [
    "# Checking both SAT and ACT dataframe after converting participation rate\n",
    "display(sat_2017.head())\n",
    "display(act_2017.head())"
   ]
  },
  {
   "cell_type": "markdown",
   "metadata": {},
   "source": [
    "- Fix any individual values preventing other columns from being the appropriate type."
   ]
  },
  {
   "cell_type": "code",
   "execution_count": 14,
   "metadata": {},
   "outputs": [
    {
     "data": {
      "text/plain": [
       "State                                 object\n",
       "Participation                          int64\n",
       "Evidence-Based Reading and Writing     int64\n",
       "Math                                   int64\n",
       "Total                                  int64\n",
       "dtype: object"
      ]
     },
     "metadata": {},
     "output_type": "display_data"
    },
    {
     "data": {
      "text/plain": [
       "State             object\n",
       "Participation      int64\n",
       "English          float64\n",
       "Math             float64\n",
       "Reading          float64\n",
       "Science          float64\n",
       "Composite         object\n",
       "dtype: object"
      ]
     },
     "metadata": {},
     "output_type": "display_data"
    }
   ],
   "source": [
    "# Checking the info for both sat 2017 and act 2017\n",
    "display(sat_2017.dtypes)\n",
    "display(act_2017.dtypes)\n",
    "# Now both Participation rates should be int64"
   ]
  },
  {
   "cell_type": "code",
   "execution_count": 15,
   "metadata": {},
   "outputs": [
    {
     "data": {
      "text/plain": [
       "array(['21.0', '19.2', '19.8', '19.7', '19.4', '22.8', '20.8', '25.2',\n",
       "       '24.1', '24.2', '21.4', '19.0', '22.3', '22.6', '21.9', '21.7',\n",
       "       '20.0', '19.5', '24.3', '23.6', '25.4', '21.5', '18.6', '20.4',\n",
       "       '20.3', '17.8', '25.5', '23.9', '19.1', '22.0', '21.8', '23.7',\n",
       "       '24.0', '18.7', '20.7', '23.8', '20.5', '20.2x'], dtype=object)"
      ]
     },
     "execution_count": 15,
     "metadata": {},
     "output_type": "execute_result"
    }
   ],
   "source": [
    "# From the information above, the datatype of Composite should not be an object\n",
    "act_2017['Composite'].unique()\n",
    "# With this function we can see that there is a value 20.2x that is causing the problem"
   ]
  },
  {
   "cell_type": "code",
   "execution_count": 16,
   "metadata": {},
   "outputs": [],
   "source": [
    "# Function to convert in_val into float\n",
    "# if in_val contains x at the end, remove x and convert to float\n",
    "def conv(in_val):\n",
    "    \"\"\" \n",
    "    Function to convert in_val into float. \n",
    "  \n",
    "    Parameters: \n",
    "\t\tin_val (str): string passed in to be converted into float \n",
    "  \n",
    "    Returns: \n",
    "\t\tfloat: float value of the string  \n",
    "  \n",
    "    \"\"\"\n",
    "    try:\n",
    "        return float(in_val)\n",
    "    except:\n",
    "        return float(in_val.replace('x',''))"
   ]
  },
  {
   "cell_type": "code",
   "execution_count": 17,
   "metadata": {
    "scrolled": true
   },
   "outputs": [],
   "source": [
    "# Using the conv function above in map to convert the Composite value to float\n",
    "act_2017['Composite'] = act_2017['Composite'].map(conv)"
   ]
  },
  {
   "cell_type": "markdown",
   "metadata": {},
   "source": [
    "- Finish your data modifications by making sure the columns are now typed appropriately."
   ]
  },
  {
   "cell_type": "code",
   "execution_count": 18,
   "metadata": {},
   "outputs": [
    {
     "data": {
      "text/plain": [
       "dtype('float64')"
      ]
     },
     "execution_count": 18,
     "metadata": {},
     "output_type": "execute_result"
    }
   ],
   "source": [
    "# Checking the data type after conversion\n",
    "act_2017['Composite'].dtype"
   ]
  },
  {
   "cell_type": "markdown",
   "metadata": {},
   "source": [
    "- Display the data types again to confirm they are correct."
   ]
  },
  {
   "cell_type": "code",
   "execution_count": 19,
   "metadata": {},
   "outputs": [
    {
     "data": {
      "text/plain": [
       "State                                 object\n",
       "Participation                          int64\n",
       "Evidence-Based Reading and Writing     int64\n",
       "Math                                   int64\n",
       "Total                                  int64\n",
       "dtype: object"
      ]
     },
     "metadata": {},
     "output_type": "display_data"
    },
    {
     "data": {
      "text/plain": [
       "State             object\n",
       "Participation      int64\n",
       "English          float64\n",
       "Math             float64\n",
       "Reading          float64\n",
       "Science          float64\n",
       "Composite        float64\n",
       "dtype: object"
      ]
     },
     "metadata": {},
     "output_type": "display_data"
    }
   ],
   "source": [
    "# Checking the info for both sat 2017 and act 2017\n",
    "display(sat_2017.dtypes)\n",
    "display(act_2017.dtypes)\n",
    "# Now all the dat types looks right"
   ]
  },
  {
   "cell_type": "markdown",
   "metadata": {},
   "source": [
    "#### 7. Rename Columns\n",
    "Change the names of the columns to more expressive names so that you can tell the difference the SAT columns and the ACT columns. Your solution should map all column names being changed at once (no repeated singular name-changes). **We will be combining these data with some of the data from 2018, and so you should name columns in an appropriate way**.\n",
    "\n",
    "**Guidelines**:\n",
    "- Column names should be all lowercase (you will thank yourself when you start pushing data to SQL later in the course)\n",
    "- Column names should not contain spaces (underscores will suffice--this allows for using the `df.column_name` method to access columns in addition to `df['column_name']`.\n",
    "- Column names should be unique and informative (the only feature that we actually share between dataframes is the state)."
   ]
  },
  {
   "cell_type": "markdown",
   "metadata": {},
   "source": [
    "#### lambda function col_name"
   ]
  },
  {
   "cell_type": "code",
   "execution_count": 20,
   "metadata": {},
   "outputs": [],
   "source": [
    "# lambda function to append a tag to the column name if column name is not 'State'\n",
    "col_name = lambda col, tag : col if col == 'State' else tag + col "
   ]
  },
  {
   "cell_type": "code",
   "execution_count": 21,
   "metadata": {
    "scrolled": false
   },
   "outputs": [],
   "source": [
    "# Rename sat_2017 dataframe columns using lambda function\n",
    "sat_2017.columns = sat_2017.columns.map(lambda x : col_name(x,'SAT_'))"
   ]
  },
  {
   "cell_type": "code",
   "execution_count": 22,
   "metadata": {
    "scrolled": true
   },
   "outputs": [],
   "source": [
    "# Rename act_2017 dataframe columns using lambda function\n",
    "act_2017.columns = act_2017.columns.map(lambda x : col_name(x,'ACT_'))"
   ]
  },
  {
   "cell_type": "code",
   "execution_count": 23,
   "metadata": {},
   "outputs": [
    {
     "data": {
      "text/html": [
       "<div>\n",
       "<style scoped>\n",
       "    .dataframe tbody tr th:only-of-type {\n",
       "        vertical-align: middle;\n",
       "    }\n",
       "\n",
       "    .dataframe tbody tr th {\n",
       "        vertical-align: top;\n",
       "    }\n",
       "\n",
       "    .dataframe thead th {\n",
       "        text-align: right;\n",
       "    }\n",
       "</style>\n",
       "<table border=\"1\" class=\"dataframe\">\n",
       "  <thead>\n",
       "    <tr style=\"text-align: right;\">\n",
       "      <th></th>\n",
       "      <th>State</th>\n",
       "      <th>SAT_Participation</th>\n",
       "      <th>SAT_Evidence-Based Reading and Writing</th>\n",
       "      <th>SAT_Math</th>\n",
       "      <th>SAT_Total</th>\n",
       "    </tr>\n",
       "  </thead>\n",
       "  <tbody>\n",
       "    <tr>\n",
       "      <th>0</th>\n",
       "      <td>Alabama</td>\n",
       "      <td>5</td>\n",
       "      <td>593</td>\n",
       "      <td>572</td>\n",
       "      <td>1165</td>\n",
       "    </tr>\n",
       "    <tr>\n",
       "      <th>1</th>\n",
       "      <td>Alaska</td>\n",
       "      <td>38</td>\n",
       "      <td>547</td>\n",
       "      <td>533</td>\n",
       "      <td>1080</td>\n",
       "    </tr>\n",
       "  </tbody>\n",
       "</table>\n",
       "</div>"
      ],
      "text/plain": [
       "     State  SAT_Participation  SAT_Evidence-Based Reading and Writing  \\\n",
       "0  Alabama                  5                                     593   \n",
       "1   Alaska                 38                                     547   \n",
       "\n",
       "   SAT_Math  SAT_Total  \n",
       "0       572       1165  \n",
       "1       533       1080  "
      ]
     },
     "metadata": {},
     "output_type": "display_data"
    },
    {
     "data": {
      "text/html": [
       "<div>\n",
       "<style scoped>\n",
       "    .dataframe tbody tr th:only-of-type {\n",
       "        vertical-align: middle;\n",
       "    }\n",
       "\n",
       "    .dataframe tbody tr th {\n",
       "        vertical-align: top;\n",
       "    }\n",
       "\n",
       "    .dataframe thead th {\n",
       "        text-align: right;\n",
       "    }\n",
       "</style>\n",
       "<table border=\"1\" class=\"dataframe\">\n",
       "  <thead>\n",
       "    <tr style=\"text-align: right;\">\n",
       "      <th></th>\n",
       "      <th>State</th>\n",
       "      <th>ACT_Participation</th>\n",
       "      <th>ACT_English</th>\n",
       "      <th>ACT_Math</th>\n",
       "      <th>ACT_Reading</th>\n",
       "      <th>ACT_Science</th>\n",
       "      <th>ACT_Composite</th>\n",
       "    </tr>\n",
       "  </thead>\n",
       "  <tbody>\n",
       "    <tr>\n",
       "      <th>0</th>\n",
       "      <td>National</td>\n",
       "      <td>60</td>\n",
       "      <td>20.3</td>\n",
       "      <td>20.7</td>\n",
       "      <td>21.4</td>\n",
       "      <td>21.0</td>\n",
       "      <td>21.0</td>\n",
       "    </tr>\n",
       "    <tr>\n",
       "      <th>1</th>\n",
       "      <td>Alabama</td>\n",
       "      <td>100</td>\n",
       "      <td>18.9</td>\n",
       "      <td>18.4</td>\n",
       "      <td>19.7</td>\n",
       "      <td>19.4</td>\n",
       "      <td>19.2</td>\n",
       "    </tr>\n",
       "  </tbody>\n",
       "</table>\n",
       "</div>"
      ],
      "text/plain": [
       "      State  ACT_Participation  ACT_English  ACT_Math  ACT_Reading  \\\n",
       "0  National                 60         20.3      20.7         21.4   \n",
       "1   Alabama                100         18.9      18.4         19.7   \n",
       "\n",
       "   ACT_Science  ACT_Composite  \n",
       "0         21.0           21.0  \n",
       "1         19.4           19.2  "
      ]
     },
     "metadata": {},
     "output_type": "display_data"
    }
   ],
   "source": [
    "# Check on the headers after mapping the lambda fucntion\n",
    "display(sat_2017.head(2))\n",
    "display(act_2017.head(2))"
   ]
  },
  {
   "cell_type": "markdown",
   "metadata": {},
   "source": [
    "#### 8. Create a data dictionary\n",
    "\n",
    "Now that we've fixed our data, and given it appropriate names, let's create a [data dictionary](http://library.ucmerced.edu/node/10249). \n",
    "\n",
    "A data dictionary provides a quick overview of features/variables/columns, alongside data types and descriptions. The more descriptive you can be, the more useful this document is.\n",
    "\n",
    "Example of a Fictional Data Dictionary Entry: \n",
    "\n",
    "|Feature|Type|Dataset|Description|\n",
    "|---|---|---|---|\n",
    "|**county_pop**|*integer*|2010 census|The population of the county (units in thousands, where 2.5 represents 2500 people).| \n",
    "|**per_poverty**|*float*|2010 census|The percent of the county over the age of 18 living below the 200% of official US poverty rate (units percent to two decimal places 98.10 means 98.1%)|\n",
    "\n",
    "[Here's a quick link to a short guide for formatting markdown in Jupyter notebooks](https://jupyter-notebook.readthedocs.io/en/stable/examples/Notebook/Working%20With%20Markdown%20Cells.html).\n",
    "\n",
    "Provided is the skeleton for formatting a markdown table, with columns headers that will help you create a data dictionary to quickly summarize your data, as well as some examples. **This would be a great thing to copy and paste into your custom README for this project.**"
   ]
  },
  {
   "cell_type": "markdown",
   "metadata": {},
   "source": [
    "\n",
    "<span style=\"color:darkblue\">\n",
    "<h3> SAT 2017 Data </h3>\n",
    "\n",
    "| Feature | Type  | Dataset | Description |\n",
    "|:--|:-:|:-: |:--|\n",
    "| State | object | SAT | Contains 51 states in America, with no Null values. |\n",
    "| SAT_Participation | int | SAT | Contains 51 participation rate in percentage, with no Null values. Converted participation rates to int, ranging 1 to 100.  |\n",
    "| SAT_Evidence-Based Reading and Writing    | int | SAT | Contains 51 average score for the Evidence-Based Reading and Writing pert of the test. Values are rounded to whole numbers with no Null values. |\n",
    "| SAT_Math    | int | SAT | Contains 51 average score for the Math part of the test. Values are rounded to whole numbers with no Null values. |\n",
    "| SAT_Total    | int | SAT | Contains 51 average combined score for the 2 parts above. Values are rounded to whole numbers with no Null values.  |\n",
    "\n",
    "    \n",
    "\n",
    "\n",
    "<h3> ACT 2017 Data </h3>\n",
    "    \n",
    "| Feature | Type  | Dataset | Description |\n",
    "|:--|:-:|:-: |:--|\n",
    "| State | object | ACT | Contains 51 states in America and National (assumation that this is a total average). There are no Null values in this column. |\n",
    "| ACT_Participation | int | ACT | Contains 52 participation rate in percentage, with no Null values. Converted participation rates to int, ranging 1 to 100. |\n",
    "| ACT_English | float | ACT | Contains 52 average score for the English part of the test. Values are rounded to 1 decimal place with no Null values. |\n",
    "| ACT_Math | float | ACT | Contains 52 average score for the Math part of the test. Values are rounded to 1 decimal place with no Null values. |\n",
    "| ACT_Reading | float | ACT | Contains 52 average score for the Reading part of the test. Values are rounded to 1 decimal place with no Null values.  |\n",
    "| ACT_Science | float | ACT | Contains 52 average score for the Science part of the test. Values are rounded to 1 decimal place with no Null values. |\n",
    "| ACT_Composite | float | ACT | Contains 52 average score for the 4 parts above. Values are rounded to 1 decimal place with no Null values. |\n",
    "\n",
    "</span> "
   ]
  },
  {
   "cell_type": "markdown",
   "metadata": {},
   "source": [
    "#### 9. Drop unnecessary rows\n",
    "\n",
    "One of our dataframes contains an extra row. Identify and remove this from the dataframe."
   ]
  },
  {
   "cell_type": "code",
   "execution_count": 24,
   "metadata": {},
   "outputs": [],
   "source": [
    "# filter/remove the National row from act_2017 dataframe\n",
    "act_2017 = act_2017[act_2017['State']!='National']"
   ]
  },
  {
   "cell_type": "code",
   "execution_count": 25,
   "metadata": {
    "scrolled": false
   },
   "outputs": [
    {
     "data": {
      "text/plain": [
       "(51, 5)"
      ]
     },
     "metadata": {},
     "output_type": "display_data"
    },
    {
     "data": {
      "text/plain": [
       "(51, 7)"
      ]
     },
     "metadata": {},
     "output_type": "display_data"
    }
   ],
   "source": [
    "# Now both SAT and ACT 2017 data frame has the same number of rows\n",
    "display(sat_2017.shape)\n",
    "display(act_2017.shape)"
   ]
  },
  {
   "cell_type": "markdown",
   "metadata": {},
   "source": [
    "#### 10. Merge Dataframes\n",
    "\n",
    "Join the 2017 ACT and SAT dataframes using the state in each dataframe as the key. Assign this to a new variable."
   ]
  },
  {
   "cell_type": "code",
   "execution_count": 26,
   "metadata": {},
   "outputs": [],
   "source": [
    "# Merge SAT and ACT data frame by State\n",
    "merged_2017 = pd.merge(sat_2017, act_2017, on='State')"
   ]
  },
  {
   "cell_type": "code",
   "execution_count": 27,
   "metadata": {},
   "outputs": [
    {
     "data": {
      "text/plain": [
       "(51, 11)"
      ]
     },
     "metadata": {},
     "output_type": "display_data"
    },
    {
     "data": {
      "text/html": [
       "<div>\n",
       "<style scoped>\n",
       "    .dataframe tbody tr th:only-of-type {\n",
       "        vertical-align: middle;\n",
       "    }\n",
       "\n",
       "    .dataframe tbody tr th {\n",
       "        vertical-align: top;\n",
       "    }\n",
       "\n",
       "    .dataframe thead th {\n",
       "        text-align: right;\n",
       "    }\n",
       "</style>\n",
       "<table border=\"1\" class=\"dataframe\">\n",
       "  <thead>\n",
       "    <tr style=\"text-align: right;\">\n",
       "      <th></th>\n",
       "      <th>State</th>\n",
       "      <th>SAT_Participation</th>\n",
       "      <th>SAT_Evidence-Based Reading and Writing</th>\n",
       "      <th>SAT_Math</th>\n",
       "      <th>SAT_Total</th>\n",
       "      <th>ACT_Participation</th>\n",
       "      <th>ACT_English</th>\n",
       "      <th>ACT_Math</th>\n",
       "      <th>ACT_Reading</th>\n",
       "      <th>ACT_Science</th>\n",
       "      <th>ACT_Composite</th>\n",
       "    </tr>\n",
       "  </thead>\n",
       "  <tbody>\n",
       "    <tr>\n",
       "      <th>0</th>\n",
       "      <td>Alabama</td>\n",
       "      <td>5</td>\n",
       "      <td>593</td>\n",
       "      <td>572</td>\n",
       "      <td>1165</td>\n",
       "      <td>100</td>\n",
       "      <td>18.9</td>\n",
       "      <td>18.4</td>\n",
       "      <td>19.7</td>\n",
       "      <td>19.4</td>\n",
       "      <td>19.2</td>\n",
       "    </tr>\n",
       "    <tr>\n",
       "      <th>1</th>\n",
       "      <td>Alaska</td>\n",
       "      <td>38</td>\n",
       "      <td>547</td>\n",
       "      <td>533</td>\n",
       "      <td>1080</td>\n",
       "      <td>65</td>\n",
       "      <td>18.7</td>\n",
       "      <td>19.8</td>\n",
       "      <td>20.4</td>\n",
       "      <td>19.9</td>\n",
       "      <td>19.8</td>\n",
       "    </tr>\n",
       "    <tr>\n",
       "      <th>2</th>\n",
       "      <td>Arizona</td>\n",
       "      <td>30</td>\n",
       "      <td>563</td>\n",
       "      <td>553</td>\n",
       "      <td>1116</td>\n",
       "      <td>62</td>\n",
       "      <td>18.6</td>\n",
       "      <td>19.8</td>\n",
       "      <td>20.1</td>\n",
       "      <td>19.8</td>\n",
       "      <td>19.7</td>\n",
       "    </tr>\n",
       "    <tr>\n",
       "      <th>3</th>\n",
       "      <td>Arkansas</td>\n",
       "      <td>3</td>\n",
       "      <td>614</td>\n",
       "      <td>594</td>\n",
       "      <td>1208</td>\n",
       "      <td>100</td>\n",
       "      <td>18.9</td>\n",
       "      <td>19.0</td>\n",
       "      <td>19.7</td>\n",
       "      <td>19.5</td>\n",
       "      <td>19.4</td>\n",
       "    </tr>\n",
       "    <tr>\n",
       "      <th>4</th>\n",
       "      <td>California</td>\n",
       "      <td>53</td>\n",
       "      <td>531</td>\n",
       "      <td>524</td>\n",
       "      <td>1055</td>\n",
       "      <td>31</td>\n",
       "      <td>22.5</td>\n",
       "      <td>22.7</td>\n",
       "      <td>23.1</td>\n",
       "      <td>22.2</td>\n",
       "      <td>22.8</td>\n",
       "    </tr>\n",
       "  </tbody>\n",
       "</table>\n",
       "</div>"
      ],
      "text/plain": [
       "        State  SAT_Participation  SAT_Evidence-Based Reading and Writing  \\\n",
       "0     Alabama                  5                                     593   \n",
       "1      Alaska                 38                                     547   \n",
       "2     Arizona                 30                                     563   \n",
       "3    Arkansas                  3                                     614   \n",
       "4  California                 53                                     531   \n",
       "\n",
       "   SAT_Math  SAT_Total  ACT_Participation  ACT_English  ACT_Math  ACT_Reading  \\\n",
       "0       572       1165                100         18.9      18.4         19.7   \n",
       "1       533       1080                 65         18.7      19.8         20.4   \n",
       "2       553       1116                 62         18.6      19.8         20.1   \n",
       "3       594       1208                100         18.9      19.0         19.7   \n",
       "4       524       1055                 31         22.5      22.7         23.1   \n",
       "\n",
       "   ACT_Science  ACT_Composite  \n",
       "0         19.4           19.2  \n",
       "1         19.9           19.8  \n",
       "2         19.8           19.7  \n",
       "3         19.5           19.4  \n",
       "4         22.2           22.8  "
      ]
     },
     "execution_count": 27,
     "metadata": {},
     "output_type": "execute_result"
    }
   ],
   "source": [
    "# looking at the shape and headers to check if merge is successful\n",
    "display(merged_2017.shape)\n",
    "merged_2017.head()"
   ]
  },
  {
   "cell_type": "markdown",
   "metadata": {},
   "source": [
    "#### 11. Save your cleaned, merged dataframe\n",
    "\n",
    "Use a relative path to save out your data as `combined_2017.csv`."
   ]
  },
  {
   "cell_type": "code",
   "execution_count": 28,
   "metadata": {},
   "outputs": [],
   "source": [
    "# Saving merged dataframe into csv file\n",
    "merged_2017.to_csv('../data/combined_2017.csv')"
   ]
  },
  {
   "cell_type": "markdown",
   "metadata": {},
   "source": [
    "## 2018 Data Import and Cleaning\n"
   ]
  },
  {
   "cell_type": "markdown",
   "metadata": {},
   "source": [
    "Links to the 2018 ACT and SAT data are provided in the README. These data live in PDFs, and so you'll get to enjoy practicing some *manual* data collection. Save these data as a CSV in your `data` directory, and import, explore, and clean these data in the same way you did above. **Make sure you comment on your steps so it is clear *why* you are doing each process**.\n"
   ]
  },
  {
   "cell_type": "markdown",
   "metadata": {},
   "source": [
    "### SAT 2018 Data\n",
    "- Change participation to float\n",
    "- Change column names"
   ]
  },
  {
   "cell_type": "code",
   "execution_count": 29,
   "metadata": {},
   "outputs": [
    {
     "data": {
      "text/html": [
       "<div>\n",
       "<style scoped>\n",
       "    .dataframe tbody tr th:only-of-type {\n",
       "        vertical-align: middle;\n",
       "    }\n",
       "\n",
       "    .dataframe tbody tr th {\n",
       "        vertical-align: top;\n",
       "    }\n",
       "\n",
       "    .dataframe thead th {\n",
       "        text-align: right;\n",
       "    }\n",
       "</style>\n",
       "<table border=\"1\" class=\"dataframe\">\n",
       "  <thead>\n",
       "    <tr style=\"text-align: right;\">\n",
       "      <th></th>\n",
       "      <th>State</th>\n",
       "      <th>Participation</th>\n",
       "      <th>Evidence-Based Reading and Writing</th>\n",
       "      <th>Math</th>\n",
       "      <th>Total</th>\n",
       "    </tr>\n",
       "  </thead>\n",
       "  <tbody>\n",
       "    <tr>\n",
       "      <th>0</th>\n",
       "      <td>Alabama</td>\n",
       "      <td>6%</td>\n",
       "      <td>595</td>\n",
       "      <td>571</td>\n",
       "      <td>1166</td>\n",
       "    </tr>\n",
       "    <tr>\n",
       "      <th>1</th>\n",
       "      <td>Alaska</td>\n",
       "      <td>43%</td>\n",
       "      <td>562</td>\n",
       "      <td>544</td>\n",
       "      <td>1106</td>\n",
       "    </tr>\n",
       "    <tr>\n",
       "      <th>2</th>\n",
       "      <td>Arizona</td>\n",
       "      <td>29%</td>\n",
       "      <td>577</td>\n",
       "      <td>572</td>\n",
       "      <td>1149</td>\n",
       "    </tr>\n",
       "    <tr>\n",
       "      <th>3</th>\n",
       "      <td>Arkansas</td>\n",
       "      <td>5%</td>\n",
       "      <td>592</td>\n",
       "      <td>576</td>\n",
       "      <td>1169</td>\n",
       "    </tr>\n",
       "    <tr>\n",
       "      <th>4</th>\n",
       "      <td>California</td>\n",
       "      <td>60%</td>\n",
       "      <td>540</td>\n",
       "      <td>536</td>\n",
       "      <td>1076</td>\n",
       "    </tr>\n",
       "  </tbody>\n",
       "</table>\n",
       "</div>"
      ],
      "text/plain": [
       "        State Participation  Evidence-Based Reading and Writing  Math  Total\n",
       "0     Alabama            6%                                 595   571   1166\n",
       "1      Alaska           43%                                 562   544   1106\n",
       "2     Arizona           29%                                 577   572   1149\n",
       "3    Arkansas            5%                                 592   576   1169\n",
       "4  California           60%                                 540   536   1076"
      ]
     },
     "metadata": {},
     "output_type": "display_data"
    },
    {
     "name": "stdout",
     "output_type": "stream",
     "text": [
      "<class 'pandas.core.frame.DataFrame'>\n",
      "RangeIndex: 51 entries, 0 to 50\n",
      "Data columns (total 5 columns):\n",
      " #   Column                              Non-Null Count  Dtype \n",
      "---  ------                              --------------  ----- \n",
      " 0   State                               51 non-null     object\n",
      " 1   Participation                       51 non-null     object\n",
      " 2   Evidence-Based Reading and Writing  51 non-null     int64 \n",
      " 3   Math                                51 non-null     int64 \n",
      " 4   Total                               51 non-null     int64 \n",
      "dtypes: int64(3), object(2)\n",
      "memory usage: 2.1+ KB\n"
     ]
    }
   ],
   "source": [
    "# First 5 rows data for SAT 2018 and info of the dataframe\n",
    "display(sat_2018.head())\n",
    "\n",
    "# displaying info for the dataframe\n",
    "sat_2018.info()"
   ]
  },
  {
   "cell_type": "code",
   "execution_count": 30,
   "metadata": {},
   "outputs": [],
   "source": [
    "# Changing sat_2018 Participation rate from object to float, using map and lambda pct\n",
    "sat_2018['Participation'] = sat_2018['Participation'].map(conv_pct)"
   ]
  },
  {
   "cell_type": "markdown",
   "metadata": {},
   "source": [
    "lambda function conv_pct was defined here: [lambda function conv_pct](#lambda-function-conv_pct)"
   ]
  },
  {
   "cell_type": "code",
   "execution_count": 31,
   "metadata": {
    "scrolled": true
   },
   "outputs": [],
   "source": [
    "#Rename sat_2018 dataframe columns using lamdba function\n",
    "sat_2018.columns = sat_2018.columns.map(lambda x : col_name(x,'SAT_'))"
   ]
  },
  {
   "cell_type": "markdown",
   "metadata": {},
   "source": [
    "lambda function col_name was defined here: [lambda function col_name](#lambda-function-col_name)"
   ]
  },
  {
   "cell_type": "code",
   "execution_count": 32,
   "metadata": {},
   "outputs": [
    {
     "data": {
      "text/html": [
       "<div>\n",
       "<style scoped>\n",
       "    .dataframe tbody tr th:only-of-type {\n",
       "        vertical-align: middle;\n",
       "    }\n",
       "\n",
       "    .dataframe tbody tr th {\n",
       "        vertical-align: top;\n",
       "    }\n",
       "\n",
       "    .dataframe thead th {\n",
       "        text-align: right;\n",
       "    }\n",
       "</style>\n",
       "<table border=\"1\" class=\"dataframe\">\n",
       "  <thead>\n",
       "    <tr style=\"text-align: right;\">\n",
       "      <th></th>\n",
       "      <th>State</th>\n",
       "      <th>SAT_Participation</th>\n",
       "      <th>SAT_Evidence-Based Reading and Writing</th>\n",
       "      <th>SAT_Math</th>\n",
       "      <th>SAT_Total</th>\n",
       "    </tr>\n",
       "  </thead>\n",
       "  <tbody>\n",
       "    <tr>\n",
       "      <th>0</th>\n",
       "      <td>Alabama</td>\n",
       "      <td>6</td>\n",
       "      <td>595</td>\n",
       "      <td>571</td>\n",
       "      <td>1166</td>\n",
       "    </tr>\n",
       "    <tr>\n",
       "      <th>1</th>\n",
       "      <td>Alaska</td>\n",
       "      <td>43</td>\n",
       "      <td>562</td>\n",
       "      <td>544</td>\n",
       "      <td>1106</td>\n",
       "    </tr>\n",
       "    <tr>\n",
       "      <th>2</th>\n",
       "      <td>Arizona</td>\n",
       "      <td>29</td>\n",
       "      <td>577</td>\n",
       "      <td>572</td>\n",
       "      <td>1149</td>\n",
       "    </tr>\n",
       "    <tr>\n",
       "      <th>3</th>\n",
       "      <td>Arkansas</td>\n",
       "      <td>5</td>\n",
       "      <td>592</td>\n",
       "      <td>576</td>\n",
       "      <td>1169</td>\n",
       "    </tr>\n",
       "    <tr>\n",
       "      <th>4</th>\n",
       "      <td>California</td>\n",
       "      <td>60</td>\n",
       "      <td>540</td>\n",
       "      <td>536</td>\n",
       "      <td>1076</td>\n",
       "    </tr>\n",
       "  </tbody>\n",
       "</table>\n",
       "</div>"
      ],
      "text/plain": [
       "        State  SAT_Participation  SAT_Evidence-Based Reading and Writing  \\\n",
       "0     Alabama                  6                                     595   \n",
       "1      Alaska                 43                                     562   \n",
       "2     Arizona                 29                                     577   \n",
       "3    Arkansas                  5                                     592   \n",
       "4  California                 60                                     540   \n",
       "\n",
       "   SAT_Math  SAT_Total  \n",
       "0       571       1166  \n",
       "1       544       1106  \n",
       "2       572       1149  \n",
       "3       576       1169  \n",
       "4       536       1076  "
      ]
     },
     "metadata": {},
     "output_type": "display_data"
    },
    {
     "data": {
      "text/plain": [
       "State                                     object\n",
       "SAT_Participation                          int64\n",
       "SAT_Evidence-Based Reading and Writing     int64\n",
       "SAT_Math                                   int64\n",
       "SAT_Total                                  int64\n",
       "dtype: object"
      ]
     },
     "execution_count": 32,
     "metadata": {},
     "output_type": "execute_result"
    }
   ],
   "source": [
    "# First 5 rows data for SAT 2018 and info of the dataframe\n",
    "display(sat_2018.head())\n",
    "\n",
    "# check data types\n",
    "sat_2018.dtypes"
   ]
  },
  {
   "cell_type": "markdown",
   "metadata": {},
   "source": [
    "### ACT 2018 Data\n",
    "- Change participation to float\n",
    "- Change column names"
   ]
  },
  {
   "cell_type": "code",
   "execution_count": 33,
   "metadata": {},
   "outputs": [
    {
     "data": {
      "text/html": [
       "<div>\n",
       "<style scoped>\n",
       "    .dataframe tbody tr th:only-of-type {\n",
       "        vertical-align: middle;\n",
       "    }\n",
       "\n",
       "    .dataframe tbody tr th {\n",
       "        vertical-align: top;\n",
       "    }\n",
       "\n",
       "    .dataframe thead th {\n",
       "        text-align: right;\n",
       "    }\n",
       "</style>\n",
       "<table border=\"1\" class=\"dataframe\">\n",
       "  <thead>\n",
       "    <tr style=\"text-align: right;\">\n",
       "      <th></th>\n",
       "      <th>State</th>\n",
       "      <th>Percentage of Students Tested</th>\n",
       "      <th>Average Composite Score</th>\n",
       "      <th>Average English Score</th>\n",
       "      <th>Average Math Score</th>\n",
       "      <th>Average Reading Score</th>\n",
       "      <th>Average Science Score</th>\n",
       "    </tr>\n",
       "  </thead>\n",
       "  <tbody>\n",
       "    <tr>\n",
       "      <th>0</th>\n",
       "      <td>Alabama</td>\n",
       "      <td>100</td>\n",
       "      <td>19.1</td>\n",
       "      <td>18.9</td>\n",
       "      <td>18.3</td>\n",
       "      <td>19.6</td>\n",
       "      <td>19.0</td>\n",
       "    </tr>\n",
       "    <tr>\n",
       "      <th>1</th>\n",
       "      <td>Alaska</td>\n",
       "      <td>33</td>\n",
       "      <td>20.8</td>\n",
       "      <td>19.8</td>\n",
       "      <td>20.6</td>\n",
       "      <td>21.6</td>\n",
       "      <td>20.7</td>\n",
       "    </tr>\n",
       "    <tr>\n",
       "      <th>2</th>\n",
       "      <td>Arizona</td>\n",
       "      <td>66</td>\n",
       "      <td>19.2</td>\n",
       "      <td>18.2</td>\n",
       "      <td>19.4</td>\n",
       "      <td>19.5</td>\n",
       "      <td>19.2</td>\n",
       "    </tr>\n",
       "    <tr>\n",
       "      <th>3</th>\n",
       "      <td>Arkansas</td>\n",
       "      <td>100</td>\n",
       "      <td>19.4</td>\n",
       "      <td>19.1</td>\n",
       "      <td>18.9</td>\n",
       "      <td>19.7</td>\n",
       "      <td>19.4</td>\n",
       "    </tr>\n",
       "    <tr>\n",
       "      <th>4</th>\n",
       "      <td>California</td>\n",
       "      <td>27</td>\n",
       "      <td>22.7</td>\n",
       "      <td>22.5</td>\n",
       "      <td>22.5</td>\n",
       "      <td>23.0</td>\n",
       "      <td>22.1</td>\n",
       "    </tr>\n",
       "  </tbody>\n",
       "</table>\n",
       "</div>"
      ],
      "text/plain": [
       "        State  Percentage of Students Tested  Average Composite Score  \\\n",
       "0     Alabama                            100                     19.1   \n",
       "1      Alaska                             33                     20.8   \n",
       "2     Arizona                             66                     19.2   \n",
       "3    Arkansas                            100                     19.4   \n",
       "4  California                             27                     22.7   \n",
       "\n",
       "   Average English Score  Average Math Score  Average Reading Score  \\\n",
       "0                   18.9                18.3                   19.6   \n",
       "1                   19.8                20.6                   21.6   \n",
       "2                   18.2                19.4                   19.5   \n",
       "3                   19.1                18.9                   19.7   \n",
       "4                   22.5                22.5                   23.0   \n",
       "\n",
       "   Average Science Score  \n",
       "0                   19.0  \n",
       "1                   20.7  \n",
       "2                   19.2  \n",
       "3                   19.4  \n",
       "4                   22.1  "
      ]
     },
     "metadata": {},
     "output_type": "display_data"
    },
    {
     "name": "stdout",
     "output_type": "stream",
     "text": [
      "<class 'pandas.core.frame.DataFrame'>\n",
      "RangeIndex: 51 entries, 0 to 50\n",
      "Data columns (total 7 columns):\n",
      " #   Column                         Non-Null Count  Dtype  \n",
      "---  ------                         --------------  -----  \n",
      " 0   State                          51 non-null     object \n",
      " 1   Percentage of Students Tested  51 non-null     int64  \n",
      " 2   Average Composite Score        51 non-null     float64\n",
      " 3   Average English Score          51 non-null     float64\n",
      " 4   Average Math Score             51 non-null     float64\n",
      " 5   Average Reading Score          51 non-null     float64\n",
      " 6   Average Science Score          51 non-null     float64\n",
      "dtypes: float64(5), int64(1), object(1)\n",
      "memory usage: 2.9+ KB\n"
     ]
    }
   ],
   "source": [
    "# First 5 rows data for ACT 2018 and info of the dataframe\n",
    "display(act_2018.head())\n",
    "\n",
    "# displaying info for the dataframe\n",
    "act_2018.info()"
   ]
  },
  {
   "cell_type": "code",
   "execution_count": 34,
   "metadata": {},
   "outputs": [],
   "source": [
    "# Renaming the column names for ACT 2018\n",
    "# lambda function used for generating of new column names\n",
    "act_col = lambda x : 'ACT_'+x[8:-6] if 'Average' in x else 'ACT_Participation'"
   ]
  },
  {
   "cell_type": "code",
   "execution_count": 35,
   "metadata": {},
   "outputs": [],
   "source": [
    "# Dictionary comphension for the new column names\n",
    "new_col = { col : act_col(col) for col in act_2018.columns[1:] }"
   ]
  },
  {
   "cell_type": "code",
   "execution_count": 36,
   "metadata": {},
   "outputs": [],
   "source": [
    "# Renaming ACT 2018 column names\n",
    "act_2018.rename(columns=new_col, inplace=True)"
   ]
  },
  {
   "cell_type": "code",
   "execution_count": 37,
   "metadata": {},
   "outputs": [],
   "source": [
    "# Changing sat_2018 Participation rate from object to float, using map and lambda pct\n",
    "act_2018['ACT_Participation'] = act_2018['ACT_Participation'].map(lambda x : int(x))"
   ]
  },
  {
   "cell_type": "code",
   "execution_count": 38,
   "metadata": {},
   "outputs": [
    {
     "data": {
      "text/html": [
       "<div>\n",
       "<style scoped>\n",
       "    .dataframe tbody tr th:only-of-type {\n",
       "        vertical-align: middle;\n",
       "    }\n",
       "\n",
       "    .dataframe tbody tr th {\n",
       "        vertical-align: top;\n",
       "    }\n",
       "\n",
       "    .dataframe thead th {\n",
       "        text-align: right;\n",
       "    }\n",
       "</style>\n",
       "<table border=\"1\" class=\"dataframe\">\n",
       "  <thead>\n",
       "    <tr style=\"text-align: right;\">\n",
       "      <th></th>\n",
       "      <th>State</th>\n",
       "      <th>ACT_Participation</th>\n",
       "      <th>ACT_Composite</th>\n",
       "      <th>ACT_English</th>\n",
       "      <th>ACT_Math</th>\n",
       "      <th>ACT_Reading</th>\n",
       "      <th>ACT_Science</th>\n",
       "    </tr>\n",
       "  </thead>\n",
       "  <tbody>\n",
       "    <tr>\n",
       "      <th>0</th>\n",
       "      <td>Alabama</td>\n",
       "      <td>100</td>\n",
       "      <td>19.1</td>\n",
       "      <td>18.9</td>\n",
       "      <td>18.3</td>\n",
       "      <td>19.6</td>\n",
       "      <td>19.0</td>\n",
       "    </tr>\n",
       "    <tr>\n",
       "      <th>1</th>\n",
       "      <td>Alaska</td>\n",
       "      <td>33</td>\n",
       "      <td>20.8</td>\n",
       "      <td>19.8</td>\n",
       "      <td>20.6</td>\n",
       "      <td>21.6</td>\n",
       "      <td>20.7</td>\n",
       "    </tr>\n",
       "    <tr>\n",
       "      <th>2</th>\n",
       "      <td>Arizona</td>\n",
       "      <td>66</td>\n",
       "      <td>19.2</td>\n",
       "      <td>18.2</td>\n",
       "      <td>19.4</td>\n",
       "      <td>19.5</td>\n",
       "      <td>19.2</td>\n",
       "    </tr>\n",
       "    <tr>\n",
       "      <th>3</th>\n",
       "      <td>Arkansas</td>\n",
       "      <td>100</td>\n",
       "      <td>19.4</td>\n",
       "      <td>19.1</td>\n",
       "      <td>18.9</td>\n",
       "      <td>19.7</td>\n",
       "      <td>19.4</td>\n",
       "    </tr>\n",
       "    <tr>\n",
       "      <th>4</th>\n",
       "      <td>California</td>\n",
       "      <td>27</td>\n",
       "      <td>22.7</td>\n",
       "      <td>22.5</td>\n",
       "      <td>22.5</td>\n",
       "      <td>23.0</td>\n",
       "      <td>22.1</td>\n",
       "    </tr>\n",
       "  </tbody>\n",
       "</table>\n",
       "</div>"
      ],
      "text/plain": [
       "        State  ACT_Participation  ACT_Composite  ACT_English  ACT_Math  \\\n",
       "0     Alabama                100           19.1         18.9      18.3   \n",
       "1      Alaska                 33           20.8         19.8      20.6   \n",
       "2     Arizona                 66           19.2         18.2      19.4   \n",
       "3    Arkansas                100           19.4         19.1      18.9   \n",
       "4  California                 27           22.7         22.5      22.5   \n",
       "\n",
       "   ACT_Reading  ACT_Science  \n",
       "0         19.6         19.0  \n",
       "1         21.6         20.7  \n",
       "2         19.5         19.2  \n",
       "3         19.7         19.4  \n",
       "4         23.0         22.1  "
      ]
     },
     "metadata": {},
     "output_type": "display_data"
    },
    {
     "data": {
      "text/plain": [
       "State                 object\n",
       "ACT_Participation      int64\n",
       "ACT_Composite        float64\n",
       "ACT_English          float64\n",
       "ACT_Math             float64\n",
       "ACT_Reading          float64\n",
       "ACT_Science          float64\n",
       "dtype: object"
      ]
     },
     "execution_count": 38,
     "metadata": {},
     "output_type": "execute_result"
    }
   ],
   "source": [
    "# First 5 rows data for SAT 2018 and info of the dataframe\n",
    "display(act_2018.head())\n",
    "\n",
    "# check data types\n",
    "act_2018.dtypes"
   ]
  },
  {
   "cell_type": "markdown",
   "metadata": {},
   "source": [
    "#### Combine your 2017 and 2018 data into a single dataframe\n",
    "Joining on state names should work, assuming you formatted all your state names identically. Make sure none of your columns (other than state) have identical names. Do yourself a favor and decide if you're encoding participation rates as floats or integers and standardize this across your datasets.\n",
    "\n",
    "Save the contents of this merged dataframe as `final.csv`.\n",
    "\n",
    "**Use this combined dataframe for the remainder of the project**."
   ]
  },
  {
   "cell_type": "code",
   "execution_count": 39,
   "metadata": {},
   "outputs": [],
   "source": [
    "# Merge 2018 SAT and ACT data frame by State\n",
    "merged_2018 = pd.merge(sat_2018, act_2018, on='State')"
   ]
  },
  {
   "cell_type": "code",
   "execution_count": 40,
   "metadata": {
    "scrolled": true
   },
   "outputs": [
    {
     "data": {
      "text/plain": [
       "(51, 11)"
      ]
     },
     "execution_count": 40,
     "metadata": {},
     "output_type": "execute_result"
    }
   ],
   "source": [
    "# Checking the shape after merging sat and act 2018 dataframes\n",
    "merged_2018.shape"
   ]
  },
  {
   "cell_type": "code",
   "execution_count": 41,
   "metadata": {},
   "outputs": [],
   "source": [
    "#Rename merged_2018 dataframe columns using lamdba function\n",
    "merged_2018.columns = merged_2018.columns.map(lambda x : col_name(x,'2018_'))"
   ]
  },
  {
   "cell_type": "code",
   "execution_count": 42,
   "metadata": {},
   "outputs": [],
   "source": [
    "#Rename merged_2017 dataframe columns using lamdba function to prefix with 2017\n",
    "merged_2017.columns = merged_2017.columns.map(lambda x : col_name(x,'2017_'))"
   ]
  },
  {
   "cell_type": "code",
   "execution_count": 43,
   "metadata": {
    "scrolled": true
   },
   "outputs": [
    {
     "data": {
      "text/html": [
       "<div>\n",
       "<style scoped>\n",
       "    .dataframe tbody tr th:only-of-type {\n",
       "        vertical-align: middle;\n",
       "    }\n",
       "\n",
       "    .dataframe tbody tr th {\n",
       "        vertical-align: top;\n",
       "    }\n",
       "\n",
       "    .dataframe thead th {\n",
       "        text-align: right;\n",
       "    }\n",
       "</style>\n",
       "<table border=\"1\" class=\"dataframe\">\n",
       "  <thead>\n",
       "    <tr style=\"text-align: right;\">\n",
       "      <th></th>\n",
       "      <th>State</th>\n",
       "      <th>2017_SAT_Participation</th>\n",
       "      <th>2017_SAT_Evidence-Based Reading and Writing</th>\n",
       "      <th>2017_SAT_Math</th>\n",
       "      <th>2017_SAT_Total</th>\n",
       "      <th>2017_ACT_Participation</th>\n",
       "      <th>2017_ACT_English</th>\n",
       "      <th>2017_ACT_Math</th>\n",
       "      <th>2017_ACT_Reading</th>\n",
       "      <th>2017_ACT_Science</th>\n",
       "      <th>...</th>\n",
       "      <th>2018_SAT_Participation</th>\n",
       "      <th>2018_SAT_Evidence-Based Reading and Writing</th>\n",
       "      <th>2018_SAT_Math</th>\n",
       "      <th>2018_SAT_Total</th>\n",
       "      <th>2018_ACT_Participation</th>\n",
       "      <th>2018_ACT_Composite</th>\n",
       "      <th>2018_ACT_English</th>\n",
       "      <th>2018_ACT_Math</th>\n",
       "      <th>2018_ACT_Reading</th>\n",
       "      <th>2018_ACT_Science</th>\n",
       "    </tr>\n",
       "  </thead>\n",
       "  <tbody>\n",
       "    <tr>\n",
       "      <th>0</th>\n",
       "      <td>Alabama</td>\n",
       "      <td>5</td>\n",
       "      <td>593</td>\n",
       "      <td>572</td>\n",
       "      <td>1165</td>\n",
       "      <td>100</td>\n",
       "      <td>18.9</td>\n",
       "      <td>18.4</td>\n",
       "      <td>19.7</td>\n",
       "      <td>19.4</td>\n",
       "      <td>...</td>\n",
       "      <td>6</td>\n",
       "      <td>595</td>\n",
       "      <td>571</td>\n",
       "      <td>1166</td>\n",
       "      <td>100</td>\n",
       "      <td>19.1</td>\n",
       "      <td>18.9</td>\n",
       "      <td>18.3</td>\n",
       "      <td>19.6</td>\n",
       "      <td>19.0</td>\n",
       "    </tr>\n",
       "    <tr>\n",
       "      <th>1</th>\n",
       "      <td>Alaska</td>\n",
       "      <td>38</td>\n",
       "      <td>547</td>\n",
       "      <td>533</td>\n",
       "      <td>1080</td>\n",
       "      <td>65</td>\n",
       "      <td>18.7</td>\n",
       "      <td>19.8</td>\n",
       "      <td>20.4</td>\n",
       "      <td>19.9</td>\n",
       "      <td>...</td>\n",
       "      <td>43</td>\n",
       "      <td>562</td>\n",
       "      <td>544</td>\n",
       "      <td>1106</td>\n",
       "      <td>33</td>\n",
       "      <td>20.8</td>\n",
       "      <td>19.8</td>\n",
       "      <td>20.6</td>\n",
       "      <td>21.6</td>\n",
       "      <td>20.7</td>\n",
       "    </tr>\n",
       "    <tr>\n",
       "      <th>2</th>\n",
       "      <td>Arizona</td>\n",
       "      <td>30</td>\n",
       "      <td>563</td>\n",
       "      <td>553</td>\n",
       "      <td>1116</td>\n",
       "      <td>62</td>\n",
       "      <td>18.6</td>\n",
       "      <td>19.8</td>\n",
       "      <td>20.1</td>\n",
       "      <td>19.8</td>\n",
       "      <td>...</td>\n",
       "      <td>29</td>\n",
       "      <td>577</td>\n",
       "      <td>572</td>\n",
       "      <td>1149</td>\n",
       "      <td>66</td>\n",
       "      <td>19.2</td>\n",
       "      <td>18.2</td>\n",
       "      <td>19.4</td>\n",
       "      <td>19.5</td>\n",
       "      <td>19.2</td>\n",
       "    </tr>\n",
       "    <tr>\n",
       "      <th>3</th>\n",
       "      <td>Arkansas</td>\n",
       "      <td>3</td>\n",
       "      <td>614</td>\n",
       "      <td>594</td>\n",
       "      <td>1208</td>\n",
       "      <td>100</td>\n",
       "      <td>18.9</td>\n",
       "      <td>19.0</td>\n",
       "      <td>19.7</td>\n",
       "      <td>19.5</td>\n",
       "      <td>...</td>\n",
       "      <td>5</td>\n",
       "      <td>592</td>\n",
       "      <td>576</td>\n",
       "      <td>1169</td>\n",
       "      <td>100</td>\n",
       "      <td>19.4</td>\n",
       "      <td>19.1</td>\n",
       "      <td>18.9</td>\n",
       "      <td>19.7</td>\n",
       "      <td>19.4</td>\n",
       "    </tr>\n",
       "    <tr>\n",
       "      <th>4</th>\n",
       "      <td>California</td>\n",
       "      <td>53</td>\n",
       "      <td>531</td>\n",
       "      <td>524</td>\n",
       "      <td>1055</td>\n",
       "      <td>31</td>\n",
       "      <td>22.5</td>\n",
       "      <td>22.7</td>\n",
       "      <td>23.1</td>\n",
       "      <td>22.2</td>\n",
       "      <td>...</td>\n",
       "      <td>60</td>\n",
       "      <td>540</td>\n",
       "      <td>536</td>\n",
       "      <td>1076</td>\n",
       "      <td>27</td>\n",
       "      <td>22.7</td>\n",
       "      <td>22.5</td>\n",
       "      <td>22.5</td>\n",
       "      <td>23.0</td>\n",
       "      <td>22.1</td>\n",
       "    </tr>\n",
       "  </tbody>\n",
       "</table>\n",
       "<p>5 rows × 21 columns</p>\n",
       "</div>"
      ],
      "text/plain": [
       "        State  2017_SAT_Participation  \\\n",
       "0     Alabama                       5   \n",
       "1      Alaska                      38   \n",
       "2     Arizona                      30   \n",
       "3    Arkansas                       3   \n",
       "4  California                      53   \n",
       "\n",
       "   2017_SAT_Evidence-Based Reading and Writing  2017_SAT_Math  2017_SAT_Total  \\\n",
       "0                                          593            572            1165   \n",
       "1                                          547            533            1080   \n",
       "2                                          563            553            1116   \n",
       "3                                          614            594            1208   \n",
       "4                                          531            524            1055   \n",
       "\n",
       "   2017_ACT_Participation  2017_ACT_English  2017_ACT_Math  2017_ACT_Reading  \\\n",
       "0                     100              18.9           18.4              19.7   \n",
       "1                      65              18.7           19.8              20.4   \n",
       "2                      62              18.6           19.8              20.1   \n",
       "3                     100              18.9           19.0              19.7   \n",
       "4                      31              22.5           22.7              23.1   \n",
       "\n",
       "   2017_ACT_Science  ...  2018_SAT_Participation  \\\n",
       "0              19.4  ...                       6   \n",
       "1              19.9  ...                      43   \n",
       "2              19.8  ...                      29   \n",
       "3              19.5  ...                       5   \n",
       "4              22.2  ...                      60   \n",
       "\n",
       "   2018_SAT_Evidence-Based Reading and Writing  2018_SAT_Math  2018_SAT_Total  \\\n",
       "0                                          595            571            1166   \n",
       "1                                          562            544            1106   \n",
       "2                                          577            572            1149   \n",
       "3                                          592            576            1169   \n",
       "4                                          540            536            1076   \n",
       "\n",
       "   2018_ACT_Participation  2018_ACT_Composite  2018_ACT_English  \\\n",
       "0                     100                19.1              18.9   \n",
       "1                      33                20.8              19.8   \n",
       "2                      66                19.2              18.2   \n",
       "3                     100                19.4              19.1   \n",
       "4                      27                22.7              22.5   \n",
       "\n",
       "   2018_ACT_Math  2018_ACT_Reading  2018_ACT_Science  \n",
       "0           18.3              19.6              19.0  \n",
       "1           20.6              21.6              20.7  \n",
       "2           19.4              19.5              19.2  \n",
       "3           18.9              19.7              19.4  \n",
       "4           22.5              23.0              22.1  \n",
       "\n",
       "[5 rows x 21 columns]"
      ]
     },
     "execution_count": 43,
     "metadata": {},
     "output_type": "execute_result"
    }
   ],
   "source": [
    "#Combine both years dataframes\n",
    "final_df = pd.merge(merged_2017, merged_2018, on='State')\n",
    "final_df.head()"
   ]
  },
  {
   "cell_type": "code",
   "execution_count": 44,
   "metadata": {},
   "outputs": [],
   "source": [
    "# Renaming SAT_Evidence-Based Reading and Writing for easy reading\n",
    "final_df = final_df.rename(columns={\"2017_SAT_Evidence-Based Reading and Writing\": \"2017_SAT_EBRW\",\\\n",
    "                         \"2018_SAT_Evidence-Based Reading and Writing\": \"2018_SAT_EBRW\"})"
   ]
  },
  {
   "cell_type": "code",
   "execution_count": 45,
   "metadata": {},
   "outputs": [],
   "source": [
    "#Saving merged dataframe into csv file\n",
    "final_df.to_csv('../data/final.csv')"
   ]
  },
  {
   "cell_type": "markdown",
   "metadata": {},
   "source": [
    "## Exploratory Data Analysis\n",
    "\n",
    "\n",
    "### Summary Statistics\n",
    "Transpose the output of pandas `describe` method to create a quick overview of each numeric feature."
   ]
  },
  {
   "cell_type": "code",
   "execution_count": 46,
   "metadata": {},
   "outputs": [
    {
     "data": {
      "text/html": [
       "<div>\n",
       "<style scoped>\n",
       "    .dataframe tbody tr th:only-of-type {\n",
       "        vertical-align: middle;\n",
       "    }\n",
       "\n",
       "    .dataframe tbody tr th {\n",
       "        vertical-align: top;\n",
       "    }\n",
       "\n",
       "    .dataframe thead th {\n",
       "        text-align: right;\n",
       "    }\n",
       "</style>\n",
       "<table border=\"1\" class=\"dataframe\">\n",
       "  <thead>\n",
       "    <tr style=\"text-align: right;\">\n",
       "      <th></th>\n",
       "      <th>count</th>\n",
       "      <th>mean</th>\n",
       "      <th>std</th>\n",
       "      <th>min</th>\n",
       "      <th>25%</th>\n",
       "      <th>50%</th>\n",
       "      <th>75%</th>\n",
       "      <th>max</th>\n",
       "    </tr>\n",
       "  </thead>\n",
       "  <tbody>\n",
       "    <tr>\n",
       "      <th>2017_SAT_Participation</th>\n",
       "      <td>51.0</td>\n",
       "      <td>39.8039</td>\n",
       "      <td>35.2766</td>\n",
       "      <td>2.0</td>\n",
       "      <td>4.00</td>\n",
       "      <td>38.0</td>\n",
       "      <td>66.00</td>\n",
       "      <td>100.0</td>\n",
       "    </tr>\n",
       "    <tr>\n",
       "      <th>2017_SAT_EBRW</th>\n",
       "      <td>51.0</td>\n",
       "      <td>569.1176</td>\n",
       "      <td>45.6669</td>\n",
       "      <td>482.0</td>\n",
       "      <td>533.50</td>\n",
       "      <td>559.0</td>\n",
       "      <td>613.00</td>\n",
       "      <td>644.0</td>\n",
       "    </tr>\n",
       "    <tr>\n",
       "      <th>2017_SAT_Math</th>\n",
       "      <td>51.0</td>\n",
       "      <td>556.8824</td>\n",
       "      <td>47.1214</td>\n",
       "      <td>468.0</td>\n",
       "      <td>523.50</td>\n",
       "      <td>548.0</td>\n",
       "      <td>599.00</td>\n",
       "      <td>651.0</td>\n",
       "    </tr>\n",
       "    <tr>\n",
       "      <th>2017_SAT_Total</th>\n",
       "      <td>51.0</td>\n",
       "      <td>1126.0980</td>\n",
       "      <td>92.4948</td>\n",
       "      <td>950.0</td>\n",
       "      <td>1055.50</td>\n",
       "      <td>1107.0</td>\n",
       "      <td>1212.00</td>\n",
       "      <td>1295.0</td>\n",
       "    </tr>\n",
       "    <tr>\n",
       "      <th>2017_ACT_Participation</th>\n",
       "      <td>51.0</td>\n",
       "      <td>65.2549</td>\n",
       "      <td>32.1408</td>\n",
       "      <td>8.0</td>\n",
       "      <td>31.00</td>\n",
       "      <td>69.0</td>\n",
       "      <td>100.00</td>\n",
       "      <td>100.0</td>\n",
       "    </tr>\n",
       "    <tr>\n",
       "      <th>2017_ACT_English</th>\n",
       "      <td>51.0</td>\n",
       "      <td>20.9314</td>\n",
       "      <td>2.3537</td>\n",
       "      <td>16.3</td>\n",
       "      <td>19.00</td>\n",
       "      <td>20.7</td>\n",
       "      <td>23.30</td>\n",
       "      <td>25.5</td>\n",
       "    </tr>\n",
       "    <tr>\n",
       "      <th>2017_ACT_Math</th>\n",
       "      <td>51.0</td>\n",
       "      <td>21.1824</td>\n",
       "      <td>1.9820</td>\n",
       "      <td>18.0</td>\n",
       "      <td>19.40</td>\n",
       "      <td>20.9</td>\n",
       "      <td>23.10</td>\n",
       "      <td>25.3</td>\n",
       "    </tr>\n",
       "    <tr>\n",
       "      <th>2017_ACT_Reading</th>\n",
       "      <td>51.0</td>\n",
       "      <td>22.0137</td>\n",
       "      <td>2.0673</td>\n",
       "      <td>18.1</td>\n",
       "      <td>20.45</td>\n",
       "      <td>21.8</td>\n",
       "      <td>24.15</td>\n",
       "      <td>26.0</td>\n",
       "    </tr>\n",
       "    <tr>\n",
       "      <th>2017_ACT_Science</th>\n",
       "      <td>51.0</td>\n",
       "      <td>21.4510</td>\n",
       "      <td>1.7394</td>\n",
       "      <td>18.2</td>\n",
       "      <td>19.95</td>\n",
       "      <td>21.3</td>\n",
       "      <td>23.20</td>\n",
       "      <td>24.9</td>\n",
       "    </tr>\n",
       "    <tr>\n",
       "      <th>2017_ACT_Composite</th>\n",
       "      <td>51.0</td>\n",
       "      <td>21.5196</td>\n",
       "      <td>2.0207</td>\n",
       "      <td>17.8</td>\n",
       "      <td>19.80</td>\n",
       "      <td>21.4</td>\n",
       "      <td>23.60</td>\n",
       "      <td>25.5</td>\n",
       "    </tr>\n",
       "    <tr>\n",
       "      <th>2018_SAT_Participation</th>\n",
       "      <td>51.0</td>\n",
       "      <td>45.7451</td>\n",
       "      <td>37.3143</td>\n",
       "      <td>2.0</td>\n",
       "      <td>4.50</td>\n",
       "      <td>52.0</td>\n",
       "      <td>77.50</td>\n",
       "      <td>100.0</td>\n",
       "    </tr>\n",
       "    <tr>\n",
       "      <th>2018_SAT_EBRW</th>\n",
       "      <td>51.0</td>\n",
       "      <td>563.6863</td>\n",
       "      <td>47.5026</td>\n",
       "      <td>480.0</td>\n",
       "      <td>534.50</td>\n",
       "      <td>552.0</td>\n",
       "      <td>610.50</td>\n",
       "      <td>643.0</td>\n",
       "    </tr>\n",
       "    <tr>\n",
       "      <th>2018_SAT_Math</th>\n",
       "      <td>51.0</td>\n",
       "      <td>556.2353</td>\n",
       "      <td>47.7726</td>\n",
       "      <td>480.0</td>\n",
       "      <td>522.50</td>\n",
       "      <td>544.0</td>\n",
       "      <td>593.50</td>\n",
       "      <td>655.0</td>\n",
       "    </tr>\n",
       "    <tr>\n",
       "      <th>2018_SAT_Total</th>\n",
       "      <td>51.0</td>\n",
       "      <td>1120.0196</td>\n",
       "      <td>94.1551</td>\n",
       "      <td>977.0</td>\n",
       "      <td>1057.50</td>\n",
       "      <td>1098.0</td>\n",
       "      <td>1204.00</td>\n",
       "      <td>1298.0</td>\n",
       "    </tr>\n",
       "    <tr>\n",
       "      <th>2018_ACT_Participation</th>\n",
       "      <td>51.0</td>\n",
       "      <td>61.6471</td>\n",
       "      <td>34.0810</td>\n",
       "      <td>7.0</td>\n",
       "      <td>28.50</td>\n",
       "      <td>66.0</td>\n",
       "      <td>100.00</td>\n",
       "      <td>100.0</td>\n",
       "    </tr>\n",
       "    <tr>\n",
       "      <th>2018_ACT_Composite</th>\n",
       "      <td>51.0</td>\n",
       "      <td>21.4863</td>\n",
       "      <td>2.1063</td>\n",
       "      <td>17.7</td>\n",
       "      <td>19.95</td>\n",
       "      <td>21.3</td>\n",
       "      <td>23.55</td>\n",
       "      <td>25.6</td>\n",
       "    </tr>\n",
       "    <tr>\n",
       "      <th>2018_ACT_English</th>\n",
       "      <td>51.0</td>\n",
       "      <td>20.9882</td>\n",
       "      <td>2.4464</td>\n",
       "      <td>16.6</td>\n",
       "      <td>19.10</td>\n",
       "      <td>20.2</td>\n",
       "      <td>23.70</td>\n",
       "      <td>26.0</td>\n",
       "    </tr>\n",
       "    <tr>\n",
       "      <th>2018_ACT_Math</th>\n",
       "      <td>51.0</td>\n",
       "      <td>21.1255</td>\n",
       "      <td>2.0358</td>\n",
       "      <td>17.8</td>\n",
       "      <td>19.40</td>\n",
       "      <td>20.7</td>\n",
       "      <td>23.15</td>\n",
       "      <td>25.2</td>\n",
       "    </tr>\n",
       "    <tr>\n",
       "      <th>2018_ACT_Reading</th>\n",
       "      <td>51.0</td>\n",
       "      <td>22.0157</td>\n",
       "      <td>2.1672</td>\n",
       "      <td>18.0</td>\n",
       "      <td>20.45</td>\n",
       "      <td>21.6</td>\n",
       "      <td>24.10</td>\n",
       "      <td>26.1</td>\n",
       "    </tr>\n",
       "    <tr>\n",
       "      <th>2018_ACT_Science</th>\n",
       "      <td>51.0</td>\n",
       "      <td>21.3451</td>\n",
       "      <td>1.8701</td>\n",
       "      <td>17.9</td>\n",
       "      <td>19.85</td>\n",
       "      <td>21.1</td>\n",
       "      <td>23.05</td>\n",
       "      <td>24.9</td>\n",
       "    </tr>\n",
       "  </tbody>\n",
       "</table>\n",
       "</div>"
      ],
      "text/plain": [
       "                        count       mean      std    min      25%     50%  \\\n",
       "2017_SAT_Participation   51.0    39.8039  35.2766    2.0     4.00    38.0   \n",
       "2017_SAT_EBRW            51.0   569.1176  45.6669  482.0   533.50   559.0   \n",
       "2017_SAT_Math            51.0   556.8824  47.1214  468.0   523.50   548.0   \n",
       "2017_SAT_Total           51.0  1126.0980  92.4948  950.0  1055.50  1107.0   \n",
       "2017_ACT_Participation   51.0    65.2549  32.1408    8.0    31.00    69.0   \n",
       "2017_ACT_English         51.0    20.9314   2.3537   16.3    19.00    20.7   \n",
       "2017_ACT_Math            51.0    21.1824   1.9820   18.0    19.40    20.9   \n",
       "2017_ACT_Reading         51.0    22.0137   2.0673   18.1    20.45    21.8   \n",
       "2017_ACT_Science         51.0    21.4510   1.7394   18.2    19.95    21.3   \n",
       "2017_ACT_Composite       51.0    21.5196   2.0207   17.8    19.80    21.4   \n",
       "2018_SAT_Participation   51.0    45.7451  37.3143    2.0     4.50    52.0   \n",
       "2018_SAT_EBRW            51.0   563.6863  47.5026  480.0   534.50   552.0   \n",
       "2018_SAT_Math            51.0   556.2353  47.7726  480.0   522.50   544.0   \n",
       "2018_SAT_Total           51.0  1120.0196  94.1551  977.0  1057.50  1098.0   \n",
       "2018_ACT_Participation   51.0    61.6471  34.0810    7.0    28.50    66.0   \n",
       "2018_ACT_Composite       51.0    21.4863   2.1063   17.7    19.95    21.3   \n",
       "2018_ACT_English         51.0    20.9882   2.4464   16.6    19.10    20.2   \n",
       "2018_ACT_Math            51.0    21.1255   2.0358   17.8    19.40    20.7   \n",
       "2018_ACT_Reading         51.0    22.0157   2.1672   18.0    20.45    21.6   \n",
       "2018_ACT_Science         51.0    21.3451   1.8701   17.9    19.85    21.1   \n",
       "\n",
       "                            75%     max  \n",
       "2017_SAT_Participation    66.00   100.0  \n",
       "2017_SAT_EBRW            613.00   644.0  \n",
       "2017_SAT_Math            599.00   651.0  \n",
       "2017_SAT_Total          1212.00  1295.0  \n",
       "2017_ACT_Participation   100.00   100.0  \n",
       "2017_ACT_English          23.30    25.5  \n",
       "2017_ACT_Math             23.10    25.3  \n",
       "2017_ACT_Reading          24.15    26.0  \n",
       "2017_ACT_Science          23.20    24.9  \n",
       "2017_ACT_Composite        23.60    25.5  \n",
       "2018_SAT_Participation    77.50   100.0  \n",
       "2018_SAT_EBRW            610.50   643.0  \n",
       "2018_SAT_Math            593.50   655.0  \n",
       "2018_SAT_Total          1204.00  1298.0  \n",
       "2018_ACT_Participation   100.00   100.0  \n",
       "2018_ACT_Composite        23.55    25.6  \n",
       "2018_ACT_English          23.70    26.0  \n",
       "2018_ACT_Math             23.15    25.2  \n",
       "2018_ACT_Reading          24.10    26.1  \n",
       "2018_ACT_Science          23.05    24.9  "
      ]
     },
     "execution_count": 46,
     "metadata": {},
     "output_type": "execute_result"
    }
   ],
   "source": [
    "#Pandas describe for the final dataframe\n",
    "final_df.describe().T"
   ]
  },
  {
   "cell_type": "markdown",
   "metadata": {},
   "source": [
    "#### Manually calculate standard deviation\n",
    "\n",
    "$$\\sigma = \\sqrt{\\frac{1}{n}\\sum_{i=1}^n(x_i - \\mu)^2}$$\n",
    "\n",
    "- Write a function to calculate standard deviation using the formula above"
   ]
  },
  {
   "cell_type": "code",
   "execution_count": 47,
   "metadata": {},
   "outputs": [],
   "source": [
    "# Function to calculate the standard deviation of a Series\n",
    "def std_dev(samples, ddof=True):\n",
    "    \"\"\" \n",
    "    Function to calculate the standard deviation of a Series. \n",
    "  \n",
    "    Parameters: \n",
    "\t\tsamples (Series): Series that needs to have standard deviation calculated\n",
    "        ddof (Boolean): Flag to define if population standard deviation is required\n",
    "  \n",
    "    Returns: \n",
    "\t\tfloat: Standard deviation rounded to 4 decimal places  \n",
    "  \n",
    "    \"\"\"\n",
    "    n = len(samples)\n",
    "    if ddof: n -= 1 \n",
    "    ave = np.mean(samples)\n",
    "    result = np.sum([ np.mean(abs(sam-ave)**2) for sam in samples ])\n",
    "    return round((result/n)**0.5, 4)"
   ]
  },
  {
   "cell_type": "markdown",
   "metadata": {},
   "source": [
    "- Use a **dictionary comprehension** to apply your standard deviation function to each numeric column in the dataframe.  **No loops**  \n",
    "- Assign the output to variable `sd` as a dictionary where: \n",
    "    - Each column name is now a key \n",
    "    - That standard deviation of the column is the value \n",
    "     \n",
    "*Example Output :* `{'ACT_Math': 120, 'ACT_Reading': 120, ...}`"
   ]
  },
  {
   "cell_type": "code",
   "execution_count": 48,
   "metadata": {},
   "outputs": [
    {
     "data": {
      "text/plain": [
       "{'2017_SAT_Participation': 35.2766,\n",
       " '2017_SAT_EBRW': 45.6669,\n",
       " '2017_SAT_Math': 47.1214,\n",
       " '2017_SAT_Total': 92.4948,\n",
       " '2017_ACT_Participation': 32.1408,\n",
       " '2017_ACT_English': 2.3537,\n",
       " '2017_ACT_Math': 1.982,\n",
       " '2017_ACT_Reading': 2.0673,\n",
       " '2017_ACT_Science': 1.7394,\n",
       " '2017_ACT_Composite': 2.0207,\n",
       " '2018_SAT_Participation': 37.3143,\n",
       " '2018_SAT_EBRW': 47.5026,\n",
       " '2018_SAT_Math': 47.7726,\n",
       " '2018_SAT_Total': 94.1551,\n",
       " '2018_ACT_Participation': 34.081,\n",
       " '2018_ACT_Composite': 2.1063,\n",
       " '2018_ACT_English': 2.4464,\n",
       " '2018_ACT_Math': 2.0358,\n",
       " '2018_ACT_Reading': 2.1672,\n",
       " '2018_ACT_Science': 1.8701}"
      ]
     },
     "metadata": {},
     "output_type": "display_data"
    },
    {
     "data": {
      "text/plain": [
       "2017_SAT_Participation    35.2766\n",
       "2017_SAT_EBRW             45.6669\n",
       "2017_SAT_Math             47.1214\n",
       "2017_SAT_Total            92.4948\n",
       "2017_ACT_Participation    32.1408\n",
       "2017_ACT_English           2.3537\n",
       "2017_ACT_Math              1.9820\n",
       "2017_ACT_Reading           2.0673\n",
       "2017_ACT_Science           1.7394\n",
       "2017_ACT_Composite         2.0207\n",
       "2018_SAT_Participation    37.3143\n",
       "2018_SAT_EBRW             47.5026\n",
       "2018_SAT_Math             47.7726\n",
       "2018_SAT_Total            94.1551\n",
       "2018_ACT_Participation    34.0810\n",
       "2018_ACT_Composite         2.1063\n",
       "2018_ACT_English           2.4464\n",
       "2018_ACT_Math              2.0358\n",
       "2018_ACT_Reading           2.1672\n",
       "2018_ACT_Science           1.8701\n",
       "Name: std, dtype: float64"
      ]
     },
     "metadata": {},
     "output_type": "display_data"
    },
    {
     "data": {
      "text/plain": [
       "{'2017_SAT_Participation': 35.276632270013046,\n",
       " '2017_SAT_EBRW': 45.66690138768932,\n",
       " '2017_SAT_Math': 47.12139516560329,\n",
       " '2017_SAT_Total': 92.49481172519046,\n",
       " '2017_ACT_Participation': 32.14084201588683,\n",
       " '2017_ACT_English': 2.35367713980303,\n",
       " '2017_ACT_Math': 1.9819894936505533,\n",
       " '2017_ACT_Reading': 2.0672706264873146,\n",
       " '2017_ACT_Science': 1.7393530462812443,\n",
       " '2017_ACT_Composite': 2.020694891154341,\n",
       " '2018_SAT_Participation': 37.31425633039196,\n",
       " '2018_SAT_EBRW': 47.50262737831599,\n",
       " '2018_SAT_Math': 47.77262322095955,\n",
       " '2018_SAT_Total': 94.15508275097599,\n",
       " '2018_ACT_Participation': 34.08097623567245,\n",
       " '2018_ACT_Composite': 2.1062781969951776,\n",
       " '2018_ACT_English': 2.4463562339793055,\n",
       " '2018_ACT_Math': 2.035764538177723,\n",
       " '2018_ACT_Reading': 2.1672445684804105,\n",
       " '2018_ACT_Science': 1.8701137639716146}"
      ]
     },
     "execution_count": 48,
     "metadata": {},
     "output_type": "execute_result"
    }
   ],
   "source": [
    "# Using final_df.columns[1:] to skip \"State\" columns\n",
    "sd = { sam:std_dev(final_df[sam]) for sam in final_df.columns[1:] }\n",
    "\n",
    "# Comparing standard deviation between pandas, numpy and function above\n",
    "display(sd)\n",
    "display(final_df.describe().T['std'])\n",
    "{ sam:np.std(final_df[sam], ddof=1) for sam in final_df.columns[1:] }"
   ]
  },
  {
   "cell_type": "markdown",
   "metadata": {},
   "source": [
    "Do your manually calculated standard deviations match up with the output from pandas `describe`? What about numpy's `std` method?"
   ]
  },
  {
   "cell_type": "markdown",
   "metadata": {},
   "source": [
    "Answer\n",
    "\n",
    "Initially manual calculation did not match up to the output from pandas as I was using the formula for population standard deviations. Pandas' describe function by default is returning sample standard deviation, if population standard deviation is required we can use the ddof=0 option. On the other hand numpy's std function is returning the population standard deviation, also this behaviour can be changed by using the ddof=1 option.\n",
    "***"
   ]
  },
  {
   "cell_type": "markdown",
   "metadata": {},
   "source": [
    "#### Investigate trends in the data\n",
    "Using sorting and/or masking (along with the `.head` method to not print our entire dataframe), consider the following questions:\n",
    "\n",
    "- Which states have the highest and lowest participation rates for the:\n",
    "    - 2017 SAT?\n",
    "    - 2018 SAT?\n",
    "    - 2017 ACT?\n",
    "    - 2018 ACT?\n",
    "- Which states have the highest and lowest mean total/composite scores for the:\n",
    "    - 2017 SAT?\n",
    "    - 2018 SAT?\n",
    "    - 2017 ACT?\n",
    "    - 2018 ACT?\n",
    "- Do any states with 100% participation on a given test have a rate change year-to-year?\n",
    "- Do any states show have >50% participation on *both* tests either year?\n",
    "\n",
    "Based on what you've just observed, have you identified any states that you're especially interested in? **Make a note of these and state *why* you think they're interesting**.\n",
    "\n",
    "**You should comment on your findings at each step in a markdown cell below your code block**. Make sure you include at least one example of sorting your dataframe by a column, and one example of using boolean filtering (i.e., masking) to select a subset of the dataframe."
   ]
  },
  {
   "cell_type": "markdown",
   "metadata": {},
   "source": [
    "### States with highest and lowest participation rates for SAT 2017 and  2018"
   ]
  },
  {
   "cell_type": "code",
   "execution_count": 49,
   "metadata": {},
   "outputs": [
    {
     "data": {
      "text/html": [
       "<div>\n",
       "<style scoped>\n",
       "    .dataframe tbody tr th:only-of-type {\n",
       "        vertical-align: middle;\n",
       "    }\n",
       "\n",
       "    .dataframe tbody tr th {\n",
       "        vertical-align: top;\n",
       "    }\n",
       "\n",
       "    .dataframe thead th {\n",
       "        text-align: right;\n",
       "    }\n",
       "</style>\n",
       "<table border=\"1\" class=\"dataframe\">\n",
       "  <thead>\n",
       "    <tr style=\"text-align: right;\">\n",
       "      <th></th>\n",
       "      <th>State</th>\n",
       "      <th>2017_SAT_Participation</th>\n",
       "      <th>2017_ACT_Participation</th>\n",
       "    </tr>\n",
       "  </thead>\n",
       "  <tbody>\n",
       "    <tr>\n",
       "      <th>34</th>\n",
       "      <td>North Dakota</td>\n",
       "      <td>2</td>\n",
       "      <td>98</td>\n",
       "    </tr>\n",
       "    <tr>\n",
       "      <th>24</th>\n",
       "      <td>Mississippi</td>\n",
       "      <td>2</td>\n",
       "      <td>100</td>\n",
       "    </tr>\n",
       "    <tr>\n",
       "      <th>15</th>\n",
       "      <td>Iowa</td>\n",
       "      <td>2</td>\n",
       "      <td>67</td>\n",
       "    </tr>\n",
       "    <tr>\n",
       "      <th>25</th>\n",
       "      <td>Missouri</td>\n",
       "      <td>3</td>\n",
       "      <td>100</td>\n",
       "    </tr>\n",
       "    <tr>\n",
       "      <th>44</th>\n",
       "      <td>Utah</td>\n",
       "      <td>3</td>\n",
       "      <td>100</td>\n",
       "    </tr>\n",
       "  </tbody>\n",
       "</table>\n",
       "</div>"
      ],
      "text/plain": [
       "           State  2017_SAT_Participation  2017_ACT_Participation\n",
       "34  North Dakota                       2                      98\n",
       "24   Mississippi                       2                     100\n",
       "15          Iowa                       2                      67\n",
       "25      Missouri                       3                     100\n",
       "44          Utah                       3                     100"
      ]
     },
     "execution_count": 49,
     "metadata": {},
     "output_type": "execute_result"
    }
   ],
   "source": [
    "#States with lowest SAT participation rate for 2017\n",
    "final_df.sort_values('2017_SAT_Participation')[['State','2017_SAT_Participation','2017_ACT_Participation']].head()"
   ]
  },
  {
   "cell_type": "markdown",
   "metadata": {},
   "source": [
    "At the lowest participation rate of 2% are North Dakota, Mississippi and Iowa."
   ]
  },
  {
   "cell_type": "code",
   "execution_count": 50,
   "metadata": {},
   "outputs": [
    {
     "data": {
      "text/html": [
       "<div>\n",
       "<style scoped>\n",
       "    .dataframe tbody tr th:only-of-type {\n",
       "        vertical-align: middle;\n",
       "    }\n",
       "\n",
       "    .dataframe tbody tr th {\n",
       "        vertical-align: top;\n",
       "    }\n",
       "\n",
       "    .dataframe thead th {\n",
       "        text-align: right;\n",
       "    }\n",
       "</style>\n",
       "<table border=\"1\" class=\"dataframe\">\n",
       "  <thead>\n",
       "    <tr style=\"text-align: right;\">\n",
       "      <th></th>\n",
       "      <th>State</th>\n",
       "      <th>2017_SAT_Participation</th>\n",
       "      <th>2017_ACT_Participation</th>\n",
       "    </tr>\n",
       "  </thead>\n",
       "  <tbody>\n",
       "    <tr>\n",
       "      <th>8</th>\n",
       "      <td>District of Columbia</td>\n",
       "      <td>100</td>\n",
       "      <td>32</td>\n",
       "    </tr>\n",
       "    <tr>\n",
       "      <th>22</th>\n",
       "      <td>Michigan</td>\n",
       "      <td>100</td>\n",
       "      <td>29</td>\n",
       "    </tr>\n",
       "    <tr>\n",
       "      <th>6</th>\n",
       "      <td>Connecticut</td>\n",
       "      <td>100</td>\n",
       "      <td>31</td>\n",
       "    </tr>\n",
       "    <tr>\n",
       "      <th>7</th>\n",
       "      <td>Delaware</td>\n",
       "      <td>100</td>\n",
       "      <td>18</td>\n",
       "    </tr>\n",
       "    <tr>\n",
       "      <th>29</th>\n",
       "      <td>New Hampshire</td>\n",
       "      <td>96</td>\n",
       "      <td>18</td>\n",
       "    </tr>\n",
       "  </tbody>\n",
       "</table>\n",
       "</div>"
      ],
      "text/plain": [
       "                   State  2017_SAT_Participation  2017_ACT_Participation\n",
       "8   District of Columbia                     100                      32\n",
       "22              Michigan                     100                      29\n",
       "6            Connecticut                     100                      31\n",
       "7               Delaware                     100                      18\n",
       "29         New Hampshire                      96                      18"
      ]
     },
     "execution_count": 50,
     "metadata": {},
     "output_type": "execute_result"
    }
   ],
   "source": [
    "#States with highest SAT participation rate for 2017\n",
    "final_df.sort_values('2017_SAT_Participation',ascending=False)[['State','2017_SAT_Participation','2017_ACT_Participation']].head()"
   ]
  },
  {
   "cell_type": "markdown",
   "metadata": {},
   "source": [
    "At the highest participation rate of 100% are District of Columbia, Michigan, Connecticut and Delaware."
   ]
  },
  {
   "cell_type": "code",
   "execution_count": 51,
   "metadata": {},
   "outputs": [
    {
     "data": {
      "text/html": [
       "<div>\n",
       "<style scoped>\n",
       "    .dataframe tbody tr th:only-of-type {\n",
       "        vertical-align: middle;\n",
       "    }\n",
       "\n",
       "    .dataframe tbody tr th {\n",
       "        vertical-align: top;\n",
       "    }\n",
       "\n",
       "    .dataframe thead th {\n",
       "        text-align: right;\n",
       "    }\n",
       "</style>\n",
       "<table border=\"1\" class=\"dataframe\">\n",
       "  <thead>\n",
       "    <tr style=\"text-align: right;\">\n",
       "      <th></th>\n",
       "      <th>State</th>\n",
       "      <th>2018_SAT_Participation</th>\n",
       "      <th>2018_ACT_Participation</th>\n",
       "    </tr>\n",
       "  </thead>\n",
       "  <tbody>\n",
       "    <tr>\n",
       "      <th>34</th>\n",
       "      <td>North Dakota</td>\n",
       "      <td>2</td>\n",
       "      <td>98</td>\n",
       "    </tr>\n",
       "    <tr>\n",
       "      <th>50</th>\n",
       "      <td>Wyoming</td>\n",
       "      <td>3</td>\n",
       "      <td>100</td>\n",
       "    </tr>\n",
       "    <tr>\n",
       "      <th>41</th>\n",
       "      <td>South Dakota</td>\n",
       "      <td>3</td>\n",
       "      <td>77</td>\n",
       "    </tr>\n",
       "    <tr>\n",
       "      <th>27</th>\n",
       "      <td>Nebraska</td>\n",
       "      <td>3</td>\n",
       "      <td>100</td>\n",
       "    </tr>\n",
       "    <tr>\n",
       "      <th>49</th>\n",
       "      <td>Wisconsin</td>\n",
       "      <td>3</td>\n",
       "      <td>100</td>\n",
       "    </tr>\n",
       "  </tbody>\n",
       "</table>\n",
       "</div>"
      ],
      "text/plain": [
       "           State  2018_SAT_Participation  2018_ACT_Participation\n",
       "34  North Dakota                       2                      98\n",
       "50       Wyoming                       3                     100\n",
       "41  South Dakota                       3                      77\n",
       "27      Nebraska                       3                     100\n",
       "49     Wisconsin                       3                     100"
      ]
     },
     "execution_count": 51,
     "metadata": {},
     "output_type": "execute_result"
    }
   ],
   "source": [
    "#States with lowest SAT participation rate for 2018\n",
    "final_df.sort_values('2018_SAT_Participation')[['State','2018_SAT_Participation','2018_ACT_Participation']].head()"
   ]
  },
  {
   "cell_type": "markdown",
   "metadata": {},
   "source": [
    "In 2018 North Dakota has the lowest participation rate of 2% while Mississippi and Iowa is at 3%. These are potential states that we can to look further into improving their participation rate."
   ]
  },
  {
   "cell_type": "code",
   "execution_count": 52,
   "metadata": {},
   "outputs": [
    {
     "data": {
      "text/html": [
       "<div>\n",
       "<style scoped>\n",
       "    .dataframe tbody tr th:only-of-type {\n",
       "        vertical-align: middle;\n",
       "    }\n",
       "\n",
       "    .dataframe tbody tr th {\n",
       "        vertical-align: top;\n",
       "    }\n",
       "\n",
       "    .dataframe thead th {\n",
       "        text-align: right;\n",
       "    }\n",
       "</style>\n",
       "<table border=\"1\" class=\"dataframe\">\n",
       "  <thead>\n",
       "    <tr style=\"text-align: right;\">\n",
       "      <th></th>\n",
       "      <th>State</th>\n",
       "      <th>2018_SAT_Participation</th>\n",
       "      <th>2018_ACT_Participation</th>\n",
       "    </tr>\n",
       "  </thead>\n",
       "  <tbody>\n",
       "    <tr>\n",
       "      <th>5</th>\n",
       "      <td>Colorado</td>\n",
       "      <td>100</td>\n",
       "      <td>30</td>\n",
       "    </tr>\n",
       "    <tr>\n",
       "      <th>6</th>\n",
       "      <td>Connecticut</td>\n",
       "      <td>100</td>\n",
       "      <td>26</td>\n",
       "    </tr>\n",
       "    <tr>\n",
       "      <th>7</th>\n",
       "      <td>Delaware</td>\n",
       "      <td>100</td>\n",
       "      <td>17</td>\n",
       "    </tr>\n",
       "    <tr>\n",
       "      <th>22</th>\n",
       "      <td>Michigan</td>\n",
       "      <td>100</td>\n",
       "      <td>22</td>\n",
       "    </tr>\n",
       "    <tr>\n",
       "      <th>12</th>\n",
       "      <td>Idaho</td>\n",
       "      <td>100</td>\n",
       "      <td>36</td>\n",
       "    </tr>\n",
       "  </tbody>\n",
       "</table>\n",
       "</div>"
      ],
      "text/plain": [
       "          State  2018_SAT_Participation  2018_ACT_Participation\n",
       "5      Colorado                     100                      30\n",
       "6   Connecticut                     100                      26\n",
       "7      Delaware                     100                      17\n",
       "22     Michigan                     100                      22\n",
       "12        Idaho                     100                      36"
      ]
     },
     "execution_count": 52,
     "metadata": {},
     "output_type": "execute_result"
    }
   ],
   "source": [
    "#States with highest SAT participation rate for 2018\n",
    "final_df.sort_values('2018_SAT_Participation',ascending=False)[['State','2018_SAT_Participation','2018_ACT_Participation']].head()"
   ]
  },
  {
   "cell_type": "markdown",
   "metadata": {},
   "source": [
    "In 2018 Michigan, Connecticut and Delaware are at the top again. Colorado and Idaho achieved 100% participation rates as well in 2018. These are the states where we can look at what they are doing right to get such high rates.\n",
    "***"
   ]
  },
  {
   "cell_type": "markdown",
   "metadata": {},
   "source": [
    "### States with highest and lowest participation rates for ACT 2017 and 2018"
   ]
  },
  {
   "cell_type": "code",
   "execution_count": 53,
   "metadata": {},
   "outputs": [
    {
     "data": {
      "text/html": [
       "<div>\n",
       "<style scoped>\n",
       "    .dataframe tbody tr th:only-of-type {\n",
       "        vertical-align: middle;\n",
       "    }\n",
       "\n",
       "    .dataframe tbody tr th {\n",
       "        vertical-align: top;\n",
       "    }\n",
       "\n",
       "    .dataframe thead th {\n",
       "        text-align: right;\n",
       "    }\n",
       "</style>\n",
       "<table border=\"1\" class=\"dataframe\">\n",
       "  <thead>\n",
       "    <tr style=\"text-align: right;\">\n",
       "      <th></th>\n",
       "      <th>State</th>\n",
       "      <th>2017_ACT_Participation</th>\n",
       "    </tr>\n",
       "  </thead>\n",
       "  <tbody>\n",
       "    <tr>\n",
       "      <th>19</th>\n",
       "      <td>Maine</td>\n",
       "      <td>8</td>\n",
       "    </tr>\n",
       "    <tr>\n",
       "      <th>29</th>\n",
       "      <td>New Hampshire</td>\n",
       "      <td>18</td>\n",
       "    </tr>\n",
       "    <tr>\n",
       "      <th>7</th>\n",
       "      <td>Delaware</td>\n",
       "      <td>18</td>\n",
       "    </tr>\n",
       "    <tr>\n",
       "      <th>39</th>\n",
       "      <td>Rhode Island</td>\n",
       "      <td>21</td>\n",
       "    </tr>\n",
       "    <tr>\n",
       "      <th>38</th>\n",
       "      <td>Pennsylvania</td>\n",
       "      <td>23</td>\n",
       "    </tr>\n",
       "  </tbody>\n",
       "</table>\n",
       "</div>"
      ],
      "text/plain": [
       "            State  2017_ACT_Participation\n",
       "19          Maine                       8\n",
       "29  New Hampshire                      18\n",
       "7        Delaware                      18\n",
       "39   Rhode Island                      21\n",
       "38   Pennsylvania                      23"
      ]
     },
     "execution_count": 53,
     "metadata": {},
     "output_type": "execute_result"
    }
   ],
   "source": [
    "#States with lowest ACT participation rate for 2017\n",
    "final_df.sort_values('2017_ACT_Participation')[['State','2017_ACT_Participation']].head()"
   ]
  },
  {
   "cell_type": "code",
   "execution_count": 54,
   "metadata": {},
   "outputs": [
    {
     "data": {
      "text/html": [
       "<div>\n",
       "<style scoped>\n",
       "    .dataframe tbody tr th:only-of-type {\n",
       "        vertical-align: middle;\n",
       "    }\n",
       "\n",
       "    .dataframe tbody tr th {\n",
       "        vertical-align: top;\n",
       "    }\n",
       "\n",
       "    .dataframe thead th {\n",
       "        text-align: right;\n",
       "    }\n",
       "</style>\n",
       "<table border=\"1\" class=\"dataframe\">\n",
       "  <thead>\n",
       "    <tr style=\"text-align: right;\">\n",
       "      <th></th>\n",
       "      <th>State</th>\n",
       "      <th>2017_ACT_Participation</th>\n",
       "    </tr>\n",
       "  </thead>\n",
       "  <tbody>\n",
       "    <tr>\n",
       "      <th>0</th>\n",
       "      <td>Alabama</td>\n",
       "      <td>100</td>\n",
       "    </tr>\n",
       "    <tr>\n",
       "      <th>17</th>\n",
       "      <td>Kentucky</td>\n",
       "      <td>100</td>\n",
       "    </tr>\n",
       "    <tr>\n",
       "      <th>49</th>\n",
       "      <td>Wisconsin</td>\n",
       "      <td>100</td>\n",
       "    </tr>\n",
       "    <tr>\n",
       "      <th>44</th>\n",
       "      <td>Utah</td>\n",
       "      <td>100</td>\n",
       "    </tr>\n",
       "    <tr>\n",
       "      <th>42</th>\n",
       "      <td>Tennessee</td>\n",
       "      <td>100</td>\n",
       "    </tr>\n",
       "    <tr>\n",
       "      <th>40</th>\n",
       "      <td>South Carolina</td>\n",
       "      <td>100</td>\n",
       "    </tr>\n",
       "    <tr>\n",
       "      <th>36</th>\n",
       "      <td>Oklahoma</td>\n",
       "      <td>100</td>\n",
       "    </tr>\n",
       "    <tr>\n",
       "      <th>33</th>\n",
       "      <td>North Carolina</td>\n",
       "      <td>100</td>\n",
       "    </tr>\n",
       "    <tr>\n",
       "      <th>28</th>\n",
       "      <td>Nevada</td>\n",
       "      <td>100</td>\n",
       "    </tr>\n",
       "    <tr>\n",
       "      <th>26</th>\n",
       "      <td>Montana</td>\n",
       "      <td>100</td>\n",
       "    </tr>\n",
       "    <tr>\n",
       "      <th>24</th>\n",
       "      <td>Mississippi</td>\n",
       "      <td>100</td>\n",
       "    </tr>\n",
       "    <tr>\n",
       "      <th>23</th>\n",
       "      <td>Minnesota</td>\n",
       "      <td>100</td>\n",
       "    </tr>\n",
       "    <tr>\n",
       "      <th>18</th>\n",
       "      <td>Louisiana</td>\n",
       "      <td>100</td>\n",
       "    </tr>\n",
       "    <tr>\n",
       "      <th>25</th>\n",
       "      <td>Missouri</td>\n",
       "      <td>100</td>\n",
       "    </tr>\n",
       "    <tr>\n",
       "      <th>50</th>\n",
       "      <td>Wyoming</td>\n",
       "      <td>100</td>\n",
       "    </tr>\n",
       "    <tr>\n",
       "      <th>5</th>\n",
       "      <td>Colorado</td>\n",
       "      <td>100</td>\n",
       "    </tr>\n",
       "    <tr>\n",
       "      <th>3</th>\n",
       "      <td>Arkansas</td>\n",
       "      <td>100</td>\n",
       "    </tr>\n",
       "    <tr>\n",
       "      <th>34</th>\n",
       "      <td>North Dakota</td>\n",
       "      <td>98</td>\n",
       "    </tr>\n",
       "    <tr>\n",
       "      <th>13</th>\n",
       "      <td>Illinois</td>\n",
       "      <td>93</td>\n",
       "    </tr>\n",
       "    <tr>\n",
       "      <th>11</th>\n",
       "      <td>Hawaii</td>\n",
       "      <td>90</td>\n",
       "    </tr>\n",
       "  </tbody>\n",
       "</table>\n",
       "</div>"
      ],
      "text/plain": [
       "             State  2017_ACT_Participation\n",
       "0          Alabama                     100\n",
       "17        Kentucky                     100\n",
       "49       Wisconsin                     100\n",
       "44            Utah                     100\n",
       "42       Tennessee                     100\n",
       "40  South Carolina                     100\n",
       "36        Oklahoma                     100\n",
       "33  North Carolina                     100\n",
       "28          Nevada                     100\n",
       "26         Montana                     100\n",
       "24     Mississippi                     100\n",
       "23       Minnesota                     100\n",
       "18       Louisiana                     100\n",
       "25        Missouri                     100\n",
       "50         Wyoming                     100\n",
       "5         Colorado                     100\n",
       "3         Arkansas                     100\n",
       "34    North Dakota                      98\n",
       "13        Illinois                      93\n",
       "11          Hawaii                      90"
      ]
     },
     "execution_count": 54,
     "metadata": {},
     "output_type": "execute_result"
    }
   ],
   "source": [
    "#States with highest ACT participation rate for 2017\n",
    "final_df.sort_values('2017_ACT_Participation',ascending=False)[['State','2017_ACT_Participation']].head(20)"
   ]
  },
  {
   "cell_type": "code",
   "execution_count": 55,
   "metadata": {},
   "outputs": [
    {
     "data": {
      "text/html": [
       "<div>\n",
       "<style scoped>\n",
       "    .dataframe tbody tr th:only-of-type {\n",
       "        vertical-align: middle;\n",
       "    }\n",
       "\n",
       "    .dataframe tbody tr th {\n",
       "        vertical-align: top;\n",
       "    }\n",
       "\n",
       "    .dataframe thead th {\n",
       "        text-align: right;\n",
       "    }\n",
       "</style>\n",
       "<table border=\"1\" class=\"dataframe\">\n",
       "  <thead>\n",
       "    <tr style=\"text-align: right;\">\n",
       "      <th></th>\n",
       "      <th>State</th>\n",
       "      <th>2018_ACT_Participation</th>\n",
       "    </tr>\n",
       "  </thead>\n",
       "  <tbody>\n",
       "    <tr>\n",
       "      <th>19</th>\n",
       "      <td>Maine</td>\n",
       "      <td>7</td>\n",
       "    </tr>\n",
       "    <tr>\n",
       "      <th>39</th>\n",
       "      <td>Rhode Island</td>\n",
       "      <td>15</td>\n",
       "    </tr>\n",
       "    <tr>\n",
       "      <th>29</th>\n",
       "      <td>New Hampshire</td>\n",
       "      <td>16</td>\n",
       "    </tr>\n",
       "    <tr>\n",
       "      <th>7</th>\n",
       "      <td>Delaware</td>\n",
       "      <td>17</td>\n",
       "    </tr>\n",
       "    <tr>\n",
       "      <th>38</th>\n",
       "      <td>Pennsylvania</td>\n",
       "      <td>20</td>\n",
       "    </tr>\n",
       "  </tbody>\n",
       "</table>\n",
       "</div>"
      ],
      "text/plain": [
       "            State  2018_ACT_Participation\n",
       "19          Maine                       7\n",
       "39   Rhode Island                      15\n",
       "29  New Hampshire                      16\n",
       "7        Delaware                      17\n",
       "38   Pennsylvania                      20"
      ]
     },
     "execution_count": 55,
     "metadata": {},
     "output_type": "execute_result"
    }
   ],
   "source": [
    "#States with lowest ACT participation rate for 2018\n",
    "final_df.sort_values('2018_ACT_Participation')[['State','2018_ACT_Participation']].head()"
   ]
  },
  {
   "cell_type": "code",
   "execution_count": 56,
   "metadata": {},
   "outputs": [
    {
     "data": {
      "text/html": [
       "<div>\n",
       "<style scoped>\n",
       "    .dataframe tbody tr th:only-of-type {\n",
       "        vertical-align: middle;\n",
       "    }\n",
       "\n",
       "    .dataframe tbody tr th {\n",
       "        vertical-align: top;\n",
       "    }\n",
       "\n",
       "    .dataframe thead th {\n",
       "        text-align: right;\n",
       "    }\n",
       "</style>\n",
       "<table border=\"1\" class=\"dataframe\">\n",
       "  <thead>\n",
       "    <tr style=\"text-align: right;\">\n",
       "      <th></th>\n",
       "      <th>State</th>\n",
       "      <th>2018_ACT_Participation</th>\n",
       "    </tr>\n",
       "  </thead>\n",
       "  <tbody>\n",
       "    <tr>\n",
       "      <th>0</th>\n",
       "      <td>Alabama</td>\n",
       "      <td>100</td>\n",
       "    </tr>\n",
       "    <tr>\n",
       "      <th>17</th>\n",
       "      <td>Kentucky</td>\n",
       "      <td>100</td>\n",
       "    </tr>\n",
       "    <tr>\n",
       "      <th>49</th>\n",
       "      <td>Wisconsin</td>\n",
       "      <td>100</td>\n",
       "    </tr>\n",
       "    <tr>\n",
       "      <th>44</th>\n",
       "      <td>Utah</td>\n",
       "      <td>100</td>\n",
       "    </tr>\n",
       "    <tr>\n",
       "      <th>42</th>\n",
       "      <td>Tennessee</td>\n",
       "      <td>100</td>\n",
       "    </tr>\n",
       "    <tr>\n",
       "      <th>40</th>\n",
       "      <td>South Carolina</td>\n",
       "      <td>100</td>\n",
       "    </tr>\n",
       "    <tr>\n",
       "      <th>36</th>\n",
       "      <td>Oklahoma</td>\n",
       "      <td>100</td>\n",
       "    </tr>\n",
       "    <tr>\n",
       "      <th>35</th>\n",
       "      <td>Ohio</td>\n",
       "      <td>100</td>\n",
       "    </tr>\n",
       "    <tr>\n",
       "      <th>33</th>\n",
       "      <td>North Carolina</td>\n",
       "      <td>100</td>\n",
       "    </tr>\n",
       "    <tr>\n",
       "      <th>28</th>\n",
       "      <td>Nevada</td>\n",
       "      <td>100</td>\n",
       "    </tr>\n",
       "    <tr>\n",
       "      <th>27</th>\n",
       "      <td>Nebraska</td>\n",
       "      <td>100</td>\n",
       "    </tr>\n",
       "    <tr>\n",
       "      <th>26</th>\n",
       "      <td>Montana</td>\n",
       "      <td>100</td>\n",
       "    </tr>\n",
       "    <tr>\n",
       "      <th>24</th>\n",
       "      <td>Mississippi</td>\n",
       "      <td>100</td>\n",
       "    </tr>\n",
       "    <tr>\n",
       "      <th>18</th>\n",
       "      <td>Louisiana</td>\n",
       "      <td>100</td>\n",
       "    </tr>\n",
       "    <tr>\n",
       "      <th>25</th>\n",
       "      <td>Missouri</td>\n",
       "      <td>100</td>\n",
       "    </tr>\n",
       "    <tr>\n",
       "      <th>50</th>\n",
       "      <td>Wyoming</td>\n",
       "      <td>100</td>\n",
       "    </tr>\n",
       "    <tr>\n",
       "      <th>3</th>\n",
       "      <td>Arkansas</td>\n",
       "      <td>100</td>\n",
       "    </tr>\n",
       "    <tr>\n",
       "      <th>23</th>\n",
       "      <td>Minnesota</td>\n",
       "      <td>99</td>\n",
       "    </tr>\n",
       "    <tr>\n",
       "      <th>34</th>\n",
       "      <td>North Dakota</td>\n",
       "      <td>98</td>\n",
       "    </tr>\n",
       "    <tr>\n",
       "      <th>11</th>\n",
       "      <td>Hawaii</td>\n",
       "      <td>89</td>\n",
       "    </tr>\n",
       "  </tbody>\n",
       "</table>\n",
       "</div>"
      ],
      "text/plain": [
       "             State  2018_ACT_Participation\n",
       "0          Alabama                     100\n",
       "17        Kentucky                     100\n",
       "49       Wisconsin                     100\n",
       "44            Utah                     100\n",
       "42       Tennessee                     100\n",
       "40  South Carolina                     100\n",
       "36        Oklahoma                     100\n",
       "35            Ohio                     100\n",
       "33  North Carolina                     100\n",
       "28          Nevada                     100\n",
       "27        Nebraska                     100\n",
       "26         Montana                     100\n",
       "24     Mississippi                     100\n",
       "18       Louisiana                     100\n",
       "25        Missouri                     100\n",
       "50         Wyoming                     100\n",
       "3         Arkansas                     100\n",
       "23       Minnesota                      99\n",
       "34    North Dakota                      98\n",
       "11          Hawaii                      89"
      ]
     },
     "execution_count": 56,
     "metadata": {},
     "output_type": "execute_result"
    }
   ],
   "source": [
    "#States with highest ACT participation rate for 2018\n",
    "final_df.sort_values('2018_ACT_Participation',ascending=False)[['State','2018_ACT_Participation']].head(20)"
   ]
  },
  {
   "cell_type": "markdown",
   "metadata": {},
   "source": [
    "Initial impression on ACT participation rates was that it looks better that SAT's, ACT has 17 states with 100% participation rates for both 2017 and 2018. Maine was the one with the lowest rate for both years.\n",
    "\n",
    "Some observations from these series of dataframes:\n",
    "- ACT has 17 states with 100% participation rates vs SAT's 3 to 5 states\n",
    "- ACT has 1 states with < 10% participation rates vs SAT's 17 to 18 states\n",
    "- Higher participation in one test would show a lower participation in the other\n",
    "\n",
    "***"
   ]
  },
  {
   "cell_type": "markdown",
   "metadata": {},
   "source": [
    "### States with highest and lowest Mean SAT scores for 2017 and 2018"
   ]
  },
  {
   "cell_type": "code",
   "execution_count": 57,
   "metadata": {},
   "outputs": [
    {
     "data": {
      "text/html": [
       "<div>\n",
       "<style scoped>\n",
       "    .dataframe tbody tr th:only-of-type {\n",
       "        vertical-align: middle;\n",
       "    }\n",
       "\n",
       "    .dataframe tbody tr th {\n",
       "        vertical-align: top;\n",
       "    }\n",
       "\n",
       "    .dataframe thead th {\n",
       "        text-align: right;\n",
       "    }\n",
       "</style>\n",
       "<table border=\"1\" class=\"dataframe\">\n",
       "  <thead>\n",
       "    <tr style=\"text-align: right;\">\n",
       "      <th></th>\n",
       "      <th>State</th>\n",
       "      <th>2017_SAT_Total</th>\n",
       "      <th>2017_SAT_Participation</th>\n",
       "    </tr>\n",
       "  </thead>\n",
       "  <tbody>\n",
       "    <tr>\n",
       "      <th>8</th>\n",
       "      <td>District of Columbia</td>\n",
       "      <td>950</td>\n",
       "      <td>100</td>\n",
       "    </tr>\n",
       "    <tr>\n",
       "      <th>7</th>\n",
       "      <td>Delaware</td>\n",
       "      <td>996</td>\n",
       "      <td>100</td>\n",
       "    </tr>\n",
       "    <tr>\n",
       "      <th>12</th>\n",
       "      <td>Idaho</td>\n",
       "      <td>1005</td>\n",
       "      <td>93</td>\n",
       "    </tr>\n",
       "    <tr>\n",
       "      <th>22</th>\n",
       "      <td>Michigan</td>\n",
       "      <td>1005</td>\n",
       "      <td>100</td>\n",
       "    </tr>\n",
       "    <tr>\n",
       "      <th>19</th>\n",
       "      <td>Maine</td>\n",
       "      <td>1012</td>\n",
       "      <td>95</td>\n",
       "    </tr>\n",
       "    <tr>\n",
       "      <th>9</th>\n",
       "      <td>Florida</td>\n",
       "      <td>1017</td>\n",
       "      <td>83</td>\n",
       "    </tr>\n",
       "    <tr>\n",
       "      <th>43</th>\n",
       "      <td>Texas</td>\n",
       "      <td>1020</td>\n",
       "      <td>62</td>\n",
       "    </tr>\n",
       "    <tr>\n",
       "      <th>6</th>\n",
       "      <td>Connecticut</td>\n",
       "      <td>1041</td>\n",
       "      <td>100</td>\n",
       "    </tr>\n",
       "    <tr>\n",
       "      <th>36</th>\n",
       "      <td>Oklahoma</td>\n",
       "      <td>1047</td>\n",
       "      <td>7</td>\n",
       "    </tr>\n",
       "    <tr>\n",
       "      <th>10</th>\n",
       "      <td>Georgia</td>\n",
       "      <td>1050</td>\n",
       "      <td>61</td>\n",
       "    </tr>\n",
       "  </tbody>\n",
       "</table>\n",
       "</div>"
      ],
      "text/plain": [
       "                   State  2017_SAT_Total  2017_SAT_Participation\n",
       "8   District of Columbia             950                     100\n",
       "7               Delaware             996                     100\n",
       "12                 Idaho            1005                      93\n",
       "22              Michigan            1005                     100\n",
       "19                 Maine            1012                      95\n",
       "9                Florida            1017                      83\n",
       "43                 Texas            1020                      62\n",
       "6            Connecticut            1041                     100\n",
       "36              Oklahoma            1047                       7\n",
       "10               Georgia            1050                      61"
      ]
     },
     "execution_count": 57,
     "metadata": {},
     "output_type": "execute_result"
    }
   ],
   "source": [
    "#States with lowest SAT score for 2017\n",
    "final_df.sort_values('2017_SAT_Total')[['State','2017_SAT_Total','2017_SAT_Participation']].head(10)"
   ]
  },
  {
   "cell_type": "code",
   "execution_count": 58,
   "metadata": {},
   "outputs": [
    {
     "data": {
      "text/html": [
       "<div>\n",
       "<style scoped>\n",
       "    .dataframe tbody tr th:only-of-type {\n",
       "        vertical-align: middle;\n",
       "    }\n",
       "\n",
       "    .dataframe tbody tr th {\n",
       "        vertical-align: top;\n",
       "    }\n",
       "\n",
       "    .dataframe thead th {\n",
       "        text-align: right;\n",
       "    }\n",
       "</style>\n",
       "<table border=\"1\" class=\"dataframe\">\n",
       "  <thead>\n",
       "    <tr style=\"text-align: right;\">\n",
       "      <th></th>\n",
       "      <th>State</th>\n",
       "      <th>2017_SAT_Total</th>\n",
       "      <th>2017_SAT_Participation</th>\n",
       "    </tr>\n",
       "  </thead>\n",
       "  <tbody>\n",
       "    <tr>\n",
       "      <th>23</th>\n",
       "      <td>Minnesota</td>\n",
       "      <td>1295</td>\n",
       "      <td>3</td>\n",
       "    </tr>\n",
       "    <tr>\n",
       "      <th>49</th>\n",
       "      <td>Wisconsin</td>\n",
       "      <td>1291</td>\n",
       "      <td>3</td>\n",
       "    </tr>\n",
       "    <tr>\n",
       "      <th>15</th>\n",
       "      <td>Iowa</td>\n",
       "      <td>1275</td>\n",
       "      <td>2</td>\n",
       "    </tr>\n",
       "    <tr>\n",
       "      <th>25</th>\n",
       "      <td>Missouri</td>\n",
       "      <td>1271</td>\n",
       "      <td>3</td>\n",
       "    </tr>\n",
       "    <tr>\n",
       "      <th>16</th>\n",
       "      <td>Kansas</td>\n",
       "      <td>1260</td>\n",
       "      <td>4</td>\n",
       "    </tr>\n",
       "    <tr>\n",
       "      <th>34</th>\n",
       "      <td>North Dakota</td>\n",
       "      <td>1256</td>\n",
       "      <td>2</td>\n",
       "    </tr>\n",
       "    <tr>\n",
       "      <th>27</th>\n",
       "      <td>Nebraska</td>\n",
       "      <td>1253</td>\n",
       "      <td>3</td>\n",
       "    </tr>\n",
       "    <tr>\n",
       "      <th>17</th>\n",
       "      <td>Kentucky</td>\n",
       "      <td>1247</td>\n",
       "      <td>4</td>\n",
       "    </tr>\n",
       "    <tr>\n",
       "      <th>24</th>\n",
       "      <td>Mississippi</td>\n",
       "      <td>1242</td>\n",
       "      <td>2</td>\n",
       "    </tr>\n",
       "    <tr>\n",
       "      <th>44</th>\n",
       "      <td>Utah</td>\n",
       "      <td>1238</td>\n",
       "      <td>3</td>\n",
       "    </tr>\n",
       "  </tbody>\n",
       "</table>\n",
       "</div>"
      ],
      "text/plain": [
       "           State  2017_SAT_Total  2017_SAT_Participation\n",
       "23     Minnesota            1295                       3\n",
       "49     Wisconsin            1291                       3\n",
       "15          Iowa            1275                       2\n",
       "25      Missouri            1271                       3\n",
       "16        Kansas            1260                       4\n",
       "34  North Dakota            1256                       2\n",
       "27      Nebraska            1253                       3\n",
       "17      Kentucky            1247                       4\n",
       "24   Mississippi            1242                       2\n",
       "44          Utah            1238                       3"
      ]
     },
     "execution_count": 58,
     "metadata": {},
     "output_type": "execute_result"
    }
   ],
   "source": [
    "#States with highest SAT score for 2017\n",
    "final_df.sort_values('2017_SAT_Total',ascending=False)[['State','2017_SAT_Total','2017_SAT_Participation']].head(10)"
   ]
  },
  {
   "cell_type": "code",
   "execution_count": 59,
   "metadata": {},
   "outputs": [
    {
     "data": {
      "text/html": [
       "<div>\n",
       "<style scoped>\n",
       "    .dataframe tbody tr th:only-of-type {\n",
       "        vertical-align: middle;\n",
       "    }\n",
       "\n",
       "    .dataframe tbody tr th {\n",
       "        vertical-align: top;\n",
       "    }\n",
       "\n",
       "    .dataframe thead th {\n",
       "        text-align: right;\n",
       "    }\n",
       "</style>\n",
       "<table border=\"1\" class=\"dataframe\">\n",
       "  <thead>\n",
       "    <tr style=\"text-align: right;\">\n",
       "      <th></th>\n",
       "      <th>State</th>\n",
       "      <th>2018_SAT_Total</th>\n",
       "      <th>2018_SAT_Participation</th>\n",
       "    </tr>\n",
       "  </thead>\n",
       "  <tbody>\n",
       "    <tr>\n",
       "      <th>8</th>\n",
       "      <td>District of Columbia</td>\n",
       "      <td>977</td>\n",
       "      <td>92</td>\n",
       "    </tr>\n",
       "    <tr>\n",
       "      <th>7</th>\n",
       "      <td>Delaware</td>\n",
       "      <td>998</td>\n",
       "      <td>100</td>\n",
       "    </tr>\n",
       "    <tr>\n",
       "      <th>48</th>\n",
       "      <td>West Virginia</td>\n",
       "      <td>999</td>\n",
       "      <td>28</td>\n",
       "    </tr>\n",
       "    <tr>\n",
       "      <th>12</th>\n",
       "      <td>Idaho</td>\n",
       "      <td>1001</td>\n",
       "      <td>100</td>\n",
       "    </tr>\n",
       "    <tr>\n",
       "      <th>44</th>\n",
       "      <td>Utah</td>\n",
       "      <td>1010</td>\n",
       "      <td>4</td>\n",
       "    </tr>\n",
       "    <tr>\n",
       "      <th>11</th>\n",
       "      <td>Hawaii</td>\n",
       "      <td>1010</td>\n",
       "      <td>56</td>\n",
       "    </tr>\n",
       "    <tr>\n",
       "      <th>22</th>\n",
       "      <td>Michigan</td>\n",
       "      <td>1011</td>\n",
       "      <td>100</td>\n",
       "    </tr>\n",
       "    <tr>\n",
       "      <th>19</th>\n",
       "      <td>Maine</td>\n",
       "      <td>1013</td>\n",
       "      <td>99</td>\n",
       "    </tr>\n",
       "    <tr>\n",
       "      <th>39</th>\n",
       "      <td>Rhode Island</td>\n",
       "      <td>1018</td>\n",
       "      <td>97</td>\n",
       "    </tr>\n",
       "    <tr>\n",
       "      <th>13</th>\n",
       "      <td>Illinois</td>\n",
       "      <td>1019</td>\n",
       "      <td>99</td>\n",
       "    </tr>\n",
       "  </tbody>\n",
       "</table>\n",
       "</div>"
      ],
      "text/plain": [
       "                   State  2018_SAT_Total  2018_SAT_Participation\n",
       "8   District of Columbia             977                      92\n",
       "7               Delaware             998                     100\n",
       "48         West Virginia             999                      28\n",
       "12                 Idaho            1001                     100\n",
       "44                  Utah            1010                       4\n",
       "11                Hawaii            1010                      56\n",
       "22              Michigan            1011                     100\n",
       "19                 Maine            1013                      99\n",
       "39          Rhode Island            1018                      97\n",
       "13              Illinois            1019                      99"
      ]
     },
     "execution_count": 59,
     "metadata": {},
     "output_type": "execute_result"
    }
   ],
   "source": [
    "#States with lowest SAT score for 2018\n",
    "final_df.sort_values('2018_SAT_Total')[['State','2018_SAT_Total','2018_SAT_Participation']].head(10)"
   ]
  },
  {
   "cell_type": "code",
   "execution_count": 60,
   "metadata": {},
   "outputs": [
    {
     "data": {
      "text/html": [
       "<div>\n",
       "<style scoped>\n",
       "    .dataframe tbody tr th:only-of-type {\n",
       "        vertical-align: middle;\n",
       "    }\n",
       "\n",
       "    .dataframe tbody tr th {\n",
       "        vertical-align: top;\n",
       "    }\n",
       "\n",
       "    .dataframe thead th {\n",
       "        text-align: right;\n",
       "    }\n",
       "</style>\n",
       "<table border=\"1\" class=\"dataframe\">\n",
       "  <thead>\n",
       "    <tr style=\"text-align: right;\">\n",
       "      <th></th>\n",
       "      <th>State</th>\n",
       "      <th>2018_SAT_Total</th>\n",
       "      <th>2018_SAT_Participation</th>\n",
       "    </tr>\n",
       "  </thead>\n",
       "  <tbody>\n",
       "    <tr>\n",
       "      <th>23</th>\n",
       "      <td>Minnesota</td>\n",
       "      <td>1298</td>\n",
       "      <td>4</td>\n",
       "    </tr>\n",
       "    <tr>\n",
       "      <th>49</th>\n",
       "      <td>Wisconsin</td>\n",
       "      <td>1294</td>\n",
       "      <td>3</td>\n",
       "    </tr>\n",
       "    <tr>\n",
       "      <th>34</th>\n",
       "      <td>North Dakota</td>\n",
       "      <td>1283</td>\n",
       "      <td>2</td>\n",
       "    </tr>\n",
       "    <tr>\n",
       "      <th>15</th>\n",
       "      <td>Iowa</td>\n",
       "      <td>1265</td>\n",
       "      <td>3</td>\n",
       "    </tr>\n",
       "    <tr>\n",
       "      <th>16</th>\n",
       "      <td>Kansas</td>\n",
       "      <td>1265</td>\n",
       "      <td>4</td>\n",
       "    </tr>\n",
       "    <tr>\n",
       "      <th>25</th>\n",
       "      <td>Missouri</td>\n",
       "      <td>1262</td>\n",
       "      <td>4</td>\n",
       "    </tr>\n",
       "    <tr>\n",
       "      <th>50</th>\n",
       "      <td>Wyoming</td>\n",
       "      <td>1257</td>\n",
       "      <td>3</td>\n",
       "    </tr>\n",
       "    <tr>\n",
       "      <th>27</th>\n",
       "      <td>Nebraska</td>\n",
       "      <td>1252</td>\n",
       "      <td>3</td>\n",
       "    </tr>\n",
       "    <tr>\n",
       "      <th>17</th>\n",
       "      <td>Kentucky</td>\n",
       "      <td>1248</td>\n",
       "      <td>4</td>\n",
       "    </tr>\n",
       "    <tr>\n",
       "      <th>41</th>\n",
       "      <td>South Dakota</td>\n",
       "      <td>1240</td>\n",
       "      <td>3</td>\n",
       "    </tr>\n",
       "  </tbody>\n",
       "</table>\n",
       "</div>"
      ],
      "text/plain": [
       "           State  2018_SAT_Total  2018_SAT_Participation\n",
       "23     Minnesota            1298                       4\n",
       "49     Wisconsin            1294                       3\n",
       "34  North Dakota            1283                       2\n",
       "15          Iowa            1265                       3\n",
       "16        Kansas            1265                       4\n",
       "25      Missouri            1262                       4\n",
       "50       Wyoming            1257                       3\n",
       "27      Nebraska            1252                       3\n",
       "17      Kentucky            1248                       4\n",
       "41  South Dakota            1240                       3"
      ]
     },
     "execution_count": 60,
     "metadata": {},
     "output_type": "execute_result"
    }
   ],
   "source": [
    "#States with highest SAT score for 2018\n",
    "final_df.sort_values('2018_SAT_Total',ascending=False)[['State','2018_SAT_Total','2018_SAT_Participation']].head(10)"
   ]
  },
  {
   "cell_type": "markdown",
   "metadata": {},
   "source": [
    "This set of dataframes shows the highest and lowest Mean SAT scores for 2017 and 2018.\n",
    "\n",
    "Observations:\n",
    "- Almost all the states with 100% participation rate are in the lowest 10 states for both years\n",
    "- The top 10 states with highest scores have participation rate < 5%\n",
    "***"
   ]
  },
  {
   "cell_type": "markdown",
   "metadata": {},
   "source": [
    "### States with highest and lowest Mean ACT scores for 2017 and 2018"
   ]
  },
  {
   "cell_type": "code",
   "execution_count": 61,
   "metadata": {},
   "outputs": [
    {
     "data": {
      "text/html": [
       "<div>\n",
       "<style scoped>\n",
       "    .dataframe tbody tr th:only-of-type {\n",
       "        vertical-align: middle;\n",
       "    }\n",
       "\n",
       "    .dataframe tbody tr th {\n",
       "        vertical-align: top;\n",
       "    }\n",
       "\n",
       "    .dataframe thead th {\n",
       "        text-align: right;\n",
       "    }\n",
       "</style>\n",
       "<table border=\"1\" class=\"dataframe\">\n",
       "  <thead>\n",
       "    <tr style=\"text-align: right;\">\n",
       "      <th></th>\n",
       "      <th>State</th>\n",
       "      <th>2017_ACT_Composite</th>\n",
       "      <th>2017_ACT_Participation</th>\n",
       "    </tr>\n",
       "  </thead>\n",
       "  <tbody>\n",
       "    <tr>\n",
       "      <th>28</th>\n",
       "      <td>Nevada</td>\n",
       "      <td>17.8</td>\n",
       "      <td>100</td>\n",
       "    </tr>\n",
       "    <tr>\n",
       "      <th>24</th>\n",
       "      <td>Mississippi</td>\n",
       "      <td>18.6</td>\n",
       "      <td>100</td>\n",
       "    </tr>\n",
       "    <tr>\n",
       "      <th>40</th>\n",
       "      <td>South Carolina</td>\n",
       "      <td>18.7</td>\n",
       "      <td>100</td>\n",
       "    </tr>\n",
       "    <tr>\n",
       "      <th>11</th>\n",
       "      <td>Hawaii</td>\n",
       "      <td>19.0</td>\n",
       "      <td>90</td>\n",
       "    </tr>\n",
       "    <tr>\n",
       "      <th>33</th>\n",
       "      <td>North Carolina</td>\n",
       "      <td>19.1</td>\n",
       "      <td>100</td>\n",
       "    </tr>\n",
       "    <tr>\n",
       "      <th>0</th>\n",
       "      <td>Alabama</td>\n",
       "      <td>19.2</td>\n",
       "      <td>100</td>\n",
       "    </tr>\n",
       "    <tr>\n",
       "      <th>3</th>\n",
       "      <td>Arkansas</td>\n",
       "      <td>19.4</td>\n",
       "      <td>100</td>\n",
       "    </tr>\n",
       "    <tr>\n",
       "      <th>36</th>\n",
       "      <td>Oklahoma</td>\n",
       "      <td>19.4</td>\n",
       "      <td>100</td>\n",
       "    </tr>\n",
       "    <tr>\n",
       "      <th>18</th>\n",
       "      <td>Louisiana</td>\n",
       "      <td>19.5</td>\n",
       "      <td>100</td>\n",
       "    </tr>\n",
       "    <tr>\n",
       "      <th>2</th>\n",
       "      <td>Arizona</td>\n",
       "      <td>19.7</td>\n",
       "      <td>62</td>\n",
       "    </tr>\n",
       "  </tbody>\n",
       "</table>\n",
       "</div>"
      ],
      "text/plain": [
       "             State  2017_ACT_Composite  2017_ACT_Participation\n",
       "28          Nevada                17.8                     100\n",
       "24     Mississippi                18.6                     100\n",
       "40  South Carolina                18.7                     100\n",
       "11          Hawaii                19.0                      90\n",
       "33  North Carolina                19.1                     100\n",
       "0          Alabama                19.2                     100\n",
       "3         Arkansas                19.4                     100\n",
       "36        Oklahoma                19.4                     100\n",
       "18       Louisiana                19.5                     100\n",
       "2          Arizona                19.7                      62"
      ]
     },
     "execution_count": 61,
     "metadata": {},
     "output_type": "execute_result"
    }
   ],
   "source": [
    "#States with lowest ACT score for 2017\n",
    "final_df.sort_values('2017_ACT_Composite')[['State','2017_ACT_Composite','2017_ACT_Participation']].head(10)"
   ]
  },
  {
   "cell_type": "code",
   "execution_count": 62,
   "metadata": {},
   "outputs": [
    {
     "data": {
      "text/html": [
       "<div>\n",
       "<style scoped>\n",
       "    .dataframe tbody tr th:only-of-type {\n",
       "        vertical-align: middle;\n",
       "    }\n",
       "\n",
       "    .dataframe tbody tr th {\n",
       "        vertical-align: top;\n",
       "    }\n",
       "\n",
       "    .dataframe thead th {\n",
       "        text-align: right;\n",
       "    }\n",
       "</style>\n",
       "<table border=\"1\" class=\"dataframe\">\n",
       "  <thead>\n",
       "    <tr style=\"text-align: right;\">\n",
       "      <th></th>\n",
       "      <th>State</th>\n",
       "      <th>2017_ACT_Composite</th>\n",
       "      <th>2017_ACT_Participation</th>\n",
       "    </tr>\n",
       "  </thead>\n",
       "  <tbody>\n",
       "    <tr>\n",
       "      <th>29</th>\n",
       "      <td>New Hampshire</td>\n",
       "      <td>25.5</td>\n",
       "      <td>18</td>\n",
       "    </tr>\n",
       "    <tr>\n",
       "      <th>21</th>\n",
       "      <td>Massachusetts</td>\n",
       "      <td>25.4</td>\n",
       "      <td>29</td>\n",
       "    </tr>\n",
       "    <tr>\n",
       "      <th>6</th>\n",
       "      <td>Connecticut</td>\n",
       "      <td>25.2</td>\n",
       "      <td>31</td>\n",
       "    </tr>\n",
       "    <tr>\n",
       "      <th>19</th>\n",
       "      <td>Maine</td>\n",
       "      <td>24.3</td>\n",
       "      <td>8</td>\n",
       "    </tr>\n",
       "    <tr>\n",
       "      <th>8</th>\n",
       "      <td>District of Columbia</td>\n",
       "      <td>24.2</td>\n",
       "      <td>32</td>\n",
       "    </tr>\n",
       "    <tr>\n",
       "      <th>32</th>\n",
       "      <td>New York</td>\n",
       "      <td>24.2</td>\n",
       "      <td>31</td>\n",
       "    </tr>\n",
       "    <tr>\n",
       "      <th>22</th>\n",
       "      <td>Michigan</td>\n",
       "      <td>24.1</td>\n",
       "      <td>29</td>\n",
       "    </tr>\n",
       "    <tr>\n",
       "      <th>7</th>\n",
       "      <td>Delaware</td>\n",
       "      <td>24.1</td>\n",
       "      <td>18</td>\n",
       "    </tr>\n",
       "    <tr>\n",
       "      <th>39</th>\n",
       "      <td>Rhode Island</td>\n",
       "      <td>24.0</td>\n",
       "      <td>21</td>\n",
       "    </tr>\n",
       "    <tr>\n",
       "      <th>30</th>\n",
       "      <td>New Jersey</td>\n",
       "      <td>23.9</td>\n",
       "      <td>34</td>\n",
       "    </tr>\n",
       "  </tbody>\n",
       "</table>\n",
       "</div>"
      ],
      "text/plain": [
       "                   State  2017_ACT_Composite  2017_ACT_Participation\n",
       "29         New Hampshire                25.5                      18\n",
       "21         Massachusetts                25.4                      29\n",
       "6            Connecticut                25.2                      31\n",
       "19                 Maine                24.3                       8\n",
       "8   District of Columbia                24.2                      32\n",
       "32              New York                24.2                      31\n",
       "22              Michigan                24.1                      29\n",
       "7               Delaware                24.1                      18\n",
       "39          Rhode Island                24.0                      21\n",
       "30            New Jersey                23.9                      34"
      ]
     },
     "execution_count": 62,
     "metadata": {},
     "output_type": "execute_result"
    }
   ],
   "source": [
    "#States with highest ACT score for 2017\n",
    "final_df.sort_values('2017_ACT_Composite',ascending=False)[['State','2017_ACT_Composite','2017_ACT_Participation']].head(10)"
   ]
  },
  {
   "cell_type": "code",
   "execution_count": 63,
   "metadata": {},
   "outputs": [
    {
     "data": {
      "text/html": [
       "<div>\n",
       "<style scoped>\n",
       "    .dataframe tbody tr th:only-of-type {\n",
       "        vertical-align: middle;\n",
       "    }\n",
       "\n",
       "    .dataframe tbody tr th {\n",
       "        vertical-align: top;\n",
       "    }\n",
       "\n",
       "    .dataframe thead th {\n",
       "        text-align: right;\n",
       "    }\n",
       "</style>\n",
       "<table border=\"1\" class=\"dataframe\">\n",
       "  <thead>\n",
       "    <tr style=\"text-align: right;\">\n",
       "      <th></th>\n",
       "      <th>State</th>\n",
       "      <th>2018_ACT_Composite</th>\n",
       "      <th>2018_ACT_Participation</th>\n",
       "    </tr>\n",
       "  </thead>\n",
       "  <tbody>\n",
       "    <tr>\n",
       "      <th>28</th>\n",
       "      <td>Nevada</td>\n",
       "      <td>17.7</td>\n",
       "      <td>100</td>\n",
       "    </tr>\n",
       "    <tr>\n",
       "      <th>40</th>\n",
       "      <td>South Carolina</td>\n",
       "      <td>18.3</td>\n",
       "      <td>100</td>\n",
       "    </tr>\n",
       "    <tr>\n",
       "      <th>24</th>\n",
       "      <td>Mississippi</td>\n",
       "      <td>18.6</td>\n",
       "      <td>100</td>\n",
       "    </tr>\n",
       "    <tr>\n",
       "      <th>11</th>\n",
       "      <td>Hawaii</td>\n",
       "      <td>18.9</td>\n",
       "      <td>89</td>\n",
       "    </tr>\n",
       "    <tr>\n",
       "      <th>0</th>\n",
       "      <td>Alabama</td>\n",
       "      <td>19.1</td>\n",
       "      <td>100</td>\n",
       "    </tr>\n",
       "    <tr>\n",
       "      <th>33</th>\n",
       "      <td>North Carolina</td>\n",
       "      <td>19.1</td>\n",
       "      <td>100</td>\n",
       "    </tr>\n",
       "    <tr>\n",
       "      <th>2</th>\n",
       "      <td>Arizona</td>\n",
       "      <td>19.2</td>\n",
       "      <td>66</td>\n",
       "    </tr>\n",
       "    <tr>\n",
       "      <th>18</th>\n",
       "      <td>Louisiana</td>\n",
       "      <td>19.2</td>\n",
       "      <td>100</td>\n",
       "    </tr>\n",
       "    <tr>\n",
       "      <th>36</th>\n",
       "      <td>Oklahoma</td>\n",
       "      <td>19.3</td>\n",
       "      <td>100</td>\n",
       "    </tr>\n",
       "    <tr>\n",
       "      <th>3</th>\n",
       "      <td>Arkansas</td>\n",
       "      <td>19.4</td>\n",
       "      <td>100</td>\n",
       "    </tr>\n",
       "  </tbody>\n",
       "</table>\n",
       "</div>"
      ],
      "text/plain": [
       "             State  2018_ACT_Composite  2018_ACT_Participation\n",
       "28          Nevada                17.7                     100\n",
       "40  South Carolina                18.3                     100\n",
       "24     Mississippi                18.6                     100\n",
       "11          Hawaii                18.9                      89\n",
       "0          Alabama                19.1                     100\n",
       "33  North Carolina                19.1                     100\n",
       "2          Arizona                19.2                      66\n",
       "18       Louisiana                19.2                     100\n",
       "36        Oklahoma                19.3                     100\n",
       "3         Arkansas                19.4                     100"
      ]
     },
     "execution_count": 63,
     "metadata": {},
     "output_type": "execute_result"
    }
   ],
   "source": [
    "#States with lowest ACT score for 2018\n",
    "final_df.sort_values('2018_ACT_Composite')[['State','2018_ACT_Composite','2018_ACT_Participation']].head(10)"
   ]
  },
  {
   "cell_type": "code",
   "execution_count": 64,
   "metadata": {},
   "outputs": [
    {
     "data": {
      "text/html": [
       "<div>\n",
       "<style scoped>\n",
       "    .dataframe tbody tr th:only-of-type {\n",
       "        vertical-align: middle;\n",
       "    }\n",
       "\n",
       "    .dataframe tbody tr th {\n",
       "        vertical-align: top;\n",
       "    }\n",
       "\n",
       "    .dataframe thead th {\n",
       "        text-align: right;\n",
       "    }\n",
       "</style>\n",
       "<table border=\"1\" class=\"dataframe\">\n",
       "  <thead>\n",
       "    <tr style=\"text-align: right;\">\n",
       "      <th></th>\n",
       "      <th>State</th>\n",
       "      <th>2018_ACT_Composite</th>\n",
       "      <th>2018_ACT_Participation</th>\n",
       "    </tr>\n",
       "  </thead>\n",
       "  <tbody>\n",
       "    <tr>\n",
       "      <th>6</th>\n",
       "      <td>Connecticut</td>\n",
       "      <td>25.6</td>\n",
       "      <td>26</td>\n",
       "    </tr>\n",
       "    <tr>\n",
       "      <th>21</th>\n",
       "      <td>Massachusetts</td>\n",
       "      <td>25.5</td>\n",
       "      <td>25</td>\n",
       "    </tr>\n",
       "    <tr>\n",
       "      <th>29</th>\n",
       "      <td>New Hampshire</td>\n",
       "      <td>25.1</td>\n",
       "      <td>16</td>\n",
       "    </tr>\n",
       "    <tr>\n",
       "      <th>32</th>\n",
       "      <td>New York</td>\n",
       "      <td>24.5</td>\n",
       "      <td>27</td>\n",
       "    </tr>\n",
       "    <tr>\n",
       "      <th>22</th>\n",
       "      <td>Michigan</td>\n",
       "      <td>24.4</td>\n",
       "      <td>22</td>\n",
       "    </tr>\n",
       "    <tr>\n",
       "      <th>39</th>\n",
       "      <td>Rhode Island</td>\n",
       "      <td>24.2</td>\n",
       "      <td>15</td>\n",
       "    </tr>\n",
       "    <tr>\n",
       "      <th>45</th>\n",
       "      <td>Vermont</td>\n",
       "      <td>24.1</td>\n",
       "      <td>24</td>\n",
       "    </tr>\n",
       "    <tr>\n",
       "      <th>19</th>\n",
       "      <td>Maine</td>\n",
       "      <td>24.0</td>\n",
       "      <td>7</td>\n",
       "    </tr>\n",
       "    <tr>\n",
       "      <th>46</th>\n",
       "      <td>Virginia</td>\n",
       "      <td>23.9</td>\n",
       "      <td>24</td>\n",
       "    </tr>\n",
       "    <tr>\n",
       "      <th>5</th>\n",
       "      <td>Colorado</td>\n",
       "      <td>23.9</td>\n",
       "      <td>30</td>\n",
       "    </tr>\n",
       "  </tbody>\n",
       "</table>\n",
       "</div>"
      ],
      "text/plain": [
       "            State  2018_ACT_Composite  2018_ACT_Participation\n",
       "6     Connecticut                25.6                      26\n",
       "21  Massachusetts                25.5                      25\n",
       "29  New Hampshire                25.1                      16\n",
       "32       New York                24.5                      27\n",
       "22       Michigan                24.4                      22\n",
       "39   Rhode Island                24.2                      15\n",
       "45        Vermont                24.1                      24\n",
       "19          Maine                24.0                       7\n",
       "46       Virginia                23.9                      24\n",
       "5        Colorado                23.9                      30"
      ]
     },
     "execution_count": 64,
     "metadata": {},
     "output_type": "execute_result"
    }
   ],
   "source": [
    "#States with highest ACT score for 2018\n",
    "final_df.sort_values('2018_ACT_Composite',ascending=False)[['State','2018_ACT_Composite','2018_ACT_Participation']].head(10)"
   ]
  },
  {
   "cell_type": "markdown",
   "metadata": {},
   "source": [
    "This set of dataframes shows the highest and lowest Mean ACT scores for 2017 and 2018.\n",
    "\n",
    "Observations:\n",
    "- Similar to the SAT results states with high participation rates are in the lowest 10 states for both years\n",
    "- However the top 10 states with highest scores, have better participation rate than SAT averaging at around 25%\n",
    "***"
   ]
  },
  {
   "cell_type": "markdown",
   "metadata": {},
   "source": [
    "### Change rate year-to-year for states with 100% participation on SAT"
   ]
  },
  {
   "cell_type": "code",
   "execution_count": 65,
   "metadata": {},
   "outputs": [
    {
     "data": {
      "text/html": [
       "<div>\n",
       "<style scoped>\n",
       "    .dataframe tbody tr th:only-of-type {\n",
       "        vertical-align: middle;\n",
       "    }\n",
       "\n",
       "    .dataframe tbody tr th {\n",
       "        vertical-align: top;\n",
       "    }\n",
       "\n",
       "    .dataframe thead th {\n",
       "        text-align: right;\n",
       "    }\n",
       "</style>\n",
       "<table border=\"1\" class=\"dataframe\">\n",
       "  <thead>\n",
       "    <tr style=\"text-align: right;\">\n",
       "      <th></th>\n",
       "      <th>State</th>\n",
       "      <th>2017_SAT_Participation</th>\n",
       "      <th>2018_SAT_Participation</th>\n",
       "      <th>Change_Rate</th>\n",
       "    </tr>\n",
       "  </thead>\n",
       "  <tbody>\n",
       "    <tr>\n",
       "      <th>5</th>\n",
       "      <td>Colorado</td>\n",
       "      <td>11</td>\n",
       "      <td>100</td>\n",
       "      <td>89</td>\n",
       "    </tr>\n",
       "    <tr>\n",
       "      <th>8</th>\n",
       "      <td>District of Columbia</td>\n",
       "      <td>100</td>\n",
       "      <td>92</td>\n",
       "      <td>-8</td>\n",
       "    </tr>\n",
       "    <tr>\n",
       "      <th>12</th>\n",
       "      <td>Idaho</td>\n",
       "      <td>93</td>\n",
       "      <td>100</td>\n",
       "      <td>7</td>\n",
       "    </tr>\n",
       "  </tbody>\n",
       "</table>\n",
       "</div>"
      ],
      "text/plain": [
       "                   State  2017_SAT_Participation  2018_SAT_Participation  \\\n",
       "5               Colorado                      11                     100   \n",
       "8   District of Columbia                     100                      92   \n",
       "12                 Idaho                      93                     100   \n",
       "\n",
       "    Change_Rate  \n",
       "5            89  \n",
       "8            -8  \n",
       "12            7  "
      ]
     },
     "execution_count": 65,
     "metadata": {},
     "output_type": "execute_result"
    }
   ],
   "source": [
    "# states with 100% participation on a given test have a rate change year-to-year?\n",
    "mask = (((final_df['2017_SAT_Participation']==100) | (final_df['2018_SAT_Participation']==100)))\n",
    "\n",
    "sat_yty = final_df[mask][['State','2017_SAT_Participation','2018_SAT_Participation']].copy()\n",
    "sat_yty['Change_Rate'] = sat_yty['2018_SAT_Participation'] - sat_yty['2017_SAT_Participation']\n",
    "sat_yty[sat_yty['Change_Rate']!=0]"
   ]
  },
  {
   "cell_type": "code",
   "execution_count": 66,
   "metadata": {},
   "outputs": [
    {
     "data": {
      "text/html": [
       "<div>\n",
       "<style scoped>\n",
       "    .dataframe tbody tr th:only-of-type {\n",
       "        vertical-align: middle;\n",
       "    }\n",
       "\n",
       "    .dataframe tbody tr th {\n",
       "        vertical-align: top;\n",
       "    }\n",
       "\n",
       "    .dataframe thead th {\n",
       "        text-align: right;\n",
       "    }\n",
       "</style>\n",
       "<table border=\"1\" class=\"dataframe\">\n",
       "  <thead>\n",
       "    <tr style=\"text-align: right;\">\n",
       "      <th></th>\n",
       "      <th>State</th>\n",
       "      <th>2017_ACT_Participation</th>\n",
       "      <th>2018_ACT_Participation</th>\n",
       "      <th>Change_Rate</th>\n",
       "    </tr>\n",
       "  </thead>\n",
       "  <tbody>\n",
       "    <tr>\n",
       "      <th>5</th>\n",
       "      <td>Colorado</td>\n",
       "      <td>100</td>\n",
       "      <td>30</td>\n",
       "      <td>-70</td>\n",
       "    </tr>\n",
       "    <tr>\n",
       "      <th>23</th>\n",
       "      <td>Minnesota</td>\n",
       "      <td>100</td>\n",
       "      <td>99</td>\n",
       "      <td>-1</td>\n",
       "    </tr>\n",
       "    <tr>\n",
       "      <th>27</th>\n",
       "      <td>Nebraska</td>\n",
       "      <td>84</td>\n",
       "      <td>100</td>\n",
       "      <td>16</td>\n",
       "    </tr>\n",
       "    <tr>\n",
       "      <th>35</th>\n",
       "      <td>Ohio</td>\n",
       "      <td>75</td>\n",
       "      <td>100</td>\n",
       "      <td>25</td>\n",
       "    </tr>\n",
       "  </tbody>\n",
       "</table>\n",
       "</div>"
      ],
      "text/plain": [
       "        State  2017_ACT_Participation  2018_ACT_Participation  Change_Rate\n",
       "5    Colorado                     100                      30          -70\n",
       "23  Minnesota                     100                      99           -1\n",
       "27   Nebraska                      84                     100           16\n",
       "35       Ohio                      75                     100           25"
      ]
     },
     "execution_count": 66,
     "metadata": {},
     "output_type": "execute_result"
    }
   ],
   "source": [
    "# states with 100% participation on a given test have a rate change year-to-year?\n",
    "mask = ((final_df['2017_ACT_Participation']==100) | (final_df['2018_ACT_Participation']==100))\n",
    "\n",
    "act_yty = final_df[mask][['State','2017_ACT_Participation','2018_ACT_Participation']].copy()\n",
    "act_yty['Change_Rate'] = act_yty['2018_ACT_Participation'] - act_yty['2017_ACT_Participation']\n",
    "act_yty[act_yty['Change_Rate']!=0]"
   ]
  },
  {
   "cell_type": "markdown",
   "metadata": {},
   "source": [
    "From these 2 set of data, we can see that Colorado stands out with 100% for 2017 ACT and in 2018 it switched into 100% for SAT.\n",
    "Upon further investigation, Colorado mandated all students to take SAT in 2017 thus the 100% SAT participation in 2018.\n",
    "***"
   ]
  },
  {
   "cell_type": "code",
   "execution_count": 67,
   "metadata": {},
   "outputs": [
    {
     "data": {
      "text/html": [
       "<div>\n",
       "<style scoped>\n",
       "    .dataframe tbody tr th:only-of-type {\n",
       "        vertical-align: middle;\n",
       "    }\n",
       "\n",
       "    .dataframe tbody tr th {\n",
       "        vertical-align: top;\n",
       "    }\n",
       "\n",
       "    .dataframe thead th {\n",
       "        text-align: right;\n",
       "    }\n",
       "</style>\n",
       "<table border=\"1\" class=\"dataframe\">\n",
       "  <thead>\n",
       "    <tr style=\"text-align: right;\">\n",
       "      <th></th>\n",
       "      <th>State</th>\n",
       "      <th>2017_SAT_Participation</th>\n",
       "      <th>2017_ACT_Participation</th>\n",
       "    </tr>\n",
       "  </thead>\n",
       "  <tbody>\n",
       "    <tr>\n",
       "      <th>9</th>\n",
       "      <td>Florida</td>\n",
       "      <td>83</td>\n",
       "      <td>73</td>\n",
       "    </tr>\n",
       "    <tr>\n",
       "      <th>10</th>\n",
       "      <td>Georgia</td>\n",
       "      <td>61</td>\n",
       "      <td>55</td>\n",
       "    </tr>\n",
       "    <tr>\n",
       "      <th>11</th>\n",
       "      <td>Hawaii</td>\n",
       "      <td>55</td>\n",
       "      <td>90</td>\n",
       "    </tr>\n",
       "    <tr>\n",
       "      <th>40</th>\n",
       "      <td>South Carolina</td>\n",
       "      <td>50</td>\n",
       "      <td>100</td>\n",
       "    </tr>\n",
       "  </tbody>\n",
       "</table>\n",
       "</div>"
      ],
      "text/plain": [
       "             State  2017_SAT_Participation  2017_ACT_Participation\n",
       "9          Florida                      83                      73\n",
       "10         Georgia                      61                      55\n",
       "11          Hawaii                      55                      90\n",
       "40  South Carolina                      50                     100"
      ]
     },
     "execution_count": 67,
     "metadata": {},
     "output_type": "execute_result"
    }
   ],
   "source": [
    "# states show have >50% participation on both tests in 2017\n",
    "final_df[ (final_df['2017_SAT_Participation'] >=50) & (final_df['2017_ACT_Participation'] >=50)]\\\n",
    "[['State','2017_SAT_Participation','2017_ACT_Participation']]"
   ]
  },
  {
   "cell_type": "code",
   "execution_count": 68,
   "metadata": {},
   "outputs": [
    {
     "data": {
      "text/html": [
       "<div>\n",
       "<style scoped>\n",
       "    .dataframe tbody tr th:only-of-type {\n",
       "        vertical-align: middle;\n",
       "    }\n",
       "\n",
       "    .dataframe tbody tr th {\n",
       "        vertical-align: top;\n",
       "    }\n",
       "\n",
       "    .dataframe thead th {\n",
       "        text-align: right;\n",
       "    }\n",
       "</style>\n",
       "<table border=\"1\" class=\"dataframe\">\n",
       "  <thead>\n",
       "    <tr style=\"text-align: right;\">\n",
       "      <th></th>\n",
       "      <th>State</th>\n",
       "      <th>2018_SAT_Participation</th>\n",
       "      <th>2018_ACT_Participation</th>\n",
       "    </tr>\n",
       "  </thead>\n",
       "  <tbody>\n",
       "    <tr>\n",
       "      <th>9</th>\n",
       "      <td>Florida</td>\n",
       "      <td>56</td>\n",
       "      <td>66</td>\n",
       "    </tr>\n",
       "    <tr>\n",
       "      <th>10</th>\n",
       "      <td>Georgia</td>\n",
       "      <td>70</td>\n",
       "      <td>53</td>\n",
       "    </tr>\n",
       "    <tr>\n",
       "      <th>11</th>\n",
       "      <td>Hawaii</td>\n",
       "      <td>56</td>\n",
       "      <td>89</td>\n",
       "    </tr>\n",
       "    <tr>\n",
       "      <th>33</th>\n",
       "      <td>North Carolina</td>\n",
       "      <td>52</td>\n",
       "      <td>100</td>\n",
       "    </tr>\n",
       "    <tr>\n",
       "      <th>40</th>\n",
       "      <td>South Carolina</td>\n",
       "      <td>55</td>\n",
       "      <td>100</td>\n",
       "    </tr>\n",
       "  </tbody>\n",
       "</table>\n",
       "</div>"
      ],
      "text/plain": [
       "             State  2018_SAT_Participation  2018_ACT_Participation\n",
       "9          Florida                      56                      66\n",
       "10         Georgia                      70                      53\n",
       "11          Hawaii                      56                      89\n",
       "33  North Carolina                      52                     100\n",
       "40  South Carolina                      55                     100"
      ]
     },
     "execution_count": 68,
     "metadata": {},
     "output_type": "execute_result"
    }
   ],
   "source": [
    "# states show have >50% participation on both tests in 2018\n",
    "final_df[ (final_df['2018_SAT_Participation'] >=50) & (final_df['2018_ACT_Participation'] >=50)]\\\n",
    "[['State','2018_SAT_Participation','2018_ACT_Participation']]"
   ]
  },
  {
   "cell_type": "code",
   "execution_count": 69,
   "metadata": {},
   "outputs": [
    {
     "data": {
      "text/html": [
       "<div>\n",
       "<style scoped>\n",
       "    .dataframe tbody tr th:only-of-type {\n",
       "        vertical-align: middle;\n",
       "    }\n",
       "\n",
       "    .dataframe tbody tr th {\n",
       "        vertical-align: top;\n",
       "    }\n",
       "\n",
       "    .dataframe thead th {\n",
       "        text-align: right;\n",
       "    }\n",
       "</style>\n",
       "<table border=\"1\" class=\"dataframe\">\n",
       "  <thead>\n",
       "    <tr style=\"text-align: right;\">\n",
       "      <th></th>\n",
       "      <th>State</th>\n",
       "      <th>2017_SAT_Participation</th>\n",
       "      <th>2017_ACT_Participation</th>\n",
       "    </tr>\n",
       "  </thead>\n",
       "  <tbody>\n",
       "    <tr>\n",
       "      <th>33</th>\n",
       "      <td>North Carolina</td>\n",
       "      <td>49</td>\n",
       "      <td>100</td>\n",
       "    </tr>\n",
       "  </tbody>\n",
       "</table>\n",
       "</div>"
      ],
      "text/plain": [
       "             State  2017_SAT_Participation  2017_ACT_Participation\n",
       "33  North Carolina                      49                     100"
      ]
     },
     "execution_count": 69,
     "metadata": {},
     "output_type": "execute_result"
    }
   ],
   "source": [
    "# North Carolina appeared in 2018 but not in 2017, for analysis below is the 2017 participation for North Carolina\n",
    "final_df[final_df['State']=='North Carolina'][['State','2017_SAT_Participation','2017_ACT_Participation']]"
   ]
  },
  {
   "cell_type": "markdown",
   "metadata": {},
   "source": [
    "The states that are above 50% for both test are pretty consistent across both years, these states are Florida, Georgia, Hawaii and South Carolina. \n",
    "***\n"
   ]
  },
  {
   "cell_type": "markdown",
   "metadata": {},
   "source": [
    "## Visualize the data\n",
    "\n",
    "There's not a magic bullet recommendation for the right number of plots to understand a given dataset, but visualizing your data is *always* a good idea. Not only does it allow you to quickly convey your findings (even if you have a non-technical audience), it will often reveal trends in your data that escaped you when you were looking only at numbers.\n",
    "\n",
    "Some recommendations on plotting:\n",
    "- Plots have titles\n",
    "- Plots have axis labels\n",
    "- Plots have appropriate tick labels\n",
    "- All text is legible in a plot\n",
    "- Plots demonstrate meaningful and valid relationships\n",
    "- Plots are interpreted to aid understanding\n",
    "\n",
    "There is such a thing as too many plots, and there are a *lot* of bad plots. You might make some! (But hopefully not with the guided prompts below)."
   ]
  },
  {
   "cell_type": "markdown",
   "metadata": {},
   "source": [
    "#### Use Seaborn's heatmap with pandas `.corr()` to visualize correlations between all numeric features\n",
    "\n",
    "Heatmaps are generally not appropriate for presentations, and should often be excluded from reports as they can be visually overwhelming. **However**, they can be extremely useful in identify relationships of potential interest (as well as identifying potential collinearity before modeling).\n",
    "\n",
    "*example*:\n",
    "```python\n",
    "sns.heatmap(df.corr())\n",
    "```\n",
    "\n",
    "Please take time to format your output, adding a title. Look through some of the additional arguments and options. (Axis labels aren't really necessary, as long as the title is informative)."
   ]
  },
  {
   "cell_type": "code",
   "execution_count": 70,
   "metadata": {},
   "outputs": [
    {
     "data": {
      "image/png": "[encoded data removed]",
      "text/plain": [
       "<Figure size 1152x648 with 2 Axes>"
      ]
     },
     "metadata": {
      "needs_background": "light"
     },
     "output_type": "display_data"
    }
   ],
   "source": [
    "# Set figure size\n",
    "plt.figure(figsize=(16,9))\n",
    "\n",
    "# Get corr from final_df\n",
    "corr = final_df.corr()\n",
    "\n",
    "# Set up mask to be \"True\" in the upper triangle.\n",
    "mask = np.zeros_like(corr)\n",
    "mask[np.triu_indices_from(mask)] = True\n",
    "\n",
    "# plot heatmap\n",
    "sns.heatmap(corr, mask=mask, annot=True).set_title('Correlation Heatmap for SAT and ACT Data',fontsize = 25);"
   ]
  },
  {
   "cell_type": "markdown",
   "metadata": {},
   "source": [
    "Observations:\n",
    "- Mean scores are negatively correlated with participation rate of the same test (~ -0.87). Lower participation yields higher mean scores, this could be that only the more confident students are taking the tests.\n",
    "- Mean scores and Total scores within the same test are positively correlated (~ 0.95 to 1). \n",
    "- Mean scores of one test is negatively correlated to the other test (~ -0.4).\n",
    "- Participation rate of one test is positively correlated with mean scores for the other test (~ 0.7).\n",
    "***"
   ]
  },
  {
   "cell_type": "markdown",
   "metadata": {},
   "source": [
    "#### Define a custom function to subplot histograms\n",
    "\n",
    "We have data for two tests for two years. We only have composite (and not subtest scores) for the 2018 ACT. We should write a function that will take the names of 2+ columns and subplot histograms. While you can use pandas plotting or Seaborn here, matplotlib gives you greater control over all aspects of your plots.\n",
    "\n",
    "[Helpful Link for Plotting Multiple Figures](https://matplotlib.org/users/pyplot_tutorial.html#working-with-multiple-figures-and-axes)\n",
    "\n",
    "Here's some starter code:"
   ]
  },
  {
   "cell_type": "code",
   "execution_count": 71,
   "metadata": {},
   "outputs": [],
   "source": [
    "# Function to plot multiple histograms\n",
    "def subplot_histograms(dataframe, list_of_columns, list_of_titles, list_of_xlabels, list_of_ylabels):\n",
    "    \"\"\" \n",
    "    Function to plot multiple histograms. \n",
    "  \n",
    "    Parameters: \n",
    "\t\tdataframe (Dateframe): Dateframe that is holding all the data\n",
    "        list_of_columns (list): List of columns that needs to be plotted\n",
    "        list_of_titles (list): List titles for the histograms\n",
    "        list_of_xlabels (list): List of labels for the histogram's x-axis\n",
    "        list_of_ylabels (list): List of labels for the histogram's y-axis\n",
    "  \n",
    "    Returns: \n",
    "\t\tNone  \n",
    "  \n",
    "    \"\"\"\n",
    "    nrows = int(np.ceil(len(list_of_columns)/2))\n",
    "    fig, ax = plt.subplots(nrows=nrows, ncols=2, figsize=(15,6*nrows)) # 8*nrows to adjust the fig according to rows\n",
    "    ax = ax.ravel()\n",
    "    col_color = ['royalblue', 'seagreen'] # Predefine colors for plot\n",
    "    \n",
    "    for i, column in enumerate(list_of_columns):\n",
    "        ax[i].hist(dataframe[column], color=col_color[('ACT' in column)]) # Assign color by SAT or ACT\n",
    "        ax[i].set_title(list_of_titles[i], fontsize = 20)\n",
    "        ax[i].set_ylabel(list_of_ylabels[i], fontsize = 12)\n",
    "        ax[i].set_xlabel(list_of_xlabels[i], fontsize = 12)\n",
    "        ax[i].axvline(dataframe[column].median(), label=\"median\", color='darkred', linewidth=1)\n",
    "        ax[i].axvline(dataframe[column].mean(), label=\"mean\", color='k', linewidth=1)\n",
    "        ax[i].legend(loc='upper center')\n",
    "        \n",
    "        # delete the last subplot is odd number of plots are required\n",
    "    if len(list_of_columns)%2:\n",
    "        fig.delaxes(ax[len(list_of_columns)])\n",
    "    return"
   ]
  },
  {
   "cell_type": "markdown",
   "metadata": {},
   "source": [
    "#### Plot and interpret histograms \n",
    "For each of the following:\n",
    "- Participation rates for SAT & ACT\n",
    "- Math scores for SAT & ACT\n",
    "- Reading/verbal scores for SAT & ACT"
   ]
  },
  {
   "cell_type": "markdown",
   "metadata": {},
   "source": [
    "#### Participation rates plots for SAT & ACT"
   ]
  },
  {
   "cell_type": "code",
   "execution_count": 72,
   "metadata": {},
   "outputs": [
    {
     "data": {
      "image/png": "[encoded data removed]",
      "text/plain": [
       "<Figure size 1080x864 with 4 Axes>"
      ]
     },
     "metadata": {
      "needs_background": "light"
     },
     "output_type": "display_data"
    }
   ],
   "source": [
    "# Histograms for Praticipation rates\n",
    "# Initializing the values before passing into function for easy reading and troubleshooting of code\n",
    "cols = ['2017_SAT_Participation', '2017_ACT_Participation', '2018_SAT_Participation', '2018_ACT_Participation']\n",
    "titles = ['2017 SAT Participation rates', '2017 ACT Participation rates', '2018 SAT Participation rates', '2018 ACT Participation rates']\n",
    "xlabels = ['Participation Rate','Participation Rate','Participation Rate','Participation Rate']\n",
    "ylabels = ['Frequency','Frequency','Frequency','Frequency']\n",
    "\n",
    "subplot_histograms(final_df, cols, titles, xlabels, ylabels)"
   ]
  },
  {
   "cell_type": "markdown",
   "metadata": {},
   "source": [
    "- The plots for both SAT and AST participation rate did not show huge changes from 2017 to 2018. The mean and median lines show slight improvement for SAT's participation, on the ACT end the changes there were marginal. From the mean lines we can see that ACT's center is significantly higher than that of the SAT. \n",
    "- SAT plots shows a large group below 10% which is consistent to what we have seen earlier when looking at highest and lowest SAT participant rates for states.\n",
    "- ACT plots on other hand shows a large group with 100% participant which is also consistent to what we have seen earlier.\n",
    "\n",
    "***"
   ]
  },
  {
   "cell_type": "markdown",
   "metadata": {},
   "source": [
    "#### Math scores plots for SAT & ACT"
   ]
  },
  {
   "cell_type": "code",
   "execution_count": 73,
   "metadata": {},
   "outputs": [
    {
     "data": {
      "image/png": "[encoded data removed]",
      "text/plain": [
       "<Figure size 1080x864 with 4 Axes>"
      ]
     },
     "metadata": {
      "needs_background": "light"
     },
     "output_type": "display_data"
    }
   ],
   "source": [
    "# Histograms for Math score\n",
    "# Initializing the values before passing into function for easy reading and troubleshooting of code\n",
    "cols = ['2017_SAT_Math', '2017_ACT_Math', '2018_SAT_Math', '2018_ACT_Math']\n",
    "titles = ['2017 SAT Math', '2017 ACT Math', '2018 SAT Math', '2018 ACT Math']\n",
    "xlabels = ['Math Score', 'Math Score', 'Math Score', 'Math Score']\n",
    "ylabels = ['Frequency', 'Frequency', 'Frequency', 'Frequency']\n",
    "\n",
    "subplot_histograms(final_df, cols, titles, xlabels, ylabels)"
   ]
  },
  {
   "cell_type": "markdown",
   "metadata": {},
   "source": [
    "The plots for both SAT and ACT share a fairly similar distribution that is slightly bimodal. \n",
    "- For SAT the first peak at around ~530 for both years and a second lower peak at ~600.\n",
    "- The ACT plots looks fairly similar to SAT, with it's first peak at ~19 and the second ~23.\n",
    "- In both tests, the second peak could be cause by the states with low participation rate scoring high in Math.\n",
    "\n",
    "***"
   ]
  },
  {
   "cell_type": "markdown",
   "metadata": {},
   "source": [
    "#### English scores plots for SAT & ACT"
   ]
  },
  {
   "cell_type": "code",
   "execution_count": 74,
   "metadata": {},
   "outputs": [
    {
     "data": {
      "image/png": "[encoded data removed]",
      "text/plain": [
       "<Figure size 1080x864 with 4 Axes>"
      ]
     },
     "metadata": {
      "needs_background": "light"
     },
     "output_type": "display_data"
    }
   ],
   "source": [
    "# Histograms for Reading/verbal scores\n",
    "# As SAT does not split the reading and writing scores\n",
    "# It'll be a better comparison if we merge the reading and english scores as well\n",
    "final_df['2017_ACT_EnglishAve'] = round((final_df['2017_ACT_Reading']+final_df['2017_ACT_English'])/2, 1)\n",
    "final_df['2018_ACT_EnglishAve'] = round((final_df['2018_ACT_Reading']+final_df['2018_ACT_English'])/2, 1)\n",
    "\n",
    "# Initializing the values before passing into function for easy reading and troubleshooting of code\n",
    "cols = ['2017_SAT_EBRW', '2017_ACT_EnglishAve', '2018_SAT_EBRW', '2018_ACT_EnglishAve']\n",
    "titles = ['2017 SAT English', '2017 ACT English', '2018 SAT English', '2018 ACT English']\n",
    "xlabels = ['Score', 'Score', 'Score', 'Score']\n",
    "ylabels = ['Frequency', 'Frequency', 'Frequency', 'Frequency']\n",
    "\n",
    "subplot_histograms(final_df, cols, titles, xlabels, ylabels)"
   ]
  },
  {
   "cell_type": "markdown",
   "metadata": {},
   "source": [
    "Similar to the plots for Math both SAT and ACT English score plots are showing 2 peaks.\n",
    "***"
   ]
  },
  {
   "cell_type": "markdown",
   "metadata": {},
   "source": [
    "#### Plot and interpret scatter plots\n",
    "\n",
    "For each of the following:\n",
    "- SAT vs. ACT math scores for 2017\n",
    "- SAT vs. ACT verbal/reading scores for 2017\n",
    "- SAT vs. ACT total/composite scores for 2017\n",
    "- Total scores for SAT 2017 vs. 2018\n",
    "- Composite scores for ACT 2017 vs. 2018\n",
    "\n",
    "Plot the two variables against each other using matplotlib or Seaborn\n",
    "\n",
    "Your plots should show:\n",
    "- Two clearly labeled axes\n",
    "- A proper title\n",
    "- Using colors and symbols that are clear and unmistakable\n",
    "\n",
    "**Feel free to write a custom function, and subplot if you'd like.** Functions save both time and space.\n"
   ]
  },
  {
   "cell_type": "code",
   "execution_count": 75,
   "metadata": {},
   "outputs": [],
   "source": [
    "# Function to plot multiple scatter plots.\n",
    "def subplot_scatter(dataframe, list_of_col_pairs, list_of_titles, list_of_xlabels, list_of_ylabels):\n",
    "    \"\"\" \n",
    "    Function to plot multiple scatter plots. \n",
    "  \n",
    "    Parameters: \n",
    "\t\tdataframe (Dateframe): Dateframe that is holding all the data\n",
    "        list_of_col_pairs (list): List of columns pairs that are to be plotted in the scatter plot\n",
    "        list_of_titles (list): List titles for the scatter plot\n",
    "        list_of_xlabels (list): List of labels for the scatter plot's x-axis\n",
    "        list_of_ylabels (list): List of labels for the scatter plot's y-axis\n",
    "  \n",
    "    Returns: \n",
    "\t\tNone  \n",
    "  \n",
    "    \"\"\"\n",
    "    nrows = int(np.ceil(len(list_of_col_pairs)/2)) \n",
    "    fig, ax = plt.subplots(nrows=nrows, ncols=2, figsize=(15,8*nrows))\n",
    "    ax = ax.ravel()\n",
    "\n",
    "    for i, column in enumerate(list_of_col_pairs): \n",
    "        ax[i].scatter(dataframe[column[0]], dataframe[column[1]])\n",
    "        ax[i].set_title(list_of_titles[i], fontsize = 20)\n",
    "        ax[i].set_ylabel(list_of_ylabels[i], fontsize = 12)\n",
    "        ax[i].set_xlabel(list_of_xlabels[i], fontsize = 12)\n",
    "        \n",
    "        # apply Median lines\n",
    "        ax[i].axvline(dataframe[column[0]].median(),\\\n",
    "                label=f'{list_of_xlabels[i]} Median', color='green', linestyle='--')\n",
    "        ax[i].axhline(dataframe[column[1]].median(),\\\n",
    "                label=f'{list_of_ylabels[i]} Median', color='black', linestyle='-.')\n",
    "        \n",
    "        # apply a trend line\n",
    "        z = np.polyfit(dataframe[column[0]], dataframe[column[1]], 1)\n",
    "        p = np.poly1d(z)\n",
    "        ax[i].plot(dataframe[column[0]],p(dataframe[column[0]]), \"r--\", label='Trend line')\n",
    "        ax[i].legend(loc='upper center')\n",
    "    \n",
    "    # delete the last subplot is odd number of plots are required\n",
    "    if len(list_of_col_pairs)%2:\n",
    "        fig.delaxes(ax[len(list_of_col_pairs)])\n",
    "    return"
   ]
  },
  {
   "cell_type": "code",
   "execution_count": 76,
   "metadata": {},
   "outputs": [
    {
     "data": {
      "image/png": "[encoded data removed]",
      "text/plain": [
       "<Figure size 1080x576 with 2 Axes>"
      ]
     },
     "metadata": {
      "needs_background": "light"
     },
     "output_type": "display_data"
    }
   ],
   "source": [
    "# Scatter plot for Math and Reading/verbal scores\n",
    "# Initializing the values before passing into function for easy reading and troubleshooting of code\n",
    "cols = [['2017_SAT_Math', '2017_ACT_Math'], ['2017_SAT_EBRW', '2017_ACT_EnglishAve']]\n",
    "titles = ['2017 SAT vs ACT Math', '2017 SAT vs ACT English']\n",
    "xlabels = ['SAT Math', 'SAT English']\n",
    "ylabels = ['ACT Math', 'ACT English']\n",
    "\n",
    "subplot_scatter(final_df, cols, titles, xlabels, ylabels)"
   ]
  },
  {
   "cell_type": "markdown",
   "metadata": {},
   "source": [
    "The points in both scatter plots are too spread out, the pattern could have occurred from random chance, and no relationship is demonstrated.\n",
    " \n",
    "***"
   ]
  },
  {
   "cell_type": "code",
   "execution_count": 77,
   "metadata": {},
   "outputs": [
    {
     "data": {
      "image/png": "[encoded data removed]",
      "text/plain": [
       "<Figure size 1080x1152 with 3 Axes>"
      ]
     },
     "metadata": {
      "needs_background": "light"
     },
     "output_type": "display_data"
    }
   ],
   "source": [
    "# Scatter plot for the following:\n",
    "# Total scores for SAT 2017 vs. 2018\n",
    "# Composite scores for ACT 2017 vs. 2018\n",
    "# SAT vs. ACT total/composite scores for 2017\n",
    "# Initializing the values before passing into function for easy reading and troubleshooting of code\n",
    "cols = [['2017_SAT_Total', '2018_SAT_Total'], ['2017_ACT_Composite', '2018_ACT_Composite'], ['2017_SAT_Total', '2017_ACT_Composite']]\n",
    "titles = ['2017 vs 2018 SAT Total', '2017 vs 2018 ACT Composite', '2017 SAT Total vs ACT Composite']\n",
    "xlabels = ['2017 SAT Total', '2017 ACT Composite', '2017 SAT Total']\n",
    "ylabels = ['2018 SAT Total', '2018 ACT Composite', '2017 ACT Composite']\n",
    "\n",
    "subplot_scatter(final_df, cols, titles, xlabels, ylabels)"
   ]
  },
  {
   "cell_type": "markdown",
   "metadata": {},
   "source": [
    "The scatter plot between 2017 and 2018 SAT Total score, shows a strong positive linear relationship. There are a a few exceptions where the scores took a dive in 2018, top 2 on this list are Utah and Colorado.\n",
    "\n",
    "Similar to the SAT, the plot for 2017 and 2018 ACT Composite shows a strong positive linear relationship as well. \n",
    "\n",
    "As for the plot between SAT Total against ACT Composite, no relationship is demonstrated.\n",
    "***\n"
   ]
  },
  {
   "cell_type": "markdown",
   "metadata": {},
   "source": [
    "#### Plot and interpret boxplots\n",
    "\n",
    "For each numeric variable in the dataframe create a boxplot using Seaborn. Boxplots demonstrate central tendency and spread in variables. In a certain sense, these are somewhat redundant with histograms, but you may be better able to identify clear outliers or differences in IQR, etc.\n",
    "\n",
    "Multiple values can be plotted to a single boxplot as long as they are of the same relative scale (meaning they have similar min/max values).\n",
    "\n",
    "Each boxplot should:\n",
    "- Only include variables of a similar scale\n",
    "- Have clear labels for each variable\n",
    "- Have appropriate titles and labels"
   ]
  },
  {
   "cell_type": "code",
   "execution_count": 78,
   "metadata": {
    "scrolled": false
   },
   "outputs": [
    {
     "data": {
      "image/png": "[encoded data removed]",
      "text/plain": [
       "<Figure size 720x432 with 1 Axes>"
      ]
     },
     "metadata": {
      "needs_background": "light"
     },
     "output_type": "display_data"
    }
   ],
   "source": [
    "#Boxplot for ACT and SAT participation rates, 2017 and 2018 (4 vars)\n",
    "part_rate = final_df[['2017_SAT_Participation','2018_SAT_Participation','2017_ACT_Participation','2018_ACT_Participation']]\n",
    "\n",
    "plt.figure(figsize=(10,6))\n",
    "plt.title('ACT and SAT Participation Rates for 2017 & 2018', fontsize = 20)\n",
    "plt.xlabel('Participation Rate', fontsize = 12)\n",
    "sns.boxplot(data=part_rate, orient='h');"
   ]
  },
  {
   "cell_type": "markdown",
   "metadata": {},
   "source": [
    "From the box plot above, we can see that ACT for both years are centered significantly higher than that of SAT.\n",
    "***"
   ]
  },
  {
   "cell_type": "code",
   "execution_count": 79,
   "metadata": {
    "scrolled": true
   },
   "outputs": [
    {
     "data": {
      "image/png": "[encoded data removed]",
      "text/plain": [
       "<Figure size 720x432 with 1 Axes>"
      ]
     },
     "metadata": {
      "needs_background": "light"
     },
     "output_type": "display_data"
    }
   ],
   "source": [
    "#Boxplot for SAT score across 2017 and 2018\n",
    "part_rate = final_df[['2017_SAT_EBRW','2018_SAT_EBRW', '2017_SAT_Math','2018_SAT_Math']]\n",
    "\n",
    "plt.figure(figsize=(10,6))\n",
    "plt.title('SAT scores for 2017 & 2018', fontsize = 20)\n",
    "plt.xlabel('Score', fontsize = 12)\n",
    "sns.boxplot(data=part_rate, orient='h');"
   ]
  },
  {
   "cell_type": "code",
   "execution_count": 80,
   "metadata": {},
   "outputs": [
    {
     "data": {
      "image/png": "[encoded data removed]",
      "text/plain": [
       "<Figure size 720x720 with 1 Axes>"
      ]
     },
     "metadata": {
      "needs_background": "light"
     },
     "output_type": "display_data"
    }
   ],
   "source": [
    "#Boxplot for ACT and SAT participation rates, 2017 and 2018 (4 vars)\n",
    "part_rate = final_df[['2017_ACT_English','2018_ACT_English', '2017_ACT_Math','2018_ACT_Math',\\\n",
    "                     '2017_ACT_Reading', '2018_ACT_Reading', '2017_ACT_Science', '2018_ACT_Science']]\n",
    "\n",
    "plt.figure(figsize=(10,10))\n",
    "plt.title('ACT scores for 2017 & 2018', fontsize = 20)\n",
    "plt.xlabel('Score', fontsize = 12)\n",
    "sns.boxplot(data=part_rate, orient='h');"
   ]
  },
  {
   "cell_type": "markdown",
   "metadata": {},
   "source": [
    "#### Feel free to do additional plots below\n",
    "*(do research and choose your own chart types & variables)*\n",
    "\n",
    "Are there any additional trends or relationships you haven't explored? Was there something interesting you saw that you'd like to dive further into? It's likely that there are a few more plots you might want to generate to support your narrative and recommendations that you are building toward. **As always, make sure you're interpreting your plots as you go**."
   ]
  },
  {
   "cell_type": "markdown",
   "metadata": {},
   "source": [
    "#### Plotting the 2107 SAT participation rate into a histogram"
   ]
  },
  {
   "cell_type": "code",
   "execution_count": 81,
   "metadata": {},
   "outputs": [],
   "source": [
    "sat_ctry_2017 = final_df.sort_values(by=['2017_SAT_Participation'], ascending = False)[['State', '2017_SAT_Participation']]\n",
    "sat_ctry_2017 = sat_ctry_2017.set_index('State')"
   ]
  },
  {
   "cell_type": "code",
   "execution_count": 82,
   "metadata": {
    "scrolled": true
   },
   "outputs": [
    {
     "data": {
      "image/png": "[encoded data removed]",
      "text/plain": [
       "<Figure size 1080x576 with 1 Axes>"
      ]
     },
     "metadata": {
      "needs_background": "light"
     },
     "output_type": "display_data"
    }
   ],
   "source": [
    "sat_ctry_2017.plot(kind='bar', figsize=(15,8), color='darkkhaki'); \n",
    "plt.xlabel('State', fontsize=15);\n",
    "plt.ylabel('Participation rate (%)', fontsize=15);\n",
    "plt.title('Distribution of SAT participation rate per state', fontsize=20);"
   ]
  },
  {
   "cell_type": "code",
   "execution_count": 83,
   "metadata": {
    "scrolled": true
   },
   "outputs": [
    {
     "data": {
      "text/html": [
       "<div>\n",
       "<style scoped>\n",
       "    .dataframe tbody tr th:only-of-type {\n",
       "        vertical-align: middle;\n",
       "    }\n",
       "\n",
       "    .dataframe tbody tr th {\n",
       "        vertical-align: top;\n",
       "    }\n",
       "\n",
       "    .dataframe thead th {\n",
       "        text-align: right;\n",
       "    }\n",
       "</style>\n",
       "<table border=\"1\" class=\"dataframe\">\n",
       "  <thead>\n",
       "    <tr style=\"text-align: right;\">\n",
       "      <th></th>\n",
       "      <th>State</th>\n",
       "      <th>2017_SAT_Participation</th>\n",
       "      <th>2018_SAT_Participation</th>\n",
       "      <th>2017_ACT_Participation</th>\n",
       "      <th>2018_ACT_Participation</th>\n",
       "    </tr>\n",
       "  </thead>\n",
       "  <tbody>\n",
       "    <tr>\n",
       "      <th>15</th>\n",
       "      <td>Iowa</td>\n",
       "      <td>2</td>\n",
       "      <td>3</td>\n",
       "      <td>67</td>\n",
       "      <td>68</td>\n",
       "    </tr>\n",
       "    <tr>\n",
       "      <th>24</th>\n",
       "      <td>Mississippi</td>\n",
       "      <td>2</td>\n",
       "      <td>3</td>\n",
       "      <td>100</td>\n",
       "      <td>100</td>\n",
       "    </tr>\n",
       "    <tr>\n",
       "      <th>25</th>\n",
       "      <td>Missouri</td>\n",
       "      <td>3</td>\n",
       "      <td>4</td>\n",
       "      <td>100</td>\n",
       "      <td>100</td>\n",
       "    </tr>\n",
       "    <tr>\n",
       "      <th>34</th>\n",
       "      <td>North Dakota</td>\n",
       "      <td>2</td>\n",
       "      <td>2</td>\n",
       "      <td>98</td>\n",
       "      <td>98</td>\n",
       "    </tr>\n",
       "    <tr>\n",
       "      <th>44</th>\n",
       "      <td>Utah</td>\n",
       "      <td>3</td>\n",
       "      <td>4</td>\n",
       "      <td>100</td>\n",
       "      <td>100</td>\n",
       "    </tr>\n",
       "  </tbody>\n",
       "</table>\n",
       "</div>"
      ],
      "text/plain": [
       "           State  2017_SAT_Participation  2018_SAT_Participation  \\\n",
       "15          Iowa                       2                       3   \n",
       "24   Mississippi                       2                       3   \n",
       "25      Missouri                       3                       4   \n",
       "34  North Dakota                       2                       2   \n",
       "44          Utah                       3                       4   \n",
       "\n",
       "    2017_ACT_Participation  2018_ACT_Participation  \n",
       "15                      67                      68  \n",
       "24                     100                     100  \n",
       "25                     100                     100  \n",
       "34                      98                      98  \n",
       "44                     100                     100  "
      ]
     },
     "execution_count": 83,
     "metadata": {},
     "output_type": "execute_result"
    }
   ],
   "source": [
    "final_df[final_df['State'].isin(['Iowa', 'Mississippi', 'North Dakota', 'Missouri', 'Utah'])]\\\n",
    "[['State','2017_SAT_Participation','2018_SAT_Participation','2017_ACT_Participation','2018_ACT_Participation']]\n"
   ]
  },
  {
   "cell_type": "markdown",
   "metadata": {},
   "source": [
    "Zooming into the 5 states with lowest participation rates, these are Iowa, Mississippi, Missouri, North Dakota and Utah.\n",
    "These states have SAT participation rates below 5% for both years.\n",
    "\n",
    "***"
   ]
  },
  {
   "cell_type": "markdown",
   "metadata": {},
   "source": [
    "#### (Optional): Using Tableau, create a choropleth map for each variable using a map of the US. \n",
    "\n",
    "Save this plot as an image file in an images directory, provide a relative path, and insert the image into notebook in markdown."
   ]
  },
  {
   "cell_type": "code",
   "execution_count": null,
   "metadata": {},
   "outputs": [],
   "source": []
  },
  {
   "cell_type": "markdown",
   "metadata": {},
   "source": [
    "## Descriptive and Inferential Statistics"
   ]
  },
  {
   "cell_type": "markdown",
   "metadata": {},
   "source": [
    "#### Summarizing Distributions\n",
    "\n",
    "Above, we used pandas `describe` to provide quick summary statistics of our numeric columns. We also demonstrated many visual relationships.\n",
    "\n",
    "As data scientists, having a complete understanding of data is imperative prior to modeling.\n",
    "\n",
    "While we will continue to build our analytic tools, we know that measures of *central tendency*, *spread*, and *shape/skewness* provide a quick summary of distributions.\n",
    "\n",
    "For each variable in your data, summarize the underlying distributions (in words & statistics)\n",
    " - Be thorough in your verbal description of these distributions.\n",
    " - Be sure to back up these summaries with statistics."
   ]
  },
  {
   "cell_type": "markdown",
   "metadata": {},
   "source": [
    "Answers:"
   ]
  },
  {
   "cell_type": "code",
   "execution_count": 84,
   "metadata": {},
   "outputs": [],
   "source": [
    "# Function to summarize distribution. \n",
    "def summarize(df, col, title, xlabel, ylabel):\n",
    "    \"\"\" \n",
    "    Function to summarize distribution. \n",
    "  \n",
    "    Parameters: \n",
    "\t\tdf (Dateframe): Dateframe that is holding all the data\n",
    "        col (str): Column that needs to be plotted\n",
    "        title (str): Titles for the histogram\n",
    "        xlabel (str): Label for the histogram's x-axis\n",
    "        ylabel (str): Label for the histogram's y-axis\n",
    "    Returns: \n",
    "\t\tNone  \n",
    "  \n",
    "    \"\"\"\n",
    "    subplot_histograms(df, [col], [title], [xlabel], [ylabel])\n",
    "    mean = df[col].mean()\n",
    "    median = df[col].median()\n",
    "    std = df[col].std()\n",
    "    cv = int((std/mean)*100)\n",
    "    # print summary of the distribution\n",
    "    print(f\"Summary for {col} \\nmean:\\t{mean:.2f}, \\nmedian:\\t{median:.2f}, \\nstd:\\t{std:.2f}.\")\n",
    "    if mean > median:\n",
    "        print(f\"This distribution is skewed to the right\")\n",
    "    elif mean < median:\n",
    "        print(f\"This distribution is skewed to the left\")\n",
    "    else:\n",
    "        print(f\"This distribution is symetrically distributed\")\n",
    "    \n",
    "    # assuming coefficient of variation of 30 and below are acceptable\n",
    "    # and in this case considered \n",
    "    if cv <= 30:  \n",
    "        print(f\"CV of {cv}%, the spread of this distribution is small\")\n",
    "    else:\n",
    "        print(f\"CV of {cv}%, the spread of this distribution is big\")\n",
    "    return"
   ]
  },
  {
   "cell_type": "markdown",
   "metadata": {},
   "source": [
    "#### Summarizing Distribution for SAT Participation"
   ]
  },
  {
   "cell_type": "code",
   "execution_count": 85,
   "metadata": {},
   "outputs": [
    {
     "name": "stdout",
     "output_type": "stream",
     "text": [
      "Summary for 2017_SAT_Participation \n",
      "mean:\t39.80, \n",
      "median:\t38.00, \n",
      "std:\t35.28.\n",
      "This distribution is skewed to the right\n",
      "CV of 88%, the spread of this distribution is big\n"
     ]
    },
    {
     "data": {
      "image/png": "[encoded data removed]",
      "text/plain": [
       "<Figure size 1080x432 with 1 Axes>"
      ]
     },
     "metadata": {
      "needs_background": "light"
     },
     "output_type": "display_data"
    }
   ],
   "source": [
    "# Plotting the distribution for SAT Participation\n",
    "summarize(final_df, '2017_SAT_Participation', '2017 SAT Participation', 'SAT Particpation', 'Frequency')"
   ]
  },
  {
   "cell_type": "markdown",
   "metadata": {},
   "source": [
    "##### Summarizing Distribution for SAT Participation \n",
    "This distribution has 3 peaks, with the highest peak at ~3, second peak at ~60 and finally at ~90. <br>\n",
    "Based on the mean and median this distribution is skewed to the right. <br>\n",
    "The standard deviation is fairly big, that would mean a big spread. <br>\n",
    "***"
   ]
  },
  {
   "cell_type": "markdown",
   "metadata": {},
   "source": [
    "#### Summarizing Distribution for SAT English score"
   ]
  },
  {
   "cell_type": "code",
   "execution_count": 86,
   "metadata": {},
   "outputs": [
    {
     "name": "stdout",
     "output_type": "stream",
     "text": [
      "Summary for 2017_SAT_EBRW \n",
      "mean:\t569.12, \n",
      "median:\t559.00, \n",
      "std:\t45.67.\n",
      "This distribution is skewed to the right\n",
      "CV of 8%, the spread of this distribution is small\n"
     ]
    },
    {
     "data": {
      "image/png": "[encoded data removed]",
      "text/plain": [
       "<Figure size 1080x432 with 1 Axes>"
      ]
     },
     "metadata": {
      "needs_background": "light"
     },
     "output_type": "display_data"
    }
   ],
   "source": [
    "# Plotting the distribution for SAT English score\n",
    "summarize(final_df, '2017_SAT_EBRW', '2017 SAT English Score', 'SAT English Score', 'Frequency')"
   ]
  },
  {
   "cell_type": "markdown",
   "metadata": {},
   "source": [
    "##### Summarizing Distribution for SAT English score \n",
    "This distribution is bimodal, with the first peak at ~535 and second one at ~635. <br>\n",
    "Based on the mean and median this distribution is skewed to the right. <br>\n",
    "The standard deviation is fairly small, that would mean the spread is small. <br>\n",
    "***"
   ]
  },
  {
   "cell_type": "markdown",
   "metadata": {},
   "source": [
    "#### Summarizing Distribution for SAT Math score"
   ]
  },
  {
   "cell_type": "code",
   "execution_count": 87,
   "metadata": {},
   "outputs": [
    {
     "name": "stdout",
     "output_type": "stream",
     "text": [
      "Summary for 2017_SAT_Math \n",
      "mean:\t556.88, \n",
      "median:\t548.00, \n",
      "std:\t47.12.\n",
      "This distribution is skewed to the right\n",
      "CV of 8%, the spread of this distribution is small\n"
     ]
    },
    {
     "data": {
      "image/png": "[encoded data removed]",
      "text/plain": [
       "<Figure size 1080x432 with 1 Axes>"
      ]
     },
     "metadata": {
      "needs_background": "light"
     },
     "output_type": "display_data"
    }
   ],
   "source": [
    "# Plotting the distribution for SAT Math score\n",
    "summarize(final_df, '2017_SAT_Math', '2017 SAT Math Score', 'SAT Math Score', 'Frequency')"
   ]
  },
  {
   "cell_type": "markdown",
   "metadata": {},
   "source": [
    "##### Summarizing Distribution for SAT Math score \n",
    "This distribution has 2 peaks, the first peak at ~535 and a second lower peak at ~600. <br>\n",
    "Based on the mean and median this distribution is skewed to the right. <br>\n",
    "The standard deviation is fairly small, that would mean the spread is small. <br>\n",
    "***"
   ]
  },
  {
   "cell_type": "markdown",
   "metadata": {},
   "source": [
    "#### Summarizing Distribution for SAT Total score"
   ]
  },
  {
   "cell_type": "code",
   "execution_count": 88,
   "metadata": {},
   "outputs": [
    {
     "name": "stdout",
     "output_type": "stream",
     "text": [
      "Summary for 2017_SAT_Total \n",
      "mean:\t1126.10, \n",
      "median:\t1107.00, \n",
      "std:\t92.49.\n",
      "This distribution is skewed to the right\n",
      "CV of 8%, the spread of this distribution is small\n"
     ]
    },
    {
     "data": {
      "image/png": "[encoded data removed]",
      "text/plain": [
       "<Figure size 1080x432 with 1 Axes>"
      ]
     },
     "metadata": {
      "needs_background": "light"
     },
     "output_type": "display_data"
    }
   ],
   "source": [
    "# Plotting the distribution for SAT Total score\n",
    "summarize(final_df, '2017_SAT_Total', '2017 SAT Total Score', 'SAT Total Score', 'Frequency')"
   ]
  },
  {
   "cell_type": "markdown",
   "metadata": {},
   "source": [
    "#### Summarizing Distribution for SAT Total score\n",
    "This distribution has 2 peaks, the first peak at ~1060 and a second lower peak at ~1230. <br>\n",
    "Based on the mean and median this distribution is skewed to the right. <br>\n",
    "The standard deviation is fairly small, that would mean the spread is small. <br>\n",
    "***"
   ]
  },
  {
   "cell_type": "markdown",
   "metadata": {},
   "source": [
    "#### Summarizing Distribution for ACT Participation rate"
   ]
  },
  {
   "cell_type": "code",
   "execution_count": 89,
   "metadata": {},
   "outputs": [
    {
     "name": "stdout",
     "output_type": "stream",
     "text": [
      "Summary for 2017_ACT_Participation \n",
      "mean:\t65.25, \n",
      "median:\t69.00, \n",
      "std:\t32.14.\n",
      "This distribution is skewed to the left\n",
      "CV of 49%, the spread of this distribution is big\n"
     ]
    },
    {
     "data": {
      "image/png": "[encoded data removed]",
      "text/plain": [
       "<Figure size 1080x432 with 1 Axes>"
      ]
     },
     "metadata": {
      "needs_background": "light"
     },
     "output_type": "display_data"
    }
   ],
   "source": [
    "# Plotting the distribution for ACT Participation\n",
    "summarize(final_df, '2017_ACT_Participation', '2017 ACT Participation', 'ACT Participation', 'Frequency')"
   ]
  },
  {
   "cell_type": "markdown",
   "metadata": {},
   "source": [
    "#### Summarizing Distribution for ACT Participation rate\n",
    "This distribution has 2 peaks, the first peak at ~30 and a second higher peak at ~95. <br>\n",
    "Based on the mean and median this distribution is skewed to the left. <br>\n",
    "The standard deviation is fairly big, that would mean the spread is big. <br>\n",
    "***"
   ]
  },
  {
   "cell_type": "markdown",
   "metadata": {},
   "source": [
    "#### Summarizing Distribution for ACT English score"
   ]
  },
  {
   "cell_type": "code",
   "execution_count": 90,
   "metadata": {},
   "outputs": [
    {
     "name": "stdout",
     "output_type": "stream",
     "text": [
      "Summary for 2017_ACT_English \n",
      "mean:\t20.93, \n",
      "median:\t20.70, \n",
      "std:\t2.35.\n",
      "This distribution is skewed to the right\n",
      "CV of 11%, the spread of this distribution is small\n"
     ]
    },
    {
     "data": {
      "image/png": "[encoded data removed]",
      "text/plain": [
       "<Figure size 1080x432 with 1 Axes>"
      ]
     },
     "metadata": {
      "needs_background": "light"
     },
     "output_type": "display_data"
    }
   ],
   "source": [
    "# Plotting the distribution for ACT English score\n",
    "summarize(final_df, '2017_ACT_English', '2017 ACT English Score', 'ACT English Score', 'Frequency')"
   ]
  },
  {
   "cell_type": "markdown",
   "metadata": {},
   "source": [
    "#### Summarizing Distribution for ACT English score\n",
    "This distribution has 2 peaks, the first peak at ~18.5 and a second lower peak at ~24. <br>\n",
    "Based on the mean and median this distribution is skewed to the right. <br>\n",
    "The standard deviation is fairly small, that would mean the spread is small. <br>\n",
    "***"
   ]
  },
  {
   "cell_type": "markdown",
   "metadata": {},
   "source": [
    "#### Summarizing Distribution for ACT Math score"
   ]
  },
  {
   "cell_type": "code",
   "execution_count": 91,
   "metadata": {},
   "outputs": [
    {
     "name": "stdout",
     "output_type": "stream",
     "text": [
      "Summary for 2017_ACT_Math \n",
      "mean:\t21.18, \n",
      "median:\t20.90, \n",
      "std:\t1.98.\n",
      "This distribution is skewed to the right\n",
      "CV of 9%, the spread of this distribution is small\n"
     ]
    },
    {
     "data": {
      "image/png": "[encoded data removed]",
      "text/plain": [
       "<Figure size 1080x432 with 1 Axes>"
      ]
     },
     "metadata": {
      "needs_background": "light"
     },
     "output_type": "display_data"
    }
   ],
   "source": [
    "# Plotting the distribution for ACT Math score\n",
    "summarize(final_df, '2017_ACT_Math', '2017 ACT Math Score', 'ACT Math Score', 'Frequency')"
   ]
  },
  {
   "cell_type": "markdown",
   "metadata": {},
   "source": [
    "#### Summarizing Distribution for ACT Math score\n",
    "This distribution has 2 peaks, the first peak at ~19 and a second lower peak at ~23. <br>\n",
    "Based on the mean and median this distribution is skewed to the right. <br>\n",
    "The standard deviation is fairly small, that would mean the spread is small. <br>\n",
    "***"
   ]
  },
  {
   "cell_type": "markdown",
   "metadata": {},
   "source": [
    "#### Summarizing Distribution for ACT Reading score"
   ]
  },
  {
   "cell_type": "code",
   "execution_count": 92,
   "metadata": {},
   "outputs": [
    {
     "name": "stdout",
     "output_type": "stream",
     "text": [
      "Summary for 2017_ACT_Reading \n",
      "mean:\t22.01, \n",
      "median:\t21.80, \n",
      "std:\t2.07.\n",
      "This distribution is skewed to the right\n",
      "CV of 9%, the spread of this distribution is small\n"
     ]
    },
    {
     "data": {
      "image/png": "[encoded data removed]",
      "text/plain": [
       "<Figure size 1080x432 with 1 Axes>"
      ]
     },
     "metadata": {
      "needs_background": "light"
     },
     "output_type": "display_data"
    }
   ],
   "source": [
    "# Plotting the distribution for ACT Reading score\n",
    "summarize(final_df, '2017_ACT_Reading', '2017 ACT Reading Score', 'ACT Reading Score', 'Frequency')"
   ]
  },
  {
   "cell_type": "markdown",
   "metadata": {},
   "source": [
    "#### Summarizing Distribution for ACT Reading score\n",
    "This distribution has 2 peaks, the first peak at ~20.5 and a second lower peak at ~24.5. <br>\n",
    "Based on the mean and median this distribution is skewed to the right. <br>\n",
    "The standard deviation is fairly small, that would mean the spread is small. <br>\n",
    "***"
   ]
  },
  {
   "cell_type": "markdown",
   "metadata": {},
   "source": [
    "#### Summarizing Distribution for ACT Science score"
   ]
  },
  {
   "cell_type": "code",
   "execution_count": 93,
   "metadata": {},
   "outputs": [
    {
     "name": "stdout",
     "output_type": "stream",
     "text": [
      "Summary for 2017_ACT_Science \n",
      "mean:\t21.45, \n",
      "median:\t21.30, \n",
      "std:\t1.74.\n",
      "This distribution is skewed to the right\n",
      "CV of 8%, the spread of this distribution is small\n"
     ]
    },
    {
     "data": {
      "image/png": "[encoded data removed]",
      "text/plain": [
       "<Figure size 1080x432 with 1 Axes>"
      ]
     },
     "metadata": {
      "needs_background": "light"
     },
     "output_type": "display_data"
    }
   ],
   "source": [
    "# Plotting the distribution for ACT Science score\n",
    "summarize(final_df, '2017_ACT_Science', '2017 ACT Science Score', 'ACT Science Score', 'Frequency')"
   ]
  },
  {
   "cell_type": "markdown",
   "metadata": {},
   "source": [
    "#### Summarizing Distribution for ACT Science score\n",
    "This distribution is concentrated at ~18 to 25. <br>\n",
    "Based on the mean and median this distribution is skewed to the left. <br>\n",
    "The standard deviation is small, that would mean the spread is small. <br>\n",
    "***"
   ]
  },
  {
   "cell_type": "markdown",
   "metadata": {},
   "source": [
    "#### Summarizing Distribution for ACT Composite score"
   ]
  },
  {
   "cell_type": "code",
   "execution_count": 94,
   "metadata": {},
   "outputs": [
    {
     "name": "stdout",
     "output_type": "stream",
     "text": [
      "Summary for 2017_ACT_Composite \n",
      "mean:\t21.52, \n",
      "median:\t21.40, \n",
      "std:\t2.02.\n",
      "This distribution is skewed to the right\n",
      "CV of 9%, the spread of this distribution is small\n"
     ]
    },
    {
     "data": {
      "image/png": "[encoded data removed]",
      "text/plain": [
       "<Figure size 1080x432 with 1 Axes>"
      ]
     },
     "metadata": {
      "needs_background": "light"
     },
     "output_type": "display_data"
    }
   ],
   "source": [
    "# Plotting the distribution for ACT Composite score\n",
    "summarize(final_df, '2017_ACT_Composite', '2017 ACT Composite Score', 'ACT Composite Score', 'Frequency')"
   ]
  },
  {
   "cell_type": "markdown",
   "metadata": {},
   "source": [
    "#### Summarizing Distribution for ACT Composite score\n",
    "This distribution has 2 peaks, the first peak at ~19.5 and a second lower peak at ~24.5. <br>\n",
    "Based on the mean and median this distribution is skewed to the right. <br>\n",
    "The standard deviation is fairly small, that would mean the spread is small. <br>\n",
    "***"
   ]
  },
  {
   "cell_type": "markdown",
   "metadata": {},
   "source": [
    "\n",
    "#### Distributions in the data\n",
    "\n",
    "In this dataset, each data represents a sample from a population.                        \n",
    "For example, for ACT math test:\n",
    "- Population: the test results of all the students who take this test, nation-wide.\n",
    "- Population mean: is the national average of ACT math test (total scores/total no. of test takers) \n",
    "- Sample: the state means of ACT math test. We have 51 samples (51 states)\n",
    "\n",
    "***According to CLT, we generally assuming that data we sample from a population will be normally distributed. Do we observe this trend?***"
   ]
  },
  {
   "cell_type": "markdown",
   "metadata": {},
   "source": [
    "Answer:\n",
    "\n",
    "No, not for this dataset. Most of the distributions are bimodal. The second peak could be due to selection bias caused by the states with low participation rate getting the highest scores.\n",
    "***"
   ]
  },
  {
   "cell_type": "markdown",
   "metadata": {},
   "source": [
    "Does This Assumption Hold for:\n",
    "    - Math\n",
    "    - Reading\n",
    "    - Rates\n",
    "Explain your answers for each distribution and how you think this will affect estimates made from these data."
   ]
  },
  {
   "cell_type": "markdown",
   "metadata": {},
   "source": [
    "Answer:\n",
    "\n",
    "Yes, the assumption holds for the Math and Reading. As the low participation states with higher scores will skew the distributions.\n",
    "\n",
    "As for participation rates the distributions are not normally distributed as well.<br>\n",
    "As the rates tend to cluster at both extremes, this is reflection of the test being mandated in the states. \n",
    "***"
   ]
  },
  {
   "cell_type": "markdown",
   "metadata": {},
   "source": [
    "#### Estimate Limits of Data\n",
    "\n",
    "Suppose we only seek to understand the relationship between SAT and ACT participation rates in 2017. \n",
    "\n",
    "##### Does it make sense to conduct statistical inference given these data specifically? \n",
    "\n",
    "Why or why not?\n",
    "\n",
    "*(think about granularity, aggregation, the relationships between populations size & rates...consider the actually populations these data describe in answering this question)*"
   ]
  },
  {
   "cell_type": "markdown",
   "metadata": {},
   "source": [
    "Answer:\n",
    "\n",
    "No, doesn't make sense as both participation rates do not follow a Normal distribution. <br>\n",
    "Statistical inference comparisons that reply on Normal distribution will not be valid for these variables.\n",
    "***"
   ]
  },
  {
   "cell_type": "markdown",
   "metadata": {},
   "source": [
    "##### Is it appropriate to compare *these* specific SAT and ACT math scores  - can we say students with higher SAT math score is better than those with lower ACT math score, or vice versa?\n",
    "\n",
    "Why or why not?"
   ]
  },
  {
   "cell_type": "code",
   "execution_count": 95,
   "metadata": {},
   "outputs": [
    {
     "data": {
      "image/png": "[encoded data removed]",
      "text/plain": [
       "<Figure size 1080x576 with 1 Axes>"
      ]
     },
     "metadata": {
      "needs_background": "light"
     },
     "output_type": "display_data"
    }
   ],
   "source": [
    "# Scatter plot for Math scores\n",
    "# Initializing the values before passing into function for easy reading and troubleshooting of code\n",
    "cols = [['2017_SAT_Math', '2017_ACT_Math']]\n",
    "titles = ['2017 SAT vs ACT Math']\n",
    "xlabels = ['SAT Math']\n",
    "ylabels = ['ACT Math']\n",
    "\n",
    "subplot_scatter(final_df, cols, titles, xlabels, ylabels)"
   ]
  },
  {
   "cell_type": "code",
   "execution_count": 96,
   "metadata": {},
   "outputs": [
    {
     "data": {
      "text/html": [
       "<div>\n",
       "<style scoped>\n",
       "    .dataframe tbody tr th:only-of-type {\n",
       "        vertical-align: middle;\n",
       "    }\n",
       "\n",
       "    .dataframe tbody tr th {\n",
       "        vertical-align: top;\n",
       "    }\n",
       "\n",
       "    .dataframe thead th {\n",
       "        text-align: right;\n",
       "    }\n",
       "</style>\n",
       "<table border=\"1\" class=\"dataframe\">\n",
       "  <thead>\n",
       "    <tr style=\"text-align: right;\">\n",
       "      <th></th>\n",
       "      <th>2017_SAT_Math</th>\n",
       "      <th>2017_ACT_Math</th>\n",
       "    </tr>\n",
       "  </thead>\n",
       "  <tbody>\n",
       "    <tr>\n",
       "      <th>2017_SAT_Math</th>\n",
       "      <td>1.0000</td>\n",
       "      <td>-0.4205</td>\n",
       "    </tr>\n",
       "    <tr>\n",
       "      <th>2017_ACT_Math</th>\n",
       "      <td>-0.4205</td>\n",
       "      <td>1.0000</td>\n",
       "    </tr>\n",
       "  </tbody>\n",
       "</table>\n",
       "</div>"
      ],
      "text/plain": [
       "               2017_SAT_Math  2017_ACT_Math\n",
       "2017_SAT_Math         1.0000        -0.4205\n",
       "2017_ACT_Math        -0.4205         1.0000"
      ]
     },
     "execution_count": 96,
     "metadata": {},
     "output_type": "execute_result"
    }
   ],
   "source": [
    "final_df[['2017_SAT_Math','2017_ACT_Math']].corr()"
   ]
  },
  {
   "cell_type": "markdown",
   "metadata": {},
   "source": [
    "Answer:\n",
    "\n",
    "Although the correlation of -0.42 shows that there is a weak negative correlation. <br>\n",
    "When we look back at the scatter plot, it doesn't indicate a linear relationship. <br>\n",
    "Without a linear relationship, the correlation doesn't make sense because correlation only applies to linear relationships. <br>\n",
    "Therefore the answer is, No.\n",
    "\n",
    "***\n"
   ]
  },
  {
   "cell_type": "markdown",
   "metadata": {},
   "source": [
    "#### Statistical Evaluation of Distributions \n",
    "\n",
    "**If you feel it's appropriate**, using methods we discussed in class, run hypothesis tests to compare variables of interest in our dataset. "
   ]
  },
  {
   "cell_type": "markdown",
   "metadata": {},
   "source": [
    "H0: mean ACT participation = mean SAT participation <br>\n",
    "HA: mean ACT participation != mean SAT participation\n",
    "\n",
    "Significance level α=0.05 Assuming the variables are independent."
   ]
  },
  {
   "cell_type": "code",
   "execution_count": 97,
   "metadata": {},
   "outputs": [
    {
     "data": {
      "text/plain": [
       "Ttest_indResult(statistic=-3.8085778908170544, pvalue=0.00024134203698662353)"
      ]
     },
     "execution_count": 97,
     "metadata": {},
     "output_type": "execute_result"
    }
   ],
   "source": [
    "# T-Test\n",
    "stats.ttest_ind(final_df['2017_SAT_Participation'], final_df['2017_ACT_Participation'])"
   ]
  },
  {
   "cell_type": "markdown",
   "metadata": {},
   "source": [
    "pvalue < α=0.05, therefore we can reject H0\n",
    "***"
   ]
  },
  {
   "cell_type": "markdown",
   "metadata": {},
   "source": [
    "## Outside Research"
   ]
  },
  {
   "cell_type": "markdown",
   "metadata": {},
   "source": [
    "Based upon your observations, choose **three** states that demonstrate interesting trends in their SAT and/or ACT participation rates. Spend some time doing outside research on state policies that might influence these rates, and summarize your findings below. **Feel free to go back and create new plots that highlight these states of interest**. If you bring in any outside tables or charts, make sure you are explicit about having borrowed them. If you quote any text, make sure that it renders as being quoted. (Make sure that you cite your sources -- check with you local instructor for citation preferences)."
   ]
  },
  {
   "cell_type": "code",
   "execution_count": 98,
   "metadata": {
    "scrolled": false
   },
   "outputs": [
    {
     "data": {
      "text/html": [
       "<div>\n",
       "<style scoped>\n",
       "    .dataframe tbody tr th:only-of-type {\n",
       "        vertical-align: middle;\n",
       "    }\n",
       "\n",
       "    .dataframe tbody tr th {\n",
       "        vertical-align: top;\n",
       "    }\n",
       "\n",
       "    .dataframe thead th {\n",
       "        text-align: right;\n",
       "    }\n",
       "</style>\n",
       "<table border=\"1\" class=\"dataframe\">\n",
       "  <thead>\n",
       "    <tr style=\"text-align: right;\">\n",
       "      <th></th>\n",
       "      <th>2017_SAT_Participation</th>\n",
       "      <th>2018_SAT_Participation</th>\n",
       "      <th>2017_ACT_Participation</th>\n",
       "      <th>2018_ACT_Participation</th>\n",
       "    </tr>\n",
       "    <tr>\n",
       "      <th>State</th>\n",
       "      <th></th>\n",
       "      <th></th>\n",
       "      <th></th>\n",
       "      <th></th>\n",
       "    </tr>\n",
       "  </thead>\n",
       "  <tbody>\n",
       "    <tr>\n",
       "      <th>Iowa</th>\n",
       "      <td>2</td>\n",
       "      <td>3</td>\n",
       "      <td>67</td>\n",
       "      <td>68</td>\n",
       "    </tr>\n",
       "    <tr>\n",
       "      <th>New Mexico</th>\n",
       "      <td>11</td>\n",
       "      <td>16</td>\n",
       "      <td>66</td>\n",
       "      <td>67</td>\n",
       "    </tr>\n",
       "    <tr>\n",
       "      <th>West Virginia</th>\n",
       "      <td>14</td>\n",
       "      <td>28</td>\n",
       "      <td>69</td>\n",
       "      <td>65</td>\n",
       "    </tr>\n",
       "  </tbody>\n",
       "</table>\n",
       "</div>"
      ],
      "text/plain": [
       "               2017_SAT_Participation  2018_SAT_Participation  \\\n",
       "State                                                           \n",
       "Iowa                                2                       3   \n",
       "New Mexico                         11                      16   \n",
       "West Virginia                      14                      28   \n",
       "\n",
       "               2017_ACT_Participation  2018_ACT_Participation  \n",
       "State                                                          \n",
       "Iowa                               67                      68  \n",
       "New Mexico                         66                      67  \n",
       "West Virginia                      69                      65  "
      ]
     },
     "execution_count": 98,
     "metadata": {},
     "output_type": "execute_result"
    }
   ],
   "source": [
    "# list of ACT and SAT states taken from https://www.testive.com/state-sat-act/\n",
    "act_states = ['Alabama', 'Hawaii', 'Idaho', 'Kentucky', 'Louisiana', \\\n",
    "              'Mississippi', 'Missouri', 'Montana', 'Nebraska', 'Nevada', \\\n",
    "              'North Carolina', 'North Dakota', 'Ohio', 'South Carolina', \\\n",
    "              'Tennessee', 'Utah', 'Wisconsin', 'Wyoming' ]\n",
    "\n",
    "sat_states = ['Colorado', 'Connecticut', 'Delaware', 'District of Columbia', \\\n",
    "              'Idaho', 'Illinois', 'Maine', 'Michigan', \\\n",
    "              'New Hampshire', 'Ohio', 'Tennessee' ]\n",
    "\n",
    "# filter out ACT mandated states \n",
    "state_part = final_df[(~final_df['State'].isin(act_states)) & (~final_df['State'].isin(sat_states))].copy()\n",
    "# filter other columns except participation rates\n",
    "state_part = state_part[['State', '2017_SAT_Participation', '2018_SAT_Participation',\\\n",
    "                         '2017_ACT_Participation', '2018_ACT_Participation']]\n",
    "\n",
    "# Look at states with SAT participation rate below 20% and\n",
    "# ACT participation rate below 70%\n",
    "state_part = state_part.set_index('State')\n",
    "state_part[(state_part['2017_SAT_Participation']<20) &\\\n",
    "           (state_part['2018_ACT_Participation']<70)]\\\n",
    "            .sort_values('2017_SAT_Participation')"
   ]
  },
  {
   "cell_type": "markdown",
   "metadata": {},
   "source": [
    "## Conclusions and Recommendations"
   ]
  },
  {
   "cell_type": "markdown",
   "metadata": {},
   "source": [
    "Based on your exploration of the data, what are you key takeaways and recommendations? Choose one state with a lower participation rate and provide a suggestion for how the College Board might increase participation amongst graduating seniors in this state. Are there additional data you desire that would better inform your investigations?"
   ]
  },
  {
   "cell_type": "markdown",
   "metadata": {},
   "source": [
    "\n",
    "\n",
    "### Identifying Target State for SAT Growth\n",
    "\n",
    "Out of the 3 states identified in the previous section, West Virginia would be one state for College Board to focus on.\n",
    "Reason is that West Virginia has mandated SAT test as of 2017, but the participation rate is still very low.\n",
    "With SAT as the mandated test, it does give this state a lot of potential to increase.\n",
    "\n",
    "##### Possible ways to improve participation rate\n",
    "- Mandating the completion of SAT for all high school students.\n",
    "- Fee Waivers to cover test registration costs\n",
    "- \"SAT School Day\" to make student participation as convenient as possible.\n",
    "\n",
    "***\n",
    "\n"
   ]
  },
  {
   "cell_type": "code",
   "execution_count": null,
   "metadata": {},
   "outputs": [],
   "source": []
  }
 ],
 "metadata": {
  "anaconda-cloud": {},
  "kernelspec": {
   "display_name": "Python 3",
   "language": "python",
   "name": "python3"
  },
  "language_info": {
   "codemirror_mode": {
    "name": "ipython",
    "version": 3
   },
   "file_extension": ".py",
   "mimetype": "text/x-python",
   "name": "python",
   "nbconvert_exporter": "python",
   "pygments_lexer": "ipython3",
   "version": "3.7.6"
  },
  "varInspector": {
   "cols": {
    "lenName": 16,
    "lenType": 16,
    "lenVar": 40
   },
   "kernels_config": {
    "python": {
     "delete_cmd_postfix": "",
     "delete_cmd_prefix": "del ",
     "library": "var_list.py",
     "varRefreshCmd": "print(var_dic_list())"
    },
    "r": {
     "delete_cmd_postfix": ") ",
     "delete_cmd_prefix": "rm(",
     "library": "var_list.r",
     "varRefreshCmd": "cat(var_dic_list()) "
    }
   },
   "types_to_exclude": [
    "module",
    "function",
    "builtin_function_or_method",
    "instance",
    "_Feature"
   ],
   "window_display": false
  }
 },
 "nbformat": 4,
 "nbformat_minor": 2
}
